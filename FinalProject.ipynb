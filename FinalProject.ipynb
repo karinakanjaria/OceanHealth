{
 "cells": [
  {
   "cell_type": "markdown",
   "id": "fceedc51-b906-4aad-ae24-922401a8a6ca",
   "metadata": {
    "tags": []
   },
   "source": [
    "# CalCOFI\n",
    "### Over 60 years of oceanographic data\n",
    "#### Dataset: https://www.kaggle.com/datasets/sohier/calcofi\n",
    "#### Table Info: https://calcofi.org/data/oceanographic-data/bottle-database/"
   ]
  },
  {
   "cell_type": "markdown",
   "id": "29acbab4-a9db-4185-acc5-ca30d8529331",
   "metadata": {},
   "source": [
    "## EDA and Data Preparation"
   ]
  },
  {
   "cell_type": "markdown",
   "id": "aa9f2d50-db24-4988-852b-803f9f4c1cb2",
   "metadata": {
    "tags": []
   },
   "source": [
    "#### Load Data"
   ]
  },
  {
   "cell_type": "code",
   "execution_count": 1,
   "id": "157f41db-c8b0-4f58-b55c-ea8902313802",
   "metadata": {
    "tags": []
   },
   "outputs": [
    {
     "name": "stderr",
     "output_type": "stream",
     "text": [
      "WARNING: An illegal reflective access operation has occurred\n",
      "WARNING: Illegal reflective access by org.apache.spark.unsafe.Platform (file:/usr/spark-3.2.1/jars/spark-unsafe_2.12-3.2.1.jar) to constructor java.nio.DirectByteBuffer(long,int)\n",
      "WARNING: Please consider reporting this to the maintainers of org.apache.spark.unsafe.Platform\n",
      "WARNING: Use --illegal-access=warn to enable warnings of further illegal reflective access operations\n",
      "WARNING: All illegal access operations will be denied in a future release\n",
      "Setting default log level to \"WARN\".\n",
      "To adjust logging level use sc.setLogLevel(newLevel). For SparkR, use setLogLevel(newLevel).\n",
      "2022-05-20 19:39:23,930 WARN util.NativeCodeLoader: Unable to load native-hadoop library for your platform... using builtin-java classes where applicable\n"
     ]
    },
    {
     "data": {
      "text/plain": [
       "'3.2.1'"
      ]
     },
     "execution_count": 1,
     "metadata": {},
     "output_type": "execute_result"
    }
   ],
   "source": [
    "''' Loading in spark '''\n",
    "import pyspark\n",
    "from pyspark.sql import SparkSession\n",
    "\n",
    "conf = pyspark.SparkConf().setAll([\n",
    "    ('spark.master', 'local[1]'), \n",
    "    ('spark.app.name', 'App Name')])\n",
    "    \n",
    "spark = SparkSession.builder.config(conf=conf).getOrCreate()\n",
    "spark.version"
   ]
  },
  {
   "cell_type": "code",
   "execution_count": 2,
   "id": "b8f6f5c2-1440-4cf2-9cae-ab3c320a4a8f",
   "metadata": {},
   "outputs": [
    {
     "name": "stderr",
     "output_type": "stream",
     "text": [
      "2022-05-20 19:39:38,465 WARN util.package: Truncated the string representation of a plan since it was too large. This behavior can be adjusted by setting 'spark.sql.debug.maxToStringFields'.\n",
      "[Stage 2:=============================>                             (1 + 1) / 2]\r"
     ]
    },
    {
     "name": "stdout",
     "output_type": "stream",
     "text": [
      "There are 864863 rows in the initial dataframe\n"
     ]
    },
    {
     "name": "stderr",
     "output_type": "stream",
     "text": [
      "                                                                                \r"
     ]
    }
   ],
   "source": [
    "''' Read the data '''\n",
    "bottle = spark.read.csv(\"hdfs:///bottle.csv\", header=True, inferSchema=True).cache() ##leslie's path\n",
    "# bottle = spark.read.csv(\"file:///home/work/Final/data/bottle.csv\", header=True).cache() ##karina's path\n",
    "maxRows = bottle.count()\n",
    "print(\"There are\", maxRows, \"rows in the initial dataframe\")"
   ]
  },
  {
   "cell_type": "raw",
   "id": "0163fbfd-b9e6-4004-9676-c5c251e35e11",
   "metadata": {},
   "source": [
    "cast = spark.read.csv(\"file:///home/work/Final/data/cast.csv\", header=True, inferSchema=True).cache()\n",
    "cast.count()"
   ]
  },
  {
   "cell_type": "code",
   "execution_count": 3,
   "id": "a5b549a1-17a7-4e3c-b00e-44d029c5651e",
   "metadata": {},
   "outputs": [
    {
     "name": "stdout",
     "output_type": "stream",
     "text": [
      "There are 74 columns in the initial dataframe\n",
      "root\n",
      " |-- Cst_Cnt: integer (nullable = true)\n",
      " |-- Btl_Cnt: integer (nullable = true)\n",
      " |-- Sta_ID: string (nullable = true)\n",
      " |-- Depth_ID: string (nullable = true)\n",
      " |-- Depthm: integer (nullable = true)\n",
      " |-- T_degC: double (nullable = true)\n",
      " |-- Salnty: double (nullable = true)\n",
      " |-- O2ml_L: double (nullable = true)\n",
      " |-- STheta: double (nullable = true)\n",
      " |-- O2Sat: double (nullable = true)\n",
      " |-- Oxy_µmol/Kg: double (nullable = true)\n",
      " |-- BtlNum: integer (nullable = true)\n",
      " |-- RecInd: integer (nullable = true)\n",
      " |-- T_prec: integer (nullable = true)\n",
      " |-- T_qual: integer (nullable = true)\n",
      " |-- S_prec: integer (nullable = true)\n",
      " |-- S_qual: integer (nullable = true)\n",
      " |-- P_qual: integer (nullable = true)\n",
      " |-- O_qual: integer (nullable = true)\n",
      " |-- SThtaq: integer (nullable = true)\n",
      " |-- O2Satq: integer (nullable = true)\n",
      " |-- ChlorA: double (nullable = true)\n",
      " |-- Chlqua: integer (nullable = true)\n",
      " |-- Phaeop: double (nullable = true)\n",
      " |-- Phaqua: integer (nullable = true)\n",
      " |-- PO4uM: double (nullable = true)\n",
      " |-- PO4q: integer (nullable = true)\n",
      " |-- SiO3uM: double (nullable = true)\n",
      " |-- SiO3qu: integer (nullable = true)\n",
      " |-- NO2uM: double (nullable = true)\n",
      " |-- NO2q: integer (nullable = true)\n",
      " |-- NO3uM: double (nullable = true)\n",
      " |-- NO3q: integer (nullable = true)\n",
      " |-- NH3uM: double (nullable = true)\n",
      " |-- NH3q: integer (nullable = true)\n",
      " |-- C14As1: double (nullable = true)\n",
      " |-- C14A1p: integer (nullable = true)\n",
      " |-- C14A1q: integer (nullable = true)\n",
      " |-- C14As2: double (nullable = true)\n",
      " |-- C14A2p: integer (nullable = true)\n",
      " |-- C14A2q: integer (nullable = true)\n",
      " |-- DarkAs: double (nullable = true)\n",
      " |-- DarkAp: integer (nullable = true)\n",
      " |-- DarkAq: integer (nullable = true)\n",
      " |-- MeanAs: double (nullable = true)\n",
      " |-- MeanAp: integer (nullable = true)\n",
      " |-- MeanAq: integer (nullable = true)\n",
      " |-- IncTim: string (nullable = true)\n",
      " |-- LightP: double (nullable = true)\n",
      " |-- R_Depth: double (nullable = true)\n",
      " |-- R_TEMP: double (nullable = true)\n",
      " |-- R_POTEMP: double (nullable = true)\n",
      " |-- R_SALINITY: double (nullable = true)\n",
      " |-- R_SIGMA: double (nullable = true)\n",
      " |-- R_SVA: double (nullable = true)\n",
      " |-- R_DYNHT: double (nullable = true)\n",
      " |-- R_O2: double (nullable = true)\n",
      " |-- R_O2Sat: double (nullable = true)\n",
      " |-- R_SIO3: double (nullable = true)\n",
      " |-- R_PO4: double (nullable = true)\n",
      " |-- R_NO3: double (nullable = true)\n",
      " |-- R_NO2: double (nullable = true)\n",
      " |-- R_NH4: double (nullable = true)\n",
      " |-- R_CHLA: double (nullable = true)\n",
      " |-- R_PHAEO: double (nullable = true)\n",
      " |-- R_PRES: integer (nullable = true)\n",
      " |-- R_SAMP: integer (nullable = true)\n",
      " |-- DIC1: double (nullable = true)\n",
      " |-- DIC2: double (nullable = true)\n",
      " |-- TA1: double (nullable = true)\n",
      " |-- TA2: double (nullable = true)\n",
      " |-- pH2: double (nullable = true)\n",
      " |-- pH1: double (nullable = true)\n",
      " |-- DIC Quality Comment: string (nullable = true)\n",
      "\n"
     ]
    }
   ],
   "source": [
    "''' View the inferred schema '''\n",
    "print(\"There are\", len(bottle.columns), \"columns in the initial dataframe\")\n",
    "bottle.printSchema()"
   ]
  },
  {
   "cell_type": "raw",
   "id": "fee33de5-2262-4daa-b0d9-7a8e6a8f88a0",
   "metadata": {
    "tags": []
   },
   "source": [
    "cast.printSchema()"
   ]
  },
  {
   "cell_type": "code",
   "execution_count": 4,
   "id": "2f9c310a-7bc4-42ed-9e77-08c50a638897",
   "metadata": {
    "tags": []
   },
   "outputs": [
    {
     "name": "stdout",
     "output_type": "stream",
     "text": [
      "+-------+-------+-----------+--------------------+------+------+------+------+------+-----+-----------+------+------+------+------+------+------+------+------+------+------+------+------+------+------+-----+----+------+------+-----+----+-----+----+-----+----+------+------+------+------+------+------+------+------+------+------+------+------+------+------+-------+------+--------+----------+-------+-----+-------+----+-------+------+-----+-----+-----+-----+------+-------+------+------+----+----+----+----+----+----+-------------------+\n",
      "|Cst_Cnt|Btl_Cnt|     Sta_ID|            Depth_ID|Depthm|T_degC|Salnty|O2ml_L|STheta|O2Sat|Oxy_µmol/Kg|BtlNum|RecInd|T_prec|T_qual|S_prec|S_qual|P_qual|O_qual|SThtaq|O2Satq|ChlorA|Chlqua|Phaeop|Phaqua|PO4uM|PO4q|SiO3uM|SiO3qu|NO2uM|NO2q|NO3uM|NO3q|NH3uM|NH3q|C14As1|C14A1p|C14A1q|C14As2|C14A2p|C14A2q|DarkAs|DarkAp|DarkAq|MeanAs|MeanAp|MeanAq|IncTim|LightP|R_Depth|R_TEMP|R_POTEMP|R_SALINITY|R_SIGMA|R_SVA|R_DYNHT|R_O2|R_O2Sat|R_SIO3|R_PO4|R_NO3|R_NO2|R_NH4|R_CHLA|R_PHAEO|R_PRES|R_SAMP|DIC1|DIC2| TA1| TA2| pH2| pH1|DIC Quality Comment|\n",
      "+-------+-------+-----------+--------------------+------+------+------+------+------+-----+-----------+------+------+------+------+------+------+------+------+------+------+------+------+------+------+-----+----+------+------+-----+----+-----+----+-----+----+------+------+------+------+------+------+------+------+------+------+------+------+------+------+-------+------+--------+----------+-------+-----+-------+----+-------+------+-----+-----+-----+-----+------+-------+------+------+----+----+----+----+----+----+-------------------+\n",
      "|      1|      1|054.0 056.0|19-4903CR-HY-060-...|     0|  10.5| 33.44|  null|25.649| null|       null|  null|     3|     1|  null|     2|  null|     9|     9|  null|     9|  null|     9|  null|     9| null|   9|  null|     9| null|   9| null|   9| null|   9|  null|  null|     9|  null|  null|     9|  null|  null|     9|  null|  null|     9|  null|  null|    0.0|  10.5|    10.5|     33.44|  25.64|233.0|    0.0|null|   null|  null| null| null| null| null|  null|   null|     0|  null|null|null|null|null|null|null|               null|\n",
      "|      1|      2|054.0 056.0|19-4903CR-HY-060-...|     8| 10.46| 33.44|  null|25.656| null|       null|  null|     3|     2|  null|     2|  null|     9|     9|  null|     9|  null|     9|  null|     9| null|   9|  null|     9| null|   9| null|   9| null|   9|  null|  null|     9|  null|  null|     9|  null|  null|     9|  null|  null|     9|  null|  null|    8.0| 10.46|   10.46|     33.44|  25.65|232.5|   0.01|null|   null|  null| null| null| null| null|  null|   null|     8|  null|null|null|null|null|null|null|               null|\n",
      "+-------+-------+-----------+--------------------+------+------+------+------+------+-----+-----------+------+------+------+------+------+------+------+------+------+------+------+------+------+------+-----+----+------+------+-----+----+-----+----+-----+----+------+------+------+------+------+------+------+------+------+------+------+------+------+------+-------+------+--------+----------+-------+-----+-------+----+-------+------+-----+-----+-----+-----+------+-------+------+------+----+----+----+----+----+----+-------------------+\n",
      "only showing top 2 rows\n",
      "\n"
     ]
    }
   ],
   "source": [
    "''' See a snippet of what this dataframe looks like '''\n",
    "bottle.show(2)"
   ]
  },
  {
   "cell_type": "raw",
   "id": "d731aee0-1092-48a2-bd5e-dc2cb32fbbd3",
   "metadata": {
    "tags": []
   },
   "source": [
    "cast.show(2)"
   ]
  },
  {
   "cell_type": "markdown",
   "id": "f8bd0c64-b9f9-4bc2-9ca0-43c52572cd5d",
   "metadata": {
    "tags": []
   },
   "source": [
    "#### Remove columns that are not needed"
   ]
  },
  {
   "cell_type": "markdown",
   "id": "a9298c03-b355-4f8c-b8c1-3637564128c1",
   "metadata": {
    "tags": []
   },
   "source": [
    "Removing the four string columns because they aren't useful for our purposes\n",
    "* Sta_ID: Line and Station\n",
    "* Depth_ID: Uses the Cast_ID prefix ([Century]-[Year][Month][ShipCode]-[CastType][Julian Day]-[CastTime]-[Line][Sta]) but adds three additional variables: [Depth][Bottle]-[Rec_Ind]\n",
    "* IncTim: Elapsed incubation time of the primary productivity experiment\n",
    "* DIC Quality Comment: Quality Comment\n",
    "\n",
    "Also removing the Cast and Bottle counts, which are essentially indexes (identifiers)\n",
    "* 'Cst_Cnt': Auto-numbered Cast Count - all casts consecutively numbered. 1 is first station done\n",
    "* 'Btl_Cnt': Auto-numbered Bottle count- all bottles ever sampled, consecutively numbered\n",
    "* 'BtlNum': Bottle Number"
   ]
  },
  {
   "cell_type": "code",
   "execution_count": 5,
   "id": "3cb638b3-e274-43c1-9ccb-10556b29e96c",
   "metadata": {
    "tags": []
   },
   "outputs": [
    {
     "name": "stdout",
     "output_type": "stream",
     "text": [
      "There are now 67 columns and 864863 rows\n",
      "+------+------+------+------+------+-----+-----------+------+------+------+------+------+------+------+------+------+------+------+------+------+-----+----+------+------+-----+----+-----+----+-----+----+------+------+------+------+------+------+------+------+------+------+------+------+------+-------+------+--------+----------+-------+-----+-------+----+-------+------+-----+-----+-----+-----+------+-------+------+------+----+----+----+----+----+----+\n",
      "|Depthm|T_degC|Salnty|O2ml_L|STheta|O2Sat|Oxy_µmol/Kg|RecInd|T_prec|T_qual|S_prec|S_qual|P_qual|O_qual|SThtaq|O2Satq|ChlorA|Chlqua|Phaeop|Phaqua|PO4uM|PO4q|SiO3uM|SiO3qu|NO2uM|NO2q|NO3uM|NO3q|NH3uM|NH3q|C14As1|C14A1p|C14A1q|C14As2|C14A2p|C14A2q|DarkAs|DarkAp|DarkAq|MeanAs|MeanAp|MeanAq|LightP|R_Depth|R_TEMP|R_POTEMP|R_SALINITY|R_SIGMA|R_SVA|R_DYNHT|R_O2|R_O2Sat|R_SIO3|R_PO4|R_NO3|R_NO2|R_NH4|R_CHLA|R_PHAEO|R_PRES|R_SAMP|DIC1|DIC2|TA1 |TA2 |pH2 |pH1 |\n",
      "+------+------+------+------+------+-----+-----------+------+------+------+------+------+------+------+------+------+------+------+------+------+-----+----+------+------+-----+----+-----+----+-----+----+------+------+------+------+------+------+------+------+------+------+------+------+------+-------+------+--------+----------+-------+-----+-------+----+-------+------+-----+-----+-----+-----+------+-------+------+------+----+----+----+----+----+----+\n",
      "|0     |10.5  |33.44 |null  |25.649|null |null       |3     |1     |null  |2     |null  |9     |9     |null  |9     |null  |9     |null  |9     |null |9   |null  |9     |null |9   |null |9   |null |9   |null  |null  |9     |null  |null  |9     |null  |null  |9     |null  |null  |9     |null  |0.0    |10.5  |10.5    |33.44     |25.64  |233.0|0.0    |null|null   |null  |null |null |null |null |null  |null   |0     |null  |null|null|null|null|null|null|\n",
      "|8     |10.46 |33.44 |null  |25.656|null |null       |3     |2     |null  |2     |null  |9     |9     |null  |9     |null  |9     |null  |9     |null |9   |null  |9     |null |9   |null |9   |null |9   |null  |null  |9     |null  |null  |9     |null  |null  |9     |null  |null  |9     |null  |8.0    |10.46 |10.46   |33.44     |25.65  |232.5|0.01   |null|null   |null  |null |null |null |null |null  |null   |8     |null  |null|null|null|null|null|null|\n",
      "+------+------+------+------+------+-----+-----------+------+------+------+------+------+------+------+------+------+------+------+------+------+-----+----+------+------+-----+----+-----+----+-----+----+------+------+------+------+------+------+------+------+------+------+------+------+------+-------+------+--------+----------+-------+-----+-------+----+-------+------+-----+-----+-----+-----+------+-------+------+------+----+----+----+----+----+----+\n",
      "only showing top 2 rows\n",
      "\n"
     ]
    }
   ],
   "source": [
    "''' Dropping unneeded columns and viewing two rows of the resulting dataframe '''\n",
    "deleteList1 = [\"Sta_ID\",\"Depth_ID\",\"IncTim\",\"DIC Quality Comment\",\"Cst_Cnt\",\"Btl_Cnt\",\"BtlNum\"]\n",
    "bottle = bottle.drop(*deleteList1)\n",
    "\n",
    "print(\"There are now\", len(bottle.columns), \"columns and\", bottle.count(), \"rows\")\n",
    "bottle.show(2, truncate=False)"
   ]
  },
  {
   "cell_type": "markdown",
   "id": "19572ed7-aa1b-49f4-ac37-5dd68db3a20c",
   "metadata": {
    "tags": []
   },
   "source": [
    "#### Handle quality values"
   ]
  },
  {
   "cell_type": "markdown",
   "id": "6d923432-39d4-48f2-a991-c38d8c750408",
   "metadata": {},
   "source": [
    "Removing the four columns indicating quality codes because we're using the quantity measurements instead\n",
    "* T_qual: Temperature Quality Code\n",
    "* S_qual: Salinity Quality Code\n",
    "* P_qual: Pressure Quality Code\n",
    "* O_qual: Oxygen Quality Code\n",
    "* 'O2Satq': Oxygen Saturation Quality Code\n",
    "* 'Chlqua': Chlorophyll-a Quality Code\n",
    "* 'Phaeop': Phaeophytin Quality Code\n",
    "* 'Phaqua': Phosphate Quality Code\n",
    "* 'PO4uM': Salinity Quality Code\n",
    "* 'PO4q': Phosphate Quality Code\n",
    "* 'SiO3qu': Quality Code\n",
    "* 'NO2q': Quality Code\n",
    "* 'NO3q': Nitrate Quality Code\n",
    "* 'NH3q': Ammonium Quality Code\n",
    "* 'C14A1q': 14C As1 Quality Code\n",
    "* 'C14A2q': 14C As2 Quality Code\n",
    "* 'DarkAq': 14C Assimilation Dark Bottle Quality Code\n",
    "* 'MeanAq': Mean 14C Assimilation Quality Code"
   ]
  },
  {
   "cell_type": "code",
   "execution_count": 6,
   "id": "4133d539-b5c4-40e5-bd19-f832f93d548b",
   "metadata": {
    "tags": []
   },
   "outputs": [
    {
     "name": "stdout",
     "output_type": "stream",
     "text": [
      "There are now 49 columns and 864863 rows\n",
      "+------+------+------+------+------+-----+-----------+------+------+------+------+------+------+-----+-----+-----+------+------+------+------+------+------+------+------+------+-------+------+--------+----------+-------+-----+-------+----+-------+------+-----+-----+-----+-----+------+-------+------+------+----+----+----+----+----+----+\n",
      "|Depthm|T_degC|Salnty|O2ml_L|STheta|O2Sat|Oxy_µmol/Kg|RecInd|T_prec|S_prec|SThtaq|ChlorA|SiO3uM|NO2uM|NO3uM|NH3uM|C14As1|C14A1p|C14As2|C14A2p|DarkAs|DarkAp|MeanAs|MeanAp|LightP|R_Depth|R_TEMP|R_POTEMP|R_SALINITY|R_SIGMA|R_SVA|R_DYNHT|R_O2|R_O2Sat|R_SIO3|R_PO4|R_NO3|R_NO2|R_NH4|R_CHLA|R_PHAEO|R_PRES|R_SAMP|DIC1|DIC2|TA1 |TA2 |pH2 |pH1 |\n",
      "+------+------+------+------+------+-----+-----------+------+------+------+------+------+------+-----+-----+-----+------+------+------+------+------+------+------+------+------+-------+------+--------+----------+-------+-----+-------+----+-------+------+-----+-----+-----+-----+------+-------+------+------+----+----+----+----+----+----+\n",
      "|0     |10.5  |33.44 |null  |25.649|null |null       |3     |1     |2     |null  |null  |null  |null |null |null |null  |null  |null  |null  |null  |null  |null  |null  |null  |0.0    |10.5  |10.5    |33.44     |25.64  |233.0|0.0    |null|null   |null  |null |null |null |null |null  |null   |0     |null  |null|null|null|null|null|null|\n",
      "|8     |10.46 |33.44 |null  |25.656|null |null       |3     |2     |2     |null  |null  |null  |null |null |null |null  |null  |null  |null  |null  |null  |null  |null  |null  |8.0    |10.46 |10.46   |33.44     |25.65  |232.5|0.01   |null|null   |null  |null |null |null |null |null  |null   |8     |null  |null|null|null|null|null|null|\n",
      "+------+------+------+------+------+-----+-----------+------+------+------+------+------+------+-----+-----+-----+------+------+------+------+------+------+------+------+------+-------+------+--------+----------+-------+-----+-------+----+-------+------+-----+-----+-----+-----+------+-------+------+------+----+----+----+----+----+----+\n",
      "only showing top 2 rows\n",
      "\n"
     ]
    }
   ],
   "source": [
    "''' Dropping quality/irrelevant columns and viewing two rows of the resulting dataframe '''\n",
    "deleteList2 = ['T_qual','S_qual','P_qual','O_qual','O2Satq','Chlqua','Phaeop','Phaqua','PO4uM','PO4q','SiO3qu','NO2q','NO3q','NH3q','C14A1q','C14A2q','DarkAq','MeanAq']\n",
    "bottle = bottle.drop(*deleteList2)\n",
    "\n",
    "print(\"There are now\", len(bottle.columns), \"columns and\", bottle.count(), \"rows\")\n",
    "bottle.show(2, truncate=False)"
   ]
  },
  {
   "cell_type": "markdown",
   "id": "62375da2-864f-4965-a91d-17f5a6bb64bd",
   "metadata": {
    "tags": []
   },
   "source": [
    "#### Remove columns with low data count"
   ]
  },
  {
   "cell_type": "markdown",
   "id": "c6515f03-4e87-44f3-8a90-19d8e0da5877",
   "metadata": {},
   "source": [
    "We start by counting the number of NaNs and nulls in each column and reporting them in a new dataframe. Then the columns with less than 200,000 non-nulls are deleted."
   ]
  },
  {
   "cell_type": "code",
   "execution_count": 7,
   "id": "d0e938fa-d0dd-4b66-a91b-9455da02f343",
   "metadata": {
    "tags": []
   },
   "outputs": [
    {
     "name": "stderr",
     "output_type": "stream",
     "text": [
      "[Stage 14:=============================>                            (1 + 1) / 2]\r"
     ]
    },
    {
     "name": "stdout",
     "output_type": "stream",
     "text": [
      "+------+------+------+------+------+------+-----------+------+------+------+------+------+------+------+------+------+------+------+------+------+------+------+------+------+------+-------+------+--------+----------+-------+-----+-------+------+-------+------+------+------+------+------+------+-------+------+------+------+------+------+------+------+------+\n",
      "|Depthm|T_degC|Salnty|O2ml_L|STheta| O2Sat|Oxy_µmol/Kg|RecInd|T_prec|S_prec|SThtaq|ChlorA|SiO3uM| NO2uM| NO3uM| NH3uM|C14As1|C14A1p|C14As2|C14A2p|DarkAs|DarkAp|MeanAs|MeanAp|LightP|R_Depth|R_TEMP|R_POTEMP|R_SALINITY|R_SIGMA|R_SVA|R_DYNHT|  R_O2|R_O2Sat|R_SIO3| R_PO4| R_NO3| R_NO2| R_NH4|R_CHLA|R_PHAEO|R_PRES|R_SAMP|  DIC1|  DIC2|   TA1|   TA2|   pH2|   pH1|\n",
      "+------+------+------+------+------+------+-----------+------+------+------+------+------+------+------+------+------+------+------+------+------+------+------+------+------+------+-------+------+--------+----------+-------+-----+-------+------+-------+------+------+------+------+------+------+-------+------+------+------+------+------+------+------+------+\n",
      "|     0| 10963| 47354|168662| 52689|203589|     203595|     0| 10963| 47354|799040|639591|510772|527287|527460|799901|850431|852103|850449|852121|842214|844406|842213|844406|846212|      0| 10963|   46047|     47354|  52856|52771|  46657|168662| 198415|510764|451538|527452|527279|799881|639587| 639588|     0|742857|862864|864639|862779|864629|864853|864779|\n",
      "+------+------+------+------+------+------+-----------+------+------+------+------+------+------+------+------+------+------+------+------+------+------+------+------+------+------+-------+------+--------+----------+-------+-----+-------+------+-------+------+------+------+------+------+------+-------+------+------+------+------+------+------+------+------+\n",
      "\n"
     ]
    },
    {
     "name": "stderr",
     "output_type": "stream",
     "text": [
      "                                                                                \r"
     ]
    }
   ],
   "source": [
    "''' Counting the number of null/NaN rows per column and outputting that in a new dataframe '''\n",
    "from pyspark.sql.functions import *\n",
    "\n",
    "def getNullCounts(df):\n",
    "    return df.select([count(when(isnan(c) | col(c).isNull(), c)).alias(c) for c in bottle.columns])\n",
    "\n",
    "nullCounter = getNullCounts(bottle)\n",
    "nullCounter.show()"
   ]
  },
  {
   "cell_type": "code",
   "execution_count": 8,
   "id": "430a2382-c5b9-4bbb-8e22-5492374522e7",
   "metadata": {
    "tags": []
   },
   "outputs": [
    {
     "name": "stdout",
     "output_type": "stream",
     "text": [
      "There are now 30 columns and 864863 rows\n",
      "+------+------+------+------+------+-----+-----------+------+------+------+------+------+-----+-----+-------+------+--------+----------+-------+-----+-------+----+-------+------+-----+-----+-----+------+-------+------+\n",
      "|Depthm|T_degC|Salnty|O2ml_L|STheta|O2Sat|Oxy_µmol/Kg|RecInd|T_prec|S_prec|ChlorA|SiO3uM|NO2uM|NO3uM|R_Depth|R_TEMP|R_POTEMP|R_SALINITY|R_SIGMA|R_SVA|R_DYNHT|R_O2|R_O2Sat|R_SIO3|R_PO4|R_NO3|R_NO2|R_CHLA|R_PHAEO|R_PRES|\n",
      "+------+------+------+------+------+-----+-----------+------+------+------+------+------+-----+-----+-------+------+--------+----------+-------+-----+-------+----+-------+------+-----+-----+-----+------+-------+------+\n",
      "|0     |10.5  |33.44 |null  |25.649|null |null       |3     |1     |2     |null  |null  |null |null |0.0    |10.5  |10.5    |33.44     |25.64  |233.0|0.0    |null|null   |null  |null |null |null |null  |null   |0     |\n",
      "|8     |10.46 |33.44 |null  |25.656|null |null       |3     |2     |2     |null  |null  |null |null |8.0    |10.46 |10.46   |33.44     |25.65  |232.5|0.01   |null|null   |null  |null |null |null |null  |null   |8     |\n",
      "+------+------+------+------+------+-----+-----------+------+------+------+------+------+-----+-----+-------+------+--------+----------+-------+-----+-------+----+-------+------+-----+-----+-----+------+-------+------+\n",
      "only showing top 2 rows\n",
      "\n"
     ]
    }
   ],
   "source": [
    "''' Deleting columns with less than 200000 non-nulls '''\n",
    "thresh = maxRows - 200000\n",
    "deleteList3 = []\n",
    "for value in nullCounter.columns:\n",
    "    if nullCounter.filter(nullCounter[value] > thresh).select(nullCounter[value]).collect():\n",
    "        deleteList3.append(value)\n",
    "bottle = bottle.drop(*deleteList3)\n",
    "\n",
    "print(\"There are now\", len(bottle.columns), \"columns and\", bottle.count(), \"rows\")\n",
    "bottle.show(2, truncate=False)"
   ]
  },
  {
   "cell_type": "markdown",
   "id": "bfde08e1-432b-4709-9333-8fd25af5f2b7",
   "metadata": {
    "tags": []
   },
   "source": [
    "#### Remove null values from chlorophyll column\n",
    "\n",
    "Because this is the target column, we can only use the non-null rows. We also get rid of the duplicate chlorophyll column `ChlorA`, keeping `R_CHLA` because it has less non-null rows (though only by a few)."
   ]
  },
  {
   "cell_type": "code",
   "execution_count": 9,
   "id": "a98682bb-1025-43c0-81af-2cc73a7976f7",
   "metadata": {
    "tags": []
   },
   "outputs": [
    {
     "data": {
      "text/plain": [
       "0.9999995087108701"
      ]
     },
     "execution_count": 9,
     "metadata": {},
     "output_type": "execute_result"
    }
   ],
   "source": [
    "''' Illustrating that we have two target columns that are essentially duplicates of each other '''\n",
    "bottle.corr(\"ChlorA\",\"R_CHLA\")"
   ]
  },
  {
   "cell_type": "markdown",
   "id": "d328e6c2-b8ab-4925-91ef-2b9dcda91f28",
   "metadata": {},
   "source": [
    "Because we only need one of these columns, we can delete the other. Then we drop all null rows of the R_CHLA column since it's our target."
   ]
  },
  {
   "cell_type": "code",
   "execution_count": 10,
   "id": "b0277500-8de6-4881-a7e8-54c87554155c",
   "metadata": {},
   "outputs": [
    {
     "name": "stdout",
     "output_type": "stream",
     "text": [
      "+------+------+\n",
      "|ChlorA|R_CHLA|\n",
      "+------+------+\n",
      "|639591|639587|\n",
      "+------+------+\n",
      "\n"
     ]
    }
   ],
   "source": [
    "''' Looking at which of the two target columns have more NaNs in order to select which to delete '''\n",
    "nullCounter.select(*[\"ChlorA\",\"R_CHLA\"]).show()"
   ]
  },
  {
   "cell_type": "code",
   "execution_count": 11,
   "id": "ab54d498-ec72-4f2d-a48a-3eeaec9ca27c",
   "metadata": {
    "tags": []
   },
   "outputs": [
    {
     "name": "stdout",
     "output_type": "stream",
     "text": [
      "There are now 29 columns and 225276 rows\n",
      "+------+------+------+------+------+-----+-----------+------+------+------+------+-----+-----+-------+------+--------+----------+-------+-----+-------+----+-------+------+-----+-----+-----+------+-------+------+\n",
      "|Depthm|T_degC|Salnty|O2ml_L|STheta|O2Sat|Oxy_µmol/Kg|RecInd|T_prec|S_prec|SiO3uM|NO2uM|NO3uM|R_Depth|R_TEMP|R_POTEMP|R_SALINITY|R_SIGMA|R_SVA|R_DYNHT|R_O2|R_O2Sat|R_SIO3|R_PO4|R_NO3|R_NO2|R_CHLA|R_PHAEO|R_PRES|\n",
      "+------+------+------+------+------+-----+-----------+------+------+------+------+-----+-----+-------+------+--------+----------+-------+-----+-------+----+-------+------+-----+-----+-----+------+-------+------+\n",
      "|0     |19.23 |34.491|5.46  |24.575|103.9|237.9949   |3     |2     |3     |null  |null |1.3  |0.0    |19.23 |19.23   |34.491    |24.57  |335.3|0.0    |5.46|103.9  |null  |null |1.3  |null |0.64  |0.47   |0     |\n",
      "|10    |19.22 |34.492|5.46  |24.578|103.9|237.9942   |3     |2     |3     |null  |null |1.9  |10.0   |19.22 |19.22   |34.492    |24.57  |335.3|0.03   |5.46|103.9  |null  |null |1.9  |null |0.66  |0.38   |10    |\n",
      "+------+------+------+------+------+-----+-----------+------+------+------+------+-----+-----+-------+------+--------+----------+-------+-----+-------+----+-------+------+-----+-----+-----+------+-------+------+\n",
      "only showing top 2 rows\n",
      "\n"
     ]
    }
   ],
   "source": [
    "''' Delete the ChlorA column and drop all NaN rows in the R_CHLA column '''\n",
    "bottle = bottle.drop(\"ChlorA\")\n",
    "bottle = bottle.dropna(subset=\"R_CHLA\")\n",
    "\n",
    "print(\"There are now\", len(bottle.columns), \"columns and\", bottle.count(), \"rows\")\n",
    "bottle.show(2, truncate=False)"
   ]
  },
  {
   "cell_type": "markdown",
   "id": "a6dd094f-0bab-4514-a326-4f022ba8bcd7",
   "metadata": {
    "tags": []
   },
   "source": [
    "#### Remove \"duplicate\" columns"
   ]
  },
  {
   "cell_type": "markdown",
   "id": "4006a902-9bae-4028-ad1e-d101de2c155d",
   "metadata": {},
   "source": [
    "As we can see from the column above, there are some columns that are essentially duplicates of each other but in different units of measurement. Of the remaining columns, here are their descriptions that will help us determine which features to compare for potential deletion:"
   ]
  },
  {
   "cell_type": "code",
   "execution_count": 12,
   "id": "ee57ca67-892e-4b86-a9f6-d1f802d3f6b9",
   "metadata": {
    "tags": []
   },
   "outputs": [
    {
     "name": "stdout",
     "output_type": "stream",
     "text": [
      "['Depthm', 'T_degC', 'Salnty', 'O2ml_L', 'STheta', 'O2Sat', 'Oxy_µmol/Kg', 'RecInd', 'T_prec', 'S_prec', 'SiO3uM', 'NO2uM', 'NO3uM', 'R_Depth', 'R_TEMP', 'R_POTEMP', 'R_SALINITY', 'R_SIGMA', 'R_SVA', 'R_DYNHT', 'R_O2', 'R_O2Sat', 'R_SIO3', 'R_PO4', 'R_NO3', 'R_NO2', 'R_CHLA', 'R_PHAEO', 'R_PRES']\n"
     ]
    }
   ],
   "source": [
    "''' See what columns we still have '''\n",
    "print(bottle.columns)"
   ]
  },
  {
   "cell_type": "markdown",
   "id": "f616a86b-f8a9-4ff9-999e-153f2066520b",
   "metadata": {
    "tags": []
   },
   "source": [
    "Chlorophyll\n",
    "* 'ChlorA': Acetone extracted chlorophyll-a measured fluorometrically\n",
    "* 'R_CHLA': Reported Chlorophyll-a (micrograms per liter)\n",
    "\n",
    "Depth\n",
    "* 'Depthm': Depth in meters\n",
    "* 'R_Depth': Reported Depth (from pressure) in meters\n",
    "\n",
    "Water density\n",
    "* 'STheta': Potential Density of Water\n",
    "* 'R_SIGMA': Reported Potential Density of water\n",
    "\n",
    "Silicate\n",
    "* 'SiO3uM': Micromoles Silicate per liter of seawater\n",
    "* 'R_SIO3': Reported Silicate Concentration\n",
    "\n",
    "Nitrite\n",
    "* 'NO2uM': Micromoles Nitrite per liter of seawater\n",
    "* 'R_NO2': Reported Nitrite Concentration\n",
    "\n",
    "Nitrate\n",
    "* 'NO3uM': Micromoles Nitrate per liter of seawater\n",
    "* 'R_NO3': Reported Nitrate Concentration\n",
    "\n",
    "Salinity\n",
    "* 'Salnty': Practical Salinity Scale, 1978 (UNESCO, 1981a); Salinity of water\n",
    "* 'R_SALINITY': Reported Salinity (from Specific Volume Anomoly, M³/Kg)\n",
    "\n",
    "O2 saturation\n",
    "* 'O2Sat': Percent Saturation; Oxygen Saturation\n",
    "* 'R_O2Sat': Percent\tReported Oxygen Saturation\n",
    "\n",
    "Oxygen\n",
    "* 'O2ml_L': Oxygen in mL/L; Milliliters of dissolved oxygen per Liter seawater\n",
    "* 'Oxy_µmol/Kg': Oxygen in micro moles per kilogram of seawater\n",
    "* 'R_O2': Reported milliliters of oxygen per liter of seawater\n",
    "\n",
    "Temperature\n",
    "* 'T_degC': Temperature of Water\n",
    "* 'R_TEMP': Reported Temperature (Celsius)\n",
    "* 'R_POTEMP': Reported Potential Temperature (Celsius)\n",
    "\n",
    "Other\n",
    "* 'S_prec': Salinity Units of Precision\n",
    "* 'T_prec': Temperature Units of Precision\n",
    "* 'RecInd': Record Indicator\n",
    "* 'R_SVA': Reported Specific Volume Anomaly\n",
    "* 'R_DYNHT': Reported Dynamic Height\n",
    "* 'R_PO4': Reported Phosphate Concentration\n",
    "* 'R_PHAEO': Reported Phaeophytin\n",
    "* 'R_PRES': Pressure in decibars"
   ]
  },
  {
   "cell_type": "code",
   "execution_count": 13,
   "id": "a059ea58-211f-4a60-a723-03b49f2e352f",
   "metadata": {},
   "outputs": [],
   "source": [
    "''' Setting up a function that will streamline the comparing process '''\n",
    "nullCounter = getNullCounts(bottle)\n",
    "\n",
    "def psudoDuplicateCheck(features):\n",
    "    nullCounter.select(*features).show()\n",
    "\n",
    "    if len(features)==2:\n",
    "        print(\"correlation:\", bottle.corr(features[0],features[1]))\n",
    "    elif len(features)==3:\n",
    "        print(\"1&2 correlation:\", bottle.corr(features[0],features[1]))\n",
    "        print(\"2&3 correlation:\", bottle.corr(features[1],features[2]))\n",
    "        print(\"1&3 correlation:\", bottle.corr(features[0],features[2]))"
   ]
  },
  {
   "cell_type": "code",
   "execution_count": 14,
   "id": "bf42d601-24b6-46d8-b169-faef5e0c296a",
   "metadata": {},
   "outputs": [
    {
     "name": "stdout",
     "output_type": "stream",
     "text": [
      "+------+------+------+------+------+-----+-----------+------+------+------+------+-----+-----+-------+------+--------+----------+-------+-----+-------+----+-------+------+-----+-----+-----+------+-------+------+\n",
      "|Depthm|T_degC|Salnty|O2ml_L|STheta|O2Sat|Oxy_µmol/Kg|RecInd|T_prec|S_prec|SiO3uM|NO2uM|NO3uM|R_Depth|R_TEMP|R_POTEMP|R_SALINITY|R_SIGMA|R_SVA|R_DYNHT|R_O2|R_O2Sat|R_SIO3|R_PO4|R_NO3|R_NO2|R_CHLA|R_PHAEO|R_PRES|\n",
      "+------+------+------+------+------+-----+-----------+------+------+------+------+-----+-----+-------+------+--------+----------+-------+-----+-------+----+-------+------+-----+-----+-----+------+-------+------+\n",
      "|     0|  3088|  3433|  3610|  3781| 4500|       4502|     0|  3088|  3433|  8947|14951| 9573|      0|  3088|    3508|      3433|   3655| 3630|   3527|3610|   4352|  8941|10322| 9567|14945|     0|      5|     0|\n",
      "+------+------+------+------+------+-----+-----------+------+------+------+------+-----+-----+-------+------+--------+----------+-------+-----+-------+----+-------+------+-----+-----+-----+------+-------+------+\n",
      "\n"
     ]
    }
   ],
   "source": [
    "nullCounter.show()"
   ]
  },
  {
   "cell_type": "code",
   "execution_count": 15,
   "id": "4da4ea0d-6e66-4001-810f-39161778f484",
   "metadata": {},
   "outputs": [
    {
     "name": "stdout",
     "output_type": "stream",
     "text": [
      "Depths NaN count:\n",
      "+------+-------+\n",
      "|Depthm|R_Depth|\n",
      "+------+-------+\n",
      "|     0|      0|\n",
      "+------+-------+\n",
      "\n",
      "correlation: 0.9999999949168985\n",
      "\n",
      "Water density NaN count:\n",
      "+------+-------+\n",
      "|STheta|R_SIGMA|\n",
      "+------+-------+\n",
      "|  3781|   3655|\n",
      "+------+-------+\n",
      "\n",
      "correlation: 0.9775619506024495\n",
      "\n",
      "Silicate NaN count:\n",
      "+------+------+\n",
      "|SiO3uM|R_SIO3|\n",
      "+------+------+\n",
      "|  8947|  8941|\n",
      "+------+------+\n",
      "\n",
      "correlation: 0.9999991048864016\n",
      "\n",
      "Nitrite NaN count:\n",
      "+-----+-----+\n",
      "|NO2uM|R_NO2|\n",
      "+-----+-----+\n",
      "|14951|14945|\n",
      "+-----+-----+\n",
      "\n",
      "correlation: 0.9999753963583337\n",
      "\n",
      "Nitrate NaN count:\n",
      "+-----+-----+\n",
      "|NO3uM|R_NO3|\n",
      "+-----+-----+\n",
      "| 9573| 9567|\n",
      "+-----+-----+\n",
      "\n",
      "correlation: 0.9999998732099501\n",
      "\n",
      "Salinity NaN count:\n",
      "+------+----------+\n",
      "|Salnty|R_SALINITY|\n",
      "+------+----------+\n",
      "|  3433|      3433|\n",
      "+------+----------+\n",
      "\n",
      "correlation: 0.9999999893049997\n",
      "\n",
      "O2 Saturation NaN count:\n",
      "+-----+-------+\n",
      "|O2Sat|R_O2Sat|\n",
      "+-----+-------+\n",
      "| 4500|   4352|\n",
      "+-----+-------+\n",
      "\n",
      "correlation: 0.9903641742840068\n",
      "\n",
      "Oxygen NaN count:\n",
      "+------+-----------+----+\n",
      "|O2ml_L|Oxy_µmol/Kg|R_O2|\n",
      "+------+-----------+----+\n",
      "|  3610|       4502|3610|\n",
      "+------+-----------+----+\n",
      "\n",
      "1&2 correlation: 0.9727492394078366\n",
      "2&3 correlation: 0.9727398909191203\n",
      "1&3 correlation: 0.9999894839294193\n",
      "\n",
      "Temperature NaN count:\n",
      "+------+------+--------+\n",
      "|T_degC|R_TEMP|R_POTEMP|\n",
      "+------+------+--------+\n",
      "|  3088|  3088|    3508|\n",
      "+------+------+--------+\n",
      "\n",
      "1&2 correlation: 0.9999999632664396\n",
      "2&3 correlation: 0.9788144336830903\n",
      "1&3 correlation: 0.9788143110817276\n"
     ]
    }
   ],
   "source": [
    "Depths = [\"Depthm\",\"R_Depth\"]\n",
    "print(\"Depths NaN count:\")\n",
    "psudoDuplicateCheck(Depths)\n",
    "\n",
    "WD = [\"STheta\",\"R_SIGMA\"]\n",
    "print(\"\\nWater density NaN count:\")\n",
    "psudoDuplicateCheck(WD)\n",
    "\n",
    "Silicate = [\"SiO3uM\",\"R_SIO3\"]\n",
    "print(\"\\nSilicate NaN count:\")\n",
    "psudoDuplicateCheck(Silicate)\n",
    "\n",
    "Nitrite = [\"NO2uM\",\"R_NO2\"]\n",
    "print(\"\\nNitrite NaN count:\")\n",
    "psudoDuplicateCheck(Nitrite)\n",
    "\n",
    "Nitrate = [\"NO3uM\",\"R_NO3\"]\n",
    "print(\"\\nNitrate NaN count:\")\n",
    "psudoDuplicateCheck(Nitrate)\n",
    "\n",
    "Salinity = [\"Salnty\",\"R_SALINITY\"]\n",
    "print(\"\\nSalinity NaN count:\")\n",
    "psudoDuplicateCheck(Salinity)\n",
    "\n",
    "Saturation = [\"O2Sat\",\"R_O2Sat\"]\n",
    "print(\"\\nO2 Saturation NaN count:\")\n",
    "psudoDuplicateCheck(Saturation)\n",
    "\n",
    "Oxygen = [\"O2ml_L\",\"Oxy_µmol/Kg\",\"R_O2\"]\n",
    "print(\"\\nOxygen NaN count:\")\n",
    "psudoDuplicateCheck(Oxygen)\n",
    "\n",
    "Temperature = [\"T_degC\",\"R_TEMP\",\"R_POTEMP\"]\n",
    "print(\"\\nTemperature NaN count:\")\n",
    "psudoDuplicateCheck(Temperature)"
   ]
  },
  {
   "cell_type": "markdown",
   "id": "41abd83d-0818-45b5-94f4-076b71e4da30",
   "metadata": {},
   "source": [
    "We now delete the columns with fewer null if they have a correlation coeffecients of 0.97 or higher.\n",
    "\n",
    "In the case of a tie, we can refer to the pattern that is very apparent in no-tie cases, which is that the \"reported\" (columns starting with `R_`) have the higher non-null count. Therefore if two columns have equal null counts and high enough correlation, we delete the not-\"reported\" column."
   ]
  },
  {
   "cell_type": "code",
   "execution_count": 16,
   "id": "61d1ec82-518a-485d-bce3-87978142b0f7",
   "metadata": {},
   "outputs": [
    {
     "name": "stdout",
     "output_type": "stream",
     "text": [
      "There are now 18 columns and 225276 rows\n",
      "+------+------+------+-------+------+----------+-------+-----+-------+----+-------+------+-----+-----+-----+------+-------+------+\n",
      "|RecInd|T_prec|S_prec|R_Depth|R_TEMP|R_SALINITY|R_SIGMA|R_SVA|R_DYNHT|R_O2|R_O2Sat|R_SIO3|R_PO4|R_NO3|R_NO2|R_CHLA|R_PHAEO|R_PRES|\n",
      "+------+------+------+-------+------+----------+-------+-----+-------+----+-------+------+-----+-----+-----+------+-------+------+\n",
      "|3     |2     |3     |0.0    |19.23 |34.491    |24.57  |335.3|0.0    |5.46|103.9  |null  |null |1.3  |null |0.64  |0.47   |0     |\n",
      "|3     |2     |3     |10.0   |19.22 |34.492    |24.57  |335.3|0.03   |5.46|103.9  |null  |null |1.9  |null |0.66  |0.38   |10    |\n",
      "+------+------+------+-------+------+----------+-------+-----+-------+----+-------+------+-----+-----+-----+------+-------+------+\n",
      "only showing top 2 rows\n",
      "\n"
     ]
    }
   ],
   "source": [
    "''' Deleting columns that are duplicates of some other column '''\n",
    "deleteList4 = [\"Depthm\",\"STheta\",\"SiO3uM\",\"NO2uM\",\"NO3uM\",\"Salnty\",\"O2Sat\",\"O2ml_L\",\"Oxy_µmol/Kg\",\"T_degC\",\"R_POTEMP\"]\n",
    "bottle = bottle.drop(*deleteList4)\n",
    "\n",
    "print(\"There are now\", len(bottle.columns), \"columns and\", bottle.count(), \"rows\")\n",
    "bottle.show(2, truncate=False)"
   ]
  },
  {
   "cell_type": "code",
   "execution_count": 17,
   "id": "b61dcfca-9ff6-4c2e-bf4f-b0185b921dc7",
   "metadata": {},
   "outputs": [
    {
     "name": "stdout",
     "output_type": "stream",
     "text": [
      "+------+------+------+-------+------+----------+-------+-----+-------+----+-------+------+-----+-----+-----+------+-------+------+\n",
      "|RecInd|T_prec|S_prec|R_Depth|R_TEMP|R_SALINITY|R_SIGMA|R_SVA|R_DYNHT|R_O2|R_O2Sat|R_SIO3|R_PO4|R_NO3|R_NO2|R_CHLA|R_PHAEO|R_PRES|\n",
      "+------+------+------+-------+------+----------+-------+-----+-------+----+-------+------+-----+-----+-----+------+-------+------+\n",
      "|     0|  3088|  3433|      0|  3088|      3433|   3655| 3630|   3527|3610|   4352|  8941|10322| 9567|14945|     0|      5|     0|\n",
      "+------+------+------+-------+------+----------+-------+-----+-------+----+-------+------+-----+-----+-----+------+-------+------+\n",
      "\n"
     ]
    }
   ],
   "source": [
    "# tbd\n",
    "getNullCounts(bottle).show()"
   ]
  },
  {
   "cell_type": "markdown",
   "id": "83810ea4-8911-4692-b975-886728dd5a76",
   "metadata": {
    "tags": []
   },
   "source": [
    "#### Fill null values"
   ]
  },
  {
   "cell_type": "code",
   "execution_count": 18,
   "id": "35759665-9e24-4222-b2ed-c37722216abf",
   "metadata": {},
   "outputs": [],
   "source": [
    "''' Using the function from PA3 '''\n",
    "from pyspark.ml.feature import Imputer\n",
    "\n",
    "def fill_na(df, strategy):    \n",
    "    imputer = Imputer(\n",
    "        strategy=strategy,\n",
    "        inputCols=df.columns, \n",
    "        outputCols=[\"{}_imputed\".format(c) for c in df.columns]\n",
    "    )\n",
    "    \n",
    "    new_df = imputer.fit(df).transform(df)\n",
    "    \n",
    "    ''' Select the newly created columns with all filled values '''\n",
    "    new_df = new_df.select([c for c in new_df.columns if \"imputed\" in c])\n",
    "    \n",
    "    for col in new_df.columns:\n",
    "        new_df = new_df.withColumnRenamed(col, col.split(\"_imputed\")[0])\n",
    "        \n",
    "    return new_df"
   ]
  },
  {
   "cell_type": "code",
   "execution_count": 19,
   "id": "2feeee70-0da1-4766-8480-caf19b18f488",
   "metadata": {},
   "outputs": [
    {
     "name": "stdout",
     "output_type": "stream",
     "text": [
      "There are still 18 columns and 225276 rows\n",
      "+------+------+------+-------+------+----------+-------+-----+-------+----+-------+------------------+------------------+-----+-------------------+------+-------+------+\n",
      "|RecInd|T_prec|S_prec|R_Depth|R_TEMP|R_SALINITY|R_SIGMA|R_SVA|R_DYNHT|R_O2|R_O2Sat|R_SIO3            |R_PO4             |R_NO3|R_NO2              |R_CHLA|R_PHAEO|R_PRES|\n",
      "+------+------+------+-------+------+----------+-------+-----+-------+----+-------+------------------+------------------+-----+-------------------+------+-------+------+\n",
      "|3     |2     |3     |0.0    |19.23 |34.491    |24.57  |335.3|0.0    |5.46|103.9  |11.529812096979274|0.9506145966112527|1.3  |0.05539378408325813|0.64  |0.47   |0     |\n",
      "|3     |2     |3     |10.0   |19.22 |34.492    |24.57  |335.3|0.03   |5.46|103.9  |11.529812096979274|0.9506145966112527|1.9  |0.05539378408325813|0.66  |0.38   |10    |\n",
      "+------+------+------+-------+------+----------+-------+-----+-------+----+-------+------------------+------------------+-----+-------------------+------+-------+------+\n",
      "only showing top 2 rows\n",
      "\n"
     ]
    }
   ],
   "source": [
    "''' Filling in the remaining null rows with the mean of the column and saving this newly filled in dataframe as a new variable '''\n",
    "bottle_full = fill_na(bottle, 'mean')\n",
    "\n",
    "print(\"There are still\", len(bottle.columns), \"columns and\", bottle.count(), \"rows\")\n",
    "bottle_full.show(2, truncate=False)"
   ]
  },
  {
   "cell_type": "code",
   "execution_count": 20,
   "id": "96cc767f-1e7a-4b70-970e-e21da8a031fe",
   "metadata": {},
   "outputs": [
    {
     "name": "stdout",
     "output_type": "stream",
     "text": [
      "+------+------+------+-------+------+----------+-------+-----+-------+----+-------+------+-----+-----+-----+------+-------+------+\n",
      "|RecInd|T_prec|S_prec|R_Depth|R_TEMP|R_SALINITY|R_SIGMA|R_SVA|R_DYNHT|R_O2|R_O2Sat|R_SIO3|R_PO4|R_NO3|R_NO2|R_CHLA|R_PHAEO|R_PRES|\n",
      "+------+------+------+-------+------+----------+-------+-----+-------+----+-------+------+-----+-----+-----+------+-------+------+\n",
      "|     0|     0|     0|      0|     0|         0|      0|    0|      0|   0|      0|     0|    0|    0|    0|     0|      0|     0|\n",
      "+------+------+------+-------+------+----------+-------+-----+-------+----+-------+------+-----+-----+-----+------+-------+------+\n",
      "\n"
     ]
    }
   ],
   "source": [
    "''' Double checking that all null values are filled '''\n",
    "getNullCounts(bottle_full).show()"
   ]
  },
  {
   "cell_type": "markdown",
   "id": "2e14ebf3-0e74-427d-afa8-6d62bf5bda09",
   "metadata": {
    "tags": []
   },
   "source": [
    "#### Lasso regression"
   ]
  },
  {
   "cell_type": "markdown",
   "id": "f370fcbc-28f2-455d-b6c4-25f0f9b9c89f",
   "metadata": {},
   "source": [
    "> (my personal notes will indented)\n",
    "> 1. tried to use Lasso in spark, turns out it's depricated, use LinearRegression instead\n",
    "> 2. LinearRegression needs a label column (easy)\n",
    "> 3. LinearRegression also needs a feature column (need help determining if this needs to be scaled before using lasso)\n",
    "> \n",
    "> spark lasso: https://spark.apache.org/docs/3.1.1/api/python/reference/api/pyspark.mllib.regression.LassoWithSGD.html<br>\n",
    "Warning: **\"Use [pyspark.ml.regression.LinearRegression](https://spark.apache.org/docs/3.1.1/api/python/reference/api/pyspark.ml.regression.LinearRegression.html) with elasticNetParam = 1.0. Note the default regParam is 0.01 for LassoWithSGD, but is 0.0 for LinearRegression.\"**\n",
    "> \n",
    "> need to specify a label column in order to use. default is to use a column *named* \"label\" but it *is* possible to have the model look for a specific name. however, renaming columns is something we've done in past PAs and i wanna use it to be like \"HEY-YO WE'RE USING WHAT YOU SHOWED US :D\"\n",
    "> \n",
    "> **(need help here:)** need to create \"features\" column first (did this in PA3, filled NaNs with mean before creating \"features\" column), but not sure if we need to scale it before feeding to lasso AND not sure what alpha \"regParam\" to use (i thiiiiink regParam == alpha ? 😅 i'm actually not sure, but see the raw-cell below for more about which regParam to use)\n"
   ]
  },
  {
   "cell_type": "markdown",
   "id": "a7658788-0a03-4dd7-a0c0-75fe4dbe479a",
   "metadata": {},
   "source": [
    "To better estimate what columns are most important to our model, we use a lasso regression. Because spark LassoWithSGD has depricated, we use LinearRegression with `elasticNetParam = 1.0` for Lasso regression equivalent.\n",
    "\n",
    "In order to use this, `label` and `features` columns need to be specified. We rename `R_CHLA` to `label` and create a features column with VectorAssembler."
   ]
  },
  {
   "cell_type": "code",
   "execution_count": 21,
   "id": "4ab0fc8b-317e-43ea-9039-d68d55ccfca4",
   "metadata": {},
   "outputs": [],
   "source": [
    "''' Rename the target chlorophyll column to 'label' '''\n",
    "bottle_full = bottle_full.withColumnRenamed('R_CHLA', 'label')"
   ]
  },
  {
   "cell_type": "code",
   "execution_count": 22,
   "id": "2c802847-9138-4e3a-836c-22ef5560d665",
   "metadata": {},
   "outputs": [
    {
     "name": "stderr",
     "output_type": "stream",
     "text": [
      "[Stage 237:>                                                        (0 + 1) / 1]\r"
     ]
    },
    {
     "name": "stdout",
     "output_type": "stream",
     "text": [
      "+------+------+------+-------+------+----------+-------+-----+-------+----+-------+------------------+------------------+-----+-------------------+-----+-------+------+-----------------------------------------------------------------------------------------------------------------------------------+\n",
      "|RecInd|T_prec|S_prec|R_Depth|R_TEMP|R_SALINITY|R_SIGMA|R_SVA|R_DYNHT|R_O2|R_O2Sat|R_SIO3            |R_PO4             |R_NO3|R_NO2              |label|R_PHAEO|R_PRES|features                                                                                                                           |\n",
      "+------+------+------+-------+------+----------+-------+-----+-------+----+-------+------------------+------------------+-----+-------------------+-----+-------+------+-----------------------------------------------------------------------------------------------------------------------------------+\n",
      "|3     |2     |3     |0.0    |19.23 |34.491    |24.57  |335.3|0.0    |5.46|103.9  |11.529812096979274|0.9506145966112527|1.3  |0.05539378408325813|0.64 |0.47   |0     |[3.0,2.0,3.0,0.0,19.23,34.491,24.57,335.3,0.0,5.46,103.9,11.529812096979274,0.9506145966112527,1.3,0.05539378408325813,0.47,0.0]   |\n",
      "|3     |2     |3     |10.0   |19.22 |34.492    |24.57  |335.3|0.03   |5.46|103.9  |11.529812096979274|0.9506145966112527|1.9  |0.05539378408325813|0.66 |0.38   |10    |[3.0,2.0,3.0,10.0,19.22,34.492,24.57,335.3,0.03,5.46,103.9,11.529812096979274,0.9506145966112527,1.9,0.05539378408325813,0.38,10.0]|\n",
      "+------+------+------+-------+------+----------+-------+-----+-------+----+-------+------------------+------------------+-----+-------------------+-----+-------+------+-----------------------------------------------------------------------------------------------------------------------------------+\n",
      "only showing top 2 rows\n",
      "\n"
     ]
    },
    {
     "name": "stderr",
     "output_type": "stream",
     "text": [
      "                                                                                \r"
     ]
    }
   ],
   "source": [
    "''' Creating 'features' column '''\n",
    "from pyspark.ml.feature import VectorAssembler\n",
    "\n",
    "''' (interm step) make list of column names other than 'label,' AKA make a list of the features '''\n",
    "features = bottle_full.columns\n",
    "features.remove('label')\n",
    "\n",
    "# bottle_full = VectorAssembler(outputCol=\"features_unscaled\").setInputCols(features).transform(bottle_full)\n",
    "bottle_full = VectorAssembler(outputCol=\"features\").setInputCols(features).transform(bottle_full)\n",
    "\n",
    "bottle_full.show(2, truncate=False)"
   ]
  },
  {
   "cell_type": "raw",
   "id": "c7c27da6-a97e-4459-925d-e04ae1219c2e",
   "metadata": {},
   "source": [
    "''' Scaling the features column '''\n",
    "''' NOTE: to use this cell, un-comment-in the line in the above cell and then comment-out the line below it, then run this cell '''\n",
    "from pyspark.ml.feature import StandardScaler\n",
    "\n",
    "standardScaler = StandardScaler(withMean=True, inputCol='features_unscaled', outputCol='features')\n",
    "scaledModel = standardScaler.fit(bottle_full)\n",
    "bottle_full = scaledModel.transform(bottle_full)"
   ]
  },
  {
   "cell_type": "code",
   "execution_count": 23,
   "id": "d68de1e3-9d66-4945-8d2f-f8542445644e",
   "metadata": {},
   "outputs": [
    {
     "name": "stderr",
     "output_type": "stream",
     "text": [
      "2022-05-20 19:40:18,564 WARN netlib.InstanceBuilder$NativeBLAS: Failed to load implementation from:dev.ludovic.netlib.blas.JNIBLAS\n",
      "2022-05-20 19:40:18,567 WARN netlib.InstanceBuilder$NativeBLAS: Failed to load implementation from:dev.ludovic.netlib.blas.ForeignLinkerBLAS\n",
      "                                                                                \r"
     ]
    }
   ],
   "source": [
    "''' Applying lasso regression where regParam= 0.0025 in place of alpha (?) '''\n",
    "from pyspark.ml.regression import LinearRegression\n",
    "\n",
    "lr = LinearRegression(elasticNetParam = 1.0, regParam=0.0025, solver=\"normal\", maxIter=1000, standardization=True)\n",
    "model = lr.fit(bottle_full)"
   ]
  },
  {
   "cell_type": "markdown",
   "id": "90294013-41b0-462c-be0e-3dccddc4028c",
   "metadata": {
    "tags": []
   },
   "source": [
    "##### regParam (alpha?) tinkering"
   ]
  },
  {
   "cell_type": "code",
   "execution_count": 24,
   "id": "59bae0ec-71b9-411d-8572-d4c4bb9d160d",
   "metadata": {},
   "outputs": [
    {
     "name": "stdout",
     "output_type": "stream",
     "text": [
      "when regParams=0.0025, model.coefficients=\n"
     ]
    },
    {
     "data": {
      "text/plain": [
       "DenseVector([0.0, 0.0, 0.0201, 0.0, -0.0718, 0.9188, 0.0, 0.0, -0.9898, 0.3511, 0.0118, 0.0177, 0.0, 0.0082, -0.6885, 2.2156, 0.0])"
      ]
     },
     "execution_count": 24,
     "metadata": {},
     "output_type": "execute_result"
    }
   ],
   "source": [
    "print(\"when regParams=\" + str(lr.getRegParam()) + \", model.coefficients=\")\n",
    "model.coefficients"
   ]
  },
  {
   "cell_type": "markdown",
   "id": "2ba6b7b6-9411-4381-8714-a6a97e5b3021",
   "metadata": {
    "tags": []
   },
   "source": [
    "> okay i'm not sure how to adjust alpha like we would with a regular non-spark LassoRegression, but changing regParam did change which columns had nonzero coefficients which is what we did for regular Lasso\n",
    "> \n",
    "> all of the model.coefficients align with the six columns `'R_SALINITY','R_DYNHT','R_O2','R_SIO3','R_NO2','R_PHAEO'` but otherwise include at least one more that doesn't appear in all other regParam tests\n",
    ">\n",
    "> | regParam | nonzero coeffs | S-prec? | R_TEMP? | R_SVA? | R_O2Sat? | R_NO3 |\n",
    "> |----------|----------------|---------|---------|--------|----------|-------|\n",
    "> | 0.0      |       17       |   Yes   |   Yes   |   Yes  |    Yes   |  Yes  |\n",
    "> | 0.001    |       13       |   Yes   |   Yes   |        |    Yes   |  Yes  |\n",
    "> | 0.002    |       10       |   Yes   |   Yes   |        |    Yes   |  Yes  |\n",
    "> | 0.003    |       10       |   Yes   |   Yes   |        |    Yes   |  Yes  |\n",
    "> | 0.005    |        9       |   Yes   |   Yes   |        |          |       |\n",
    "> | 0.008    |        8       |         |   Yes   |        |          |       |\n",
    "> | 0.010    |        7       |         |   Yes   |        |          |       |\n",
    "> | 0.013    |        8       |         |   Yes   |   Yes  |          |       |\n",
    "> | 0.015    |        8       |         |   Yes   |   Yes  |          |       |\n",
    "> | 0.018    |        7       |         |         |   Yes  |          |       |\n",
    "> | 0.020    |        7       |         |         |   Yes  |          |       |\n",
    ">\n",
    "> also it looks like scaling doesn't actually change much other than the absolute value of the coefficients"
   ]
  },
  {
   "cell_type": "raw",
   "id": "e532c303-a027-4843-847a-d518cd5f395a",
   "metadata": {},
   "source": [
    "when regParams=0.00, model.coefficients=\n",
    "DenseVector([-0.0029, 0.0189, 0.0311, -0.2704, -0.1755, 1.2258, 2.1681, 0.0271, -1.0676, 0.2813, 0.0188, 0.0153, 0.0011, 0.0111, -0.6229, 2.2373, 0.2685])\n",
    "\n",
    "when regParams=0.001, model.coefficients=\n",
    "DenseVector([-0.0001, 0.0062, 0.0032, 0.0, -0.0789, 0.9289, 0.0, 0.0, -1.1695, 0.3114, 0.0159, 0.0168, 0.0, 0.0115, -0.7123, 2.2171, 0.0005])\n",
    "\n",
    "when regParams=0.002, model.coefficients=\n",
    "DenseVector([0.0, 0.0, 0.0244, 0.0, -0.0705, 0.9265, 0.0, 0.0, -1.0012, 0.3739, 0.011, 0.0186, 0.0, 0.0082, -0.7002, 2.2138, 0.0])\n",
    "\n",
    "when regParams=0.003, model.coefficients=\n",
    "DenseVector([0.0, 0.0, 0.0221, 0.0, -0.0661, 0.9176, 0.0, 0.0, -0.9843, 0.3941, 0.0088, 0.0181, 0.0, 0.0071, -0.6822, 2.2138, 0.0])\n",
    "\n",
    "when regParams=0.005, model.coefficients=\n",
    "DenseVector([0.0, 0.0, 0.0242, 0.0, -0.0495, 0.8996, 0.0, 0.0, -0.9555, 0.5039, 0.0, 0.0183, 0.0, 0.0035, -0.6506, 2.2114, 0.0])\n",
    "\n",
    "when regParams=0.008, model.coefficients=\n",
    "DenseVector([0.0, 0.0, 0.0059, 0.0, -0.0475, 0.8597, 0.0, 0.0, -0.899, 0.4578, 0.0, 0.0169, 0.0, 0.0, -0.5806, 2.2149, 0.0])\n",
    "\n",
    "when regParams=0.01, model.coefficients=\n",
    "DenseVector([0.0, 0.0, 0.0, 0.0, -0.0448, 0.8327, 0.0, 0.0, -0.8605, 0.4312, 0.0, 0.0146, 0.0, 0.0, -0.5362, 2.2178, 0.0])\n",
    "\n",
    "when regParams=0.013, model.coefficients=\n",
    "DenseVector([0.0, 0.0, 0.0, 0.0, -0.0359, 0.7746, 0.0, -0.0002, -0.7998, 0.3893, 0.0, 0.0112, 0.0, 0.0, -0.4699, 2.2226, 0.0])\n",
    "\n",
    "when regParams=0.015, model.coefficients=\n",
    "DenseVector([0.0, 0.0, 0.0, 0.0, -0.0186, 0.6981, 0.0, -0.0009, -0.7541, 0.3635, 0.0, 0.0093, 0.0, 0.0, -0.4276, 2.2229, 0.0])\n",
    "\n",
    "when regParams=0.018, model.coefficients=\n",
    "DenseVector([0.0, 0.0, 0.0, 0.0, 0.0, 0.6068, 0.0, -0.0017, -0.693, 0.3234, 0.0, 0.0061, 0.0, 0.0, -0.3667, 2.225, 0.0])\n",
    "\n",
    "when regParams=0.02, model.coefficients=\n",
    "DenseVector([0.0, 0.0, 0.0, 0.0, 0.0, 0.5884, 0.0, -0.0016, -0.6589, 0.2961, 0.0, 0.0036, 0.0, 0.0, -0.3242, 2.2282, 0.0])\n",
    "\n",
    "============================\n",
    "\n",
    "(scaled) when regParams=0.0, model.coefficients=\n",
    "DenseVector([-0.0055, 0.0011, 0.0039, -15.9828, -0.5371, 0.384, 1.6473, 1.9331, -0.1656, 0.3671, 0.4719, 0.1697, 0.0007, 0.1117, -0.0593, 0.7507, 15.9782])\n",
    "\n",
    "(scaled) when regParams=0.01, model.coefficients=\n",
    "DenseVector([0.0, 0.0, 0.0, 0.0, -0.137, 0.2607, 0.0, 0.0, -0.1335, 0.5623, 0.0, 0.1619, 0.0, 0.0, -0.0511, 0.7442, 0.0])\n",
    "\n",
    "(scaled) when regParams=0.013, model.coefficients=\n",
    "DenseVector([0.0, 0.0, 0.0, 0.0, -0.1099, 0.2427, 0.0, -0.0159, -0.1241, 0.508, 0.0, 0.1243, 0.0, 0.0, -0.0447, 0.7458, 0.0])\n",
    "\n",
    "(scaled) when regParams=0.015, model.coefficients=\n",
    "DenseVector([0.0, 0.0, 0.0, 0.0, -0.0571, 0.2187, 0.0, -0.0667, -0.117, 0.4745, 0.0, 0.1028, 0.0, 0.0, -0.0407, 0.7458, 0.0])\n",
    "\n",
    "(scaled) when regParams=0.018, model.coefficients=\n",
    "DenseVector([0.0, 0.0, 0.0, 0.0, 0.0, 0.1901, 0.0, -0.1188, -0.1075, 0.4221, 0.0, 0.0673, 0.0, 0.0, -0.0349, 0.7465, 0.0])\n",
    "\n",
    "(scaled) when regParams=0.02, model.coefficients=\n",
    "DenseVector([0.0, 0.0, 0.0, 0.0, 0.0, 0.1844, 0.0, -0.1113, -0.1022, 0.3866, 0.0, 0.0399, 0.0, 0.0, -0.0309, 0.7476, 0.0])"
   ]
  },
  {
   "cell_type": "markdown",
   "id": "34bcf9e2-c270-45d0-8f48-043542867e2a",
   "metadata": {},
   "source": [
    "##### using the coeff list"
   ]
  },
  {
   "cell_type": "markdown",
   "id": "acf40ca6-1926-434f-8d22-df15fa8cbc70",
   "metadata": {},
   "source": [
    "> here are the \"most useful\" features. i'm not sure if i should be deleting the \"useless\" ones or just dropping nulls from the other columns"
   ]
  },
  {
   "cell_type": "code",
   "execution_count": 25,
   "id": "9d8ec5ff-84a9-4d00-8643-16ad265786d9",
   "metadata": {},
   "outputs": [
    {
     "name": "stdout",
     "output_type": "stream",
     "text": [
      "(For-loop of 17 iterations)\n",
      "When regParam=0.0025, this lasso model indicates the most useful columns to predicting chlorophyll are: ['S_prec', 'R_TEMP', 'R_SALINITY', 'R_DYNHT', 'R_O2', 'R_O2Sat', 'R_SIO3', 'R_NO3', 'R_NO2', 'R_PHAEO']\n"
     ]
    }
   ],
   "source": [
    "''' Find the \"most useful\" and \"not useful\" features, as according to the lasso regresion when regParam=0.0025 '''\n",
    "\n",
    "coeff = model.coefficients\n",
    "usefulFeatures = []\n",
    "# deleteList5 = []\n",
    "\n",
    "print(\"(For-loop of\", len(coeff), \"iterations)\")\n",
    "for i in range(len(coeff)):\n",
    "    if coeff[i] != 0:\n",
    "        usefulFeatures.append(features[i])\n",
    "#     else:\n",
    "#         deleteList5.append(features[i])\n",
    "\n",
    "print(\"When regParam=\"+str(lr.getRegParam())+\", this lasso model indicates the most useful columns to predicting chlorophyll are:\", usefulFeatures)"
   ]
  },
  {
   "cell_type": "code",
   "execution_count": 26,
   "id": "af4702c4-a788-4d7d-bffb-089054303af6",
   "metadata": {},
   "outputs": [],
   "source": [
    "''' Moving back to dataframe before nulls were filled with means, drop the null rows of the \"most useful\" features '''\n",
    "bottle = bottle.dropna(subset=usefulFeatures)"
   ]
  },
  {
   "cell_type": "code",
   "execution_count": 27,
   "id": "5333bf35-ecff-4206-bf78-50f4fdb7989f",
   "metadata": {},
   "outputs": [
    {
     "data": {
      "text/plain": [
       "' Moving back to dataframe before nulls were filled with means, drop the \"not useful\" features '"
      ]
     },
     "execution_count": 27,
     "metadata": {},
     "output_type": "execute_result"
    }
   ],
   "source": [
    "''' Moving back to dataframe before nulls were filled with means, drop the \"not useful\" features '''\n",
    "# bottle = bottle.drop(*deleteList5)"
   ]
  },
  {
   "cell_type": "code",
   "execution_count": 28,
   "id": "1470f79d-d0c2-4054-b1a8-7213ea0b8943",
   "metadata": {},
   "outputs": [
    {
     "name": "stdout",
     "output_type": "stream",
     "text": [
      "Moving back to dataframe before nulls were filled with means, here are now 18 columns and 208035 rows\n",
      "+------+------+------+-------+------+----------+-------+-----+-------+----+-------+------+-----+-----+-----+------+-------+------+\n",
      "|RecInd|T_prec|S_prec|R_Depth|R_TEMP|R_SALINITY|R_SIGMA|R_SVA|R_DYNHT|R_O2|R_O2Sat|R_SIO3|R_PO4|R_NO3|R_NO2|R_CHLA|R_PHAEO|R_PRES|\n",
      "+------+------+------+-------+------+----------+-------+-----+-------+----+-------+------+-----+-----+-----+------+-------+------+\n",
      "|7     |2     |3     |0.0    |15.34 |33.492    |24.73  |319.9|0.0    |5.86|102.8  |2.0   |0.25 |0.1  |0.0  |0.85  |0.19   |0     |\n",
      "|3     |2     |3     |1.0    |15.34 |33.492    |24.73  |319.9|0.003  |5.86|102.8  |2.0   |0.25 |0.1  |0.0  |0.85  |0.19   |1     |\n",
      "+------+------+------+-------+------+----------+-------+-----+-------+----+-------+------+-----+-----+-----+------+-------+------+\n",
      "only showing top 2 rows\n",
      "\n"
     ]
    }
   ],
   "source": [
    "''' View the dimensions and two rows of the resulting dataframe '''\n",
    "print(\"Moving back to dataframe before nulls were filled with means, here are now\", len(bottle.columns), \"columns and\", bottle.count(), \"rows\")\n",
    "bottle.show(2, truncate=False)"
   ]
  },
  {
   "cell_type": "markdown",
   "id": "fa3b0dee-783a-4463-b73b-be6883526fe0",
   "metadata": {
    "tags": []
   },
   "source": [
    "#### Make sure column values are the right type"
   ]
  },
  {
   "cell_type": "code",
   "execution_count": 29,
   "id": "9b7e21c2-f13f-4272-a3d4-8fb858aad8b5",
   "metadata": {},
   "outputs": [
    {
     "name": "stdout",
     "output_type": "stream",
     "text": [
      "root\n",
      " |-- RecInd: integer (nullable = true)\n",
      " |-- T_prec: integer (nullable = true)\n",
      " |-- S_prec: integer (nullable = true)\n",
      " |-- R_Depth: double (nullable = true)\n",
      " |-- R_TEMP: double (nullable = true)\n",
      " |-- R_SALINITY: double (nullable = true)\n",
      " |-- R_SIGMA: double (nullable = true)\n",
      " |-- R_SVA: double (nullable = true)\n",
      " |-- R_DYNHT: double (nullable = true)\n",
      " |-- R_O2: double (nullable = true)\n",
      " |-- R_O2Sat: double (nullable = true)\n",
      " |-- R_SIO3: double (nullable = true)\n",
      " |-- R_PO4: double (nullable = true)\n",
      " |-- R_NO3: double (nullable = true)\n",
      " |-- R_NO2: double (nullable = true)\n",
      " |-- R_CHLA: double (nullable = true)\n",
      " |-- R_PHAEO: double (nullable = true)\n",
      " |-- R_PRES: integer (nullable = true)\n",
      "\n"
     ]
    }
   ],
   "source": [
    "''' Check the dtypes of each column '''\n",
    "bottle.printSchema()"
   ]
  },
  {
   "cell_type": "code",
   "execution_count": 30,
   "id": "7a487f4e-e1dc-488c-bdcd-97fdebdf7276",
   "metadata": {},
   "outputs": [
    {
     "name": "stdout",
     "output_type": "stream",
     "text": [
      "There are now 18 columns and 208035 rows (which is 656828 less than the original row count)\n"
     ]
    }
   ],
   "source": [
    "''' Row count, and comparison to original row count '''\n",
    "print(\"There are now\", len(bottle.columns), \"columns and\", bottle.count(), \"rows (which is\", maxRows-bottle.count(), \"less than the original row count)\")"
   ]
  },
  {
   "cell_type": "markdown",
   "id": "72eeecac-6666-4f14-82ab-e8f0acad2871",
   "metadata": {
    "tags": []
   },
   "source": [
    "#### Summary Statistics and graphs"
   ]
  },
  {
   "cell_type": "code",
   "execution_count": 31,
   "id": "3ff7833e-cdf2-40c6-9034-68580c4792d0",
   "metadata": {},
   "outputs": [
    {
     "name": "stderr",
     "output_type": "stream",
     "text": [
      "[Stage 251:============================>                            (1 + 1) / 2]\r"
     ]
    },
    {
     "name": "stdout",
     "output_type": "stream",
     "text": [
      "+-------+------------------+------------------+--------------------+-----------------+------------------+-------------------+------------------+------------------+-------------------+------------------+-----------------+------------------+------------------+------------------+-------------------+-------------------+-------------------+------------------+\n",
      "|summary|            RecInd|            T_prec|              S_prec|          R_Depth|            R_TEMP|         R_SALINITY|           R_SIGMA|             R_SVA|            R_DYNHT|              R_O2|          R_O2Sat|            R_SIO3|             R_PO4|             R_NO3|              R_NO2|             R_CHLA|            R_PHAEO|            R_PRES|\n",
      "+-------+------------------+------------------+--------------------+-----------------+------------------+-------------------+------------------+------------------+-------------------+------------------+-----------------+------------------+------------------+------------------+-------------------+-------------------+-------------------+------------------+\n",
      "|  count|            208035|            208035|              208035|           208035|            208035|             208035|            208011|            208013|             208035|            208035|           208035|            208035|            207037|            208035|             208035|             208035|             208035|            208035|\n",
      "|   mean|4.3699329439757735|2.0035474799913477|    2.99938471891749|72.51875405580792|12.935006878650077| 33.500370831831134|25.199403435394903|277.25738775941875|0.20956609705099236| 4.806453817867172|81.28219001610377|11.477197106256273|0.9519035727912132| 9.551400004808455|0.05555521907378838|0.43074977768152034|0.18781623284542512| 72.81455524310813|\n",
      "| stddev| 1.897456443926024|0.0603379177082234|0.024797287502437773| 58.2877318349308| 3.055552833089959|0.30418095242393295|0.7629217759161452| 71.75332048974911|0.15544466181460126|1.3108261398961925|25.23722373153649|11.258526797917446|0.6699576002454936|10.297151443902253|0.09865620230922198| 1.1391470120828653|0.27902387604263734|58.680177182124815|\n",
      "|    min|                 3|                 1|                   2|              0.0|              3.74|             29.934|              22.4|              14.7|                0.0|              0.05|              0.7|               0.0|               0.0|              -0.4|                0.0|              -0.01|              -3.89|                 0|\n",
      "|    max|                 7|                 3|                   3|           1029.0|             24.95|             37.034|             27.95|             542.9|               1.66|             11.13|            214.1|             123.7|              4.39|              44.4|                2.3|              66.11|              10.66|              1038|\n",
      "+-------+------------------+------------------+--------------------+-----------------+------------------+-------------------+------------------+------------------+-------------------+------------------+-----------------+------------------+------------------+------------------+-------------------+-------------------+-------------------+------------------+\n",
      "\n"
     ]
    },
    {
     "name": "stderr",
     "output_type": "stream",
     "text": [
      "                                                                                \r"
     ]
    }
   ],
   "source": [
    "''' See the detailed numerical description of the current dataframe '''\n",
    "bottle.describe().show()"
   ]
  },
  {
   "cell_type": "code",
   "execution_count": 32,
   "id": "875ca65c-c9eb-4914-a022-773b080725d2",
   "metadata": {},
   "outputs": [
    {
     "name": "stdout",
     "output_type": "stream",
     "text": [
      "+------+------+------+-------+------+----------+-------+-----+-------+----+-------+------+-----+-----+-----+------+-------+------+\n",
      "|RecInd|T_prec|S_prec|R_Depth|R_TEMP|R_SALINITY|R_SIGMA|R_SVA|R_DYNHT|R_O2|R_O2Sat|R_SIO3|R_PO4|R_NO3|R_NO2|R_CHLA|R_PHAEO|R_PRES|\n",
      "+------+------+------+-------+------+----------+-------+-----+-------+----+-------+------+-----+-----+-----+------+-------+------+\n",
      "|     0|     0|     0|      0|     0|         0|     24|   22|      0|   0|      0|     0|  998|    0|    0|     0|      0|     0|\n",
      "+------+------+------+-------+------+----------+-------+-----+-------+----+-------+------+-----+-----+-----+------+-------+------+\n",
      "\n"
     ]
    }
   ],
   "source": [
    "getNullCounts(bottle).show()"
   ]
  },
  {
   "cell_type": "markdown",
   "id": "7251cc71-1429-431e-a02d-be9dcbf6cc97",
   "metadata": {
    "tags": []
   },
   "source": [
    "## Questions"
   ]
  },
  {
   "cell_type": "markdown",
   "id": "7c2351ad-7933-42e5-941e-8060272483b3",
   "metadata": {},
   "source": [
    "#### Which factors are chlorophyll levels most dependent on?\n",
    "#### Can we use these factors as features in a model that accurately predict chlorophyll levels in a marine ecosystem?\n",
    "#### Can these few, simple, measurable factors we found indicate whether an ocean ecosystem is healthy and sustainable based on the chlorophyll abundance measured?\n",
    "#### Can we predict chlorophyll abundance without having to measure it?"
   ]
  },
  {
   "cell_type": "markdown",
   "id": "2b6779b1-c4c1-4527-b8f3-e554a5b67756",
   "metadata": {
    "tags": []
   },
   "source": [
    "## Feature Selection and Target Cleaning"
   ]
  },
  {
   "cell_type": "markdown",
   "id": "a37d2dff-7ab8-4b77-ab04-f7e155558db2",
   "metadata": {},
   "source": [
    "#### Distribution of data for cholorophyll levels, summary stats"
   ]
  },
  {
   "cell_type": "code",
   "execution_count": 33,
   "id": "00a00435-d31b-468e-b2a2-de4e563ed908",
   "metadata": {},
   "outputs": [
    {
     "name": "stdout",
     "output_type": "stream",
     "text": [
      "+-----------+-----------+-------------------+-------------------+-------------+------------------+\n",
      "|min(R_CHLA)|max(R_CHLA)|        avg(R_CHLA)|stddev_samp(R_CHLA)|count(R_CHLA)|  skewness(R_CHLA)|\n",
      "+-----------+-----------+-------------------+-------------------+-------------+------------------+\n",
      "|      -0.01|      66.11|0.43074977768152034| 1.1391470120828653|       208035|10.820339155374741|\n",
      "+-----------+-----------+-------------------+-------------------+-------------+------------------+\n",
      "\n"
     ]
    }
   ],
   "source": [
    "bottle.agg(min('R_CHLA'), max('R_CHLA'), mean('R_CHLA'), stddev('R_CHLA'), count('R_CHLA'), skewness('R_CHLA')).show()"
   ]
  },
  {
   "cell_type": "markdown",
   "id": "a5c8c427-eedd-4d30-9c0d-64c8945816be",
   "metadata": {},
   "source": [
    "##### Looking at this summary data of our chlorophyll levels, the data is highly positively skewed. This is displayed in our skewness value but also the difference between the maximum value and the mean."
   ]
  },
  {
   "cell_type": "markdown",
   "id": "a9025425-d4b7-46ac-959c-ce50eae390d7",
   "metadata": {},
   "source": [
    "#### Define cholorophyll category levels: low, medium, high?"
   ]
  },
  {
   "cell_type": "markdown",
   "id": "3f502847-fec1-4fbb-9886-ef0ce8a3c79e",
   "metadata": {},
   "source": [
    "##### As displayed in Figure 4 of this article,https://www.nature.com/scitable/knowledge/library/the-biological-productivity-of-the-ocean-70631104/, the chlorophyll concentrations in the ocean can be split into three category levels, low, medium, and high. Our low category range will be between 0 > x > .1ug/l, medium range will be .1 >= x > 1ug/l, and high concentrations will be x >= 1ug/l."
   ]
  },
  {
   "cell_type": "markdown",
   "id": "d75e5a20-33d3-44d4-af6b-99d598adf662",
   "metadata": {},
   "source": [
    "#### Map cholorophyll levels to defined categories and output graphs/summary stats and Add target column with category label to dataframe"
   ]
  },
  {
   "cell_type": "code",
   "execution_count": 34,
   "id": "1860e212-d6f5-4c6c-8457-22fbc18cb5b7",
   "metadata": {},
   "outputs": [],
   "source": [
    "lowThreshold = .1\n",
    "medThreshold = 1"
   ]
  },
  {
   "cell_type": "code",
   "execution_count": 35,
   "id": "301b454b-10ea-4fd5-94ba-f7d6a5fc2d36",
   "metadata": {},
   "outputs": [],
   "source": [
    "bottle = bottle.withColumn(\n",
    "    'Target',\n",
    "     when((col(\"R_CHLA\") < lowThreshold), 0)\\\n",
    "    .when((col(\"R_CHLA\").between(lowThreshold, medThreshold)), 1)\\\n",
    "    .when((col(\"R_CHLA\") > medThreshold), 2)\\\n",
    "    .otherwise(10)\n",
    ")"
   ]
  },
  {
   "cell_type": "code",
   "execution_count": 36,
   "id": "20dffcb2-a63b-44ac-b0a0-097c8eab626a",
   "metadata": {},
   "outputs": [
    {
     "name": "stdout",
     "output_type": "stream",
     "text": [
      "+------+------+\n",
      "|Target| count|\n",
      "+------+------+\n",
      "|     1|115096|\n",
      "|     2| 17386|\n",
      "|     0| 75553|\n",
      "+------+------+\n",
      "\n"
     ]
    }
   ],
   "source": [
    "bottle.groupby('Target').count().show()"
   ]
  },
  {
   "cell_type": "markdown",
   "id": "c47c2f01-aa1e-4b4e-a85c-02a962a12bc8",
   "metadata": {},
   "source": [
    "#### PCA columns that are duplicates"
   ]
  },
  {
   "cell_type": "code",
   "execution_count": null,
   "id": "6938135b-6a90-435f-bbc0-dba3bc60d327",
   "metadata": {},
   "outputs": [],
   "source": []
  },
  {
   "cell_type": "markdown",
   "id": "6fd5a1d0-dbda-442d-a5d2-04a4164981db",
   "metadata": {},
   "source": [
    "#### Heat Map to see any less obvious columns that are highly from pyspark.ml.stat import Correlationcorrelated"
   ]
  },
  {
   "cell_type": "code",
   "execution_count": 37,
   "id": "8441a793-8303-44aa-878b-134f51fd0962",
   "metadata": {},
   "outputs": [],
   "source": [
    "from pyspark.ml.stat import Correlation"
   ]
  },
  {
   "cell_type": "code",
   "execution_count": 38,
   "id": "55e7c7c8-0899-415c-a298-464be87f3516",
   "metadata": {},
   "outputs": [],
   "source": [
    "# Commented out because Katie is still working on it\n",
    "# outputColumn = 'allColumnVec'\n",
    "# assembler = VectorAssembler(inputCols=bottle.columns, outputCol=outputColumn)\n",
    "# df_vector = assembler.transform(bottle).select(outputColumn)\n",
    "\n",
    "# # get correlation matrix\n",
    "# matrix = Correlation.corr(df_vector, outputColumn)"
   ]
  },
  {
   "cell_type": "code",
   "execution_count": 39,
   "id": "a15425e4-1bf0-41c5-b27e-6c39390cfcff",
   "metadata": {},
   "outputs": [],
   "source": [
    "# correlationsLabel = []\n",
    "# rangeColumns = range(len(bottle.columns))\n",
    "# for i in rangeColumns:\n",
    "#     for j in rangeColumns:\n",
    "#         if(i != j):\n",
    "#             print(f\"Correlation between {bottle.columns[i]} and {bottle.columns[j]}\",\\\n",
    "#                                       Correlation.corr(bottle, [bottle.columns[i],bottle.columns[j]]))\n",
    "#         else: \n",
    "#             continue;"
   ]
  },
  {
   "cell_type": "code",
   "execution_count": 40,
   "id": "6ae12213-30fc-4ab8-963a-e1c1261b538f",
   "metadata": {},
   "outputs": [],
   "source": [
    "# correlationsLabel"
   ]
  },
  {
   "cell_type": "markdown",
   "id": "c034c3bf-3915-49a0-afd8-6241cd2c2b3d",
   "metadata": {},
   "source": [
    "#### Select features to be used for training"
   ]
  },
  {
   "cell_type": "code",
   "execution_count": null,
   "id": "89454817-571c-457f-8c99-27713f6814fd",
   "metadata": {},
   "outputs": [],
   "source": []
  },
  {
   "cell_type": "markdown",
   "id": "f2eee978-81f7-4247-8274-ed0bfee2475e",
   "metadata": {
    "jp-MarkdownHeadingCollapsed": true,
    "tags": []
   },
   "source": [
    "## Models"
   ]
  },
  {
   "cell_type": "markdown",
   "id": "2fed6ea1-6067-4248-b944-75cd0fde64dd",
   "metadata": {},
   "source": [
    "#### Scale Data"
   ]
  },
  {
   "cell_type": "code",
   "execution_count": null,
   "id": "41a51dc1-e61c-472e-994a-b1c183272ce6",
   "metadata": {},
   "outputs": [],
   "source": []
  },
  {
   "cell_type": "markdown",
   "id": "ca7281a0-e86c-4bca-9538-b6b3241ead44",
   "metadata": {},
   "source": [
    "#### Split data into 80/10/10 train, test, validation set"
   ]
  },
  {
   "cell_type": "code",
   "execution_count": null,
   "id": "76382b4a-1f38-43e5-a81b-3d7acc3948b4",
   "metadata": {},
   "outputs": [],
   "source": []
  },
  {
   "cell_type": "markdown",
   "id": "5c889c47-658e-4d0c-925c-56363eb63b30",
   "metadata": {},
   "source": [
    "### Logistic Regresssion"
   ]
  },
  {
   "cell_type": "markdown",
   "id": "9afa83b8-82fa-4685-b07f-a7b5eb9d0dd9",
   "metadata": {},
   "source": [
    "#### Cross Validation"
   ]
  },
  {
   "cell_type": "code",
   "execution_count": null,
   "id": "d0c46b8b-4a31-4842-9247-373e3c218377",
   "metadata": {},
   "outputs": [],
   "source": []
  },
  {
   "cell_type": "markdown",
   "id": "4f13a7a1-159a-414f-8a83-af57ec319ce4",
   "metadata": {},
   "source": [
    "#### Check to see if data can be used to predict the lables"
   ]
  },
  {
   "cell_type": "code",
   "execution_count": null,
   "id": "a7752d69-567d-490f-a1ac-f260ea884aca",
   "metadata": {},
   "outputs": [],
   "source": []
  },
  {
   "cell_type": "markdown",
   "id": "be9f02af-96a0-4ded-9229-452e1289135d",
   "metadata": {},
   "source": [
    "#### Train and Test Accuracy Scores"
   ]
  },
  {
   "cell_type": "code",
   "execution_count": null,
   "id": "a4af4c09-c045-41ef-aaf4-ca744ebb047e",
   "metadata": {},
   "outputs": [],
   "source": []
  },
  {
   "cell_type": "markdown",
   "id": "6d01afc4-f7e7-4543-aef6-60d61de295c7",
   "metadata": {},
   "source": [
    "### AdaBoost Decision Tree"
   ]
  },
  {
   "cell_type": "markdown",
   "id": "eafd8d1c-fa8a-478a-9015-3985eac57ed2",
   "metadata": {},
   "source": [
    "#### Can we increase accuracy from previous steps? Can we figure out which features matter the most?"
   ]
  },
  {
   "cell_type": "code",
   "execution_count": null,
   "id": "6e2b28f3-59ac-478b-a548-6b8d54fc0ddb",
   "metadata": {},
   "outputs": [],
   "source": []
  },
  {
   "cell_type": "markdown",
   "id": "d614daaf-33d2-48d1-beb1-fd9a663f9f18",
   "metadata": {},
   "source": [
    "#### Train and Test Accuracy Scores"
   ]
  },
  {
   "cell_type": "code",
   "execution_count": null,
   "id": "cec64f41-86d9-4245-9130-9b0bed12e6b1",
   "metadata": {},
   "outputs": [],
   "source": []
  },
  {
   "cell_type": "markdown",
   "id": "0fa16ecb-528b-4471-8f94-91687956a19b",
   "metadata": {},
   "source": [
    "#### Kernel SVM"
   ]
  },
  {
   "cell_type": "code",
   "execution_count": null,
   "id": "63f08c62-5f13-4a85-b35d-9e0cd8bebe89",
   "metadata": {},
   "outputs": [],
   "source": []
  },
  {
   "cell_type": "markdown",
   "id": "44452e69-0ee7-47b2-9055-5edbf09a829a",
   "metadata": {
    "jp-MarkdownHeadingCollapsed": true,
    "tags": []
   },
   "source": [
    "## Data Visualization"
   ]
  },
  {
   "cell_type": "markdown",
   "id": "918fc892-c37e-4ba3-a8b4-8f3dc8722a99",
   "metadata": {},
   "source": [
    "#### SVM Decision Boundary Graph"
   ]
  },
  {
   "cell_type": "code",
   "execution_count": null,
   "id": "ed9d2b70-cf64-4d68-8d42-8c1fe0bece5d",
   "metadata": {},
   "outputs": [],
   "source": []
  },
  {
   "cell_type": "markdown",
   "id": "bdcc75c4-47ac-4b03-b65c-df50f3fae353",
   "metadata": {},
   "source": [
    "#### AdaBoost Decision Tree Graph\n",
    "https://www.ashishmenkudale.com/spark-tree-plotting/"
   ]
  },
  {
   "cell_type": "code",
   "execution_count": null,
   "id": "97422366-e38e-4bea-a691-0faf2d2ed948",
   "metadata": {},
   "outputs": [],
   "source": []
  },
  {
   "cell_type": "markdown",
   "id": "baa228f7-a545-4030-93f1-3181866d9057",
   "metadata": {},
   "source": [
    "# Stop spark session"
   ]
  },
  {
   "cell_type": "code",
   "execution_count": 41,
   "id": "49137ca0-7293-4df6-b5c2-5e8f2d855c4c",
   "metadata": {},
   "outputs": [],
   "source": [
    "#spark.stop()"
   ]
  },
  {
   "cell_type": "code",
   "execution_count": null,
   "id": "b7535758-cb7e-4f67-bf8c-ee1312d9d71e",
   "metadata": {},
   "outputs": [],
   "source": []
  }
 ],
 "metadata": {
  "kernelspec": {
   "display_name": "Python 3 (ipykernel)",
   "language": "python",
   "name": "python3"
  },
  "language_info": {
   "codemirror_mode": {
    "name": "ipython",
    "version": 3
   },
   "file_extension": ".py",
   "mimetype": "text/x-python",
   "name": "python",
   "nbconvert_exporter": "python",
   "pygments_lexer": "ipython3",
   "version": "3.8.10"
  }
 },
 "nbformat": 4,
 "nbformat_minor": 5
}
