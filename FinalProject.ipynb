{
 "cells": [
  {
   "cell_type": "markdown",
   "id": "fceedc51-b906-4aad-ae24-922401a8a6ca",
   "metadata": {
    "tags": []
   },
   "source": [
    "# CalCOFI\n",
    "\n",
    "Over 60 years of oceanographic data from California Cooperative Oceanic Fisheries Investigations (CalCOFI).\n",
    "\n",
    "Dataset downloaded from Kaggle: https://www.kaggle.com/datasets/sohier/calcofi\n",
    "\n",
    "Column info: https://calcofi.org/data/oceanographic-data/bottle-database/\n",
    "\n",
    "# Table of Contents<a id=\"toc\"></a>"
   ]
  },
  {
   "cell_type": "markdown",
   "id": "ccd08259-2f38-454b-8024-05300c8681d8",
   "metadata": {},
   "source": [
    "1. [Question](#question)\n",
    "2. [EDA and Data Preparation](#eda)\n",
    "    1. [Load data](#loaddata)\n",
    "    2. [Remove columns that are not needed](#delete1)\n",
    "    3. [Handle quality values](#delete2)\n",
    "    4. [Remove columns with low data count](#delete3)\n",
    "    5. [Remove null values from chlorophyll column](#dropna)\n",
    "    6. [Remove duplicate columns](#delete4)\n",
    "    7. [Lasso regression](#lasso)\n",
    "        1. [Fill null values](#fillna)\n",
    "        2. [Fitting the model](#lassofitting)\n",
    "        3. [Using the lasso results](#delete5)\n",
    "    8. [Deleting bad quality data](#delete2_2)\n",
    "        4. [Resuming use of lasso results](#resumelasso)\n",
    "    9. [Feature correlation](#correlation)\n",
    "    10. [Make sure column values are the right type](#checkschema)\n",
    "    11. [Summary Statistics](#summarystatistics)\n",
    "3. [Feature Selection and Target Cleaning](#featuretarget)\n",
    "    12. [Distribution of data for cholorophyll levels, summary stats](#summarystats)\n",
    "    13. [Define cholorophyll category levels: low, medium, high?](#lowmediumhigh)\n",
    "    14. [Map cholorophyll levels](#maplevels)\n",
    "4. [Models](#models)\n",
    "    15. Setup\n",
    "        5. [Assemble Feature Vector](#assemble)\n",
    "        6. [Split Data: Train, Test, Validation, 80, 10, 10](#split)\n",
    "        7. [Scale Data](#scale)\n",
    "        8. [Check for Imblance in datasets](#checkimbalance)\n",
    "    16. [Logistic Regresssion Model](#logisticregression)\n",
    "        9. [Testing parameters](#lrparams)\n",
    "        10. [Fit the model with optimal parameters](#lrfit)\n",
    "        11. [Results](#lrresults)\n",
    "    17. [Decision Tree](#decisiontree)\n",
    "        12. [Testing parameters](#dtparams)\n",
    "        13. [Fit the model with optimal parameters](#dtfit)\n",
    "        14. [Results](#dtresults)\n",
    "5. [Stop spark session](#stop)"
   ]
  },
  {
   "cell_type": "markdown",
   "id": "2bba380d-bab6-4fe0-a7fc-f02d2a7cca8f",
   "metadata": {
    "tags": []
   },
   "source": [
    "# Questions<a id=\"question\"></a>"
   ]
  },
  {
   "cell_type": "markdown",
   "id": "72a906d2-51a6-435e-b8f6-956348344ffc",
   "metadata": {},
   "source": [
    "Can we predict chlorophyll abundance without having to measure it?\n",
    "\n",
    "If so, which chemicals have the highest influence on the predictions?"
   ]
  },
  {
   "cell_type": "markdown",
   "id": "29acbab4-a9db-4185-acc5-ca30d8529331",
   "metadata": {
    "tags": []
   },
   "source": [
    "# EDA and Data Preparation<a id=\"eda\"></a>"
   ]
  },
  {
   "cell_type": "code",
   "execution_count": 1,
   "id": "eff18d45-0aa8-4e1a-8206-124a541b2d1b",
   "metadata": {},
   "outputs": [],
   "source": [
    "from pyspark.sql.functions import *"
   ]
  },
  {
   "cell_type": "markdown",
   "id": "aa9f2d50-db24-4988-852b-803f9f4c1cb2",
   "metadata": {
    "tags": []
   },
   "source": [
    "#### Load data<a id=\"loaddata\"></a>"
   ]
  },
  {
   "cell_type": "code",
   "execution_count": 2,
   "id": "157f41db-c8b0-4f58-b55c-ea8902313802",
   "metadata": {
    "tags": []
   },
   "outputs": [
    {
     "name": "stderr",
     "output_type": "stream",
     "text": [
      "WARNING: An illegal reflective access operation has occurred\n",
      "WARNING: Illegal reflective access by org.apache.spark.unsafe.Platform (file:/usr/spark-3.2.1/jars/spark-unsafe_2.12-3.2.1.jar) to constructor java.nio.DirectByteBuffer(long,int)\n",
      "WARNING: Please consider reporting this to the maintainers of org.apache.spark.unsafe.Platform\n",
      "WARNING: Use --illegal-access=warn to enable warnings of further illegal reflective access operations\n",
      "WARNING: All illegal access operations will be denied in a future release\n",
      "Setting default log level to \"WARN\".\n",
      "To adjust logging level use sc.setLogLevel(newLevel). For SparkR, use setLogLevel(newLevel).\n",
      "2022-05-30 00:39:56,536 WARN util.NativeCodeLoader: Unable to load native-hadoop library for your platform... using builtin-java classes where applicable\n"
     ]
    },
    {
     "data": {
      "text/plain": [
       "'3.2.1'"
      ]
     },
     "execution_count": 2,
     "metadata": {},
     "output_type": "execute_result"
    }
   ],
   "source": [
    "# Loading in spark\n",
    "import pyspark\n",
    "from pyspark.sql import SparkSession\n",
    "\n",
    "conf = pyspark.SparkConf().setAll([\n",
    "    ('spark.master', 'local[2]'), \n",
    "    ('spark.app.name', 'App Name')])\n",
    "    \n",
    "spark = SparkSession.builder.config(conf=conf).getOrCreate()\n",
    "spark.version"
   ]
  },
  {
   "cell_type": "code",
   "execution_count": 3,
   "id": "b8f6f5c2-1440-4cf2-9cae-ab3c320a4a8f",
   "metadata": {},
   "outputs": [
    {
     "name": "stderr",
     "output_type": "stream",
     "text": [
      "2022-05-30 00:40:05,978 WARN util.package: Truncated the string representation of a plan since it was too large. This behavior can be adjusted by setting 'spark.sql.debug.maxToStringFields'.\n",
      "[Stage 2:=============================>                             (1 + 1) / 2]\r"
     ]
    },
    {
     "name": "stdout",
     "output_type": "stream",
     "text": [
      "There are 864863 rows in the initial dataframe\n"
     ]
    },
    {
     "name": "stderr",
     "output_type": "stream",
     "text": [
      "                                                                                \r"
     ]
    }
   ],
   "source": [
    "# Read the data from hdfs\n",
    "bottle = spark.read.csv('hdfs:///bottle.csv', header=True, inferSchema=True).cache()\n",
    "maxRows = bottle.count()\n",
    "print('There are', maxRows, 'rows in the initial dataframe')"
   ]
  },
  {
   "cell_type": "code",
   "execution_count": 4,
   "id": "a5b549a1-17a7-4e3c-b00e-44d029c5651e",
   "metadata": {},
   "outputs": [
    {
     "name": "stdout",
     "output_type": "stream",
     "text": [
      "There are 74 columns in the original dataframe\n",
      "root\n",
      " |-- Cst_Cnt: integer (nullable = true)\n",
      " |-- Btl_Cnt: integer (nullable = true)\n",
      " |-- Sta_ID: string (nullable = true)\n",
      " |-- Depth_ID: string (nullable = true)\n",
      " |-- Depthm: integer (nullable = true)\n",
      " |-- T_degC: double (nullable = true)\n",
      " |-- Salnty: double (nullable = true)\n",
      " |-- O2ml_L: double (nullable = true)\n",
      " |-- STheta: double (nullable = true)\n",
      " |-- O2Sat: double (nullable = true)\n",
      " |-- Oxy_µmol/Kg: double (nullable = true)\n",
      " |-- BtlNum: integer (nullable = true)\n",
      " |-- RecInd: integer (nullable = true)\n",
      " |-- T_prec: integer (nullable = true)\n",
      " |-- T_qual: integer (nullable = true)\n",
      " |-- S_prec: integer (nullable = true)\n",
      " |-- S_qual: integer (nullable = true)\n",
      " |-- P_qual: integer (nullable = true)\n",
      " |-- O_qual: integer (nullable = true)\n",
      " |-- SThtaq: integer (nullable = true)\n",
      " |-- O2Satq: integer (nullable = true)\n",
      " |-- ChlorA: double (nullable = true)\n",
      " |-- Chlqua: integer (nullable = true)\n",
      " |-- Phaeop: double (nullable = true)\n",
      " |-- Phaqua: integer (nullable = true)\n",
      " |-- PO4uM: double (nullable = true)\n",
      " |-- PO4q: integer (nullable = true)\n",
      " |-- SiO3uM: double (nullable = true)\n",
      " |-- SiO3qu: integer (nullable = true)\n",
      " |-- NO2uM: double (nullable = true)\n",
      " |-- NO2q: integer (nullable = true)\n",
      " |-- NO3uM: double (nullable = true)\n",
      " |-- NO3q: integer (nullable = true)\n",
      " |-- NH3uM: double (nullable = true)\n",
      " |-- NH3q: integer (nullable = true)\n",
      " |-- C14As1: double (nullable = true)\n",
      " |-- C14A1p: integer (nullable = true)\n",
      " |-- C14A1q: integer (nullable = true)\n",
      " |-- C14As2: double (nullable = true)\n",
      " |-- C14A2p: integer (nullable = true)\n",
      " |-- C14A2q: integer (nullable = true)\n",
      " |-- DarkAs: double (nullable = true)\n",
      " |-- DarkAp: integer (nullable = true)\n",
      " |-- DarkAq: integer (nullable = true)\n",
      " |-- MeanAs: double (nullable = true)\n",
      " |-- MeanAp: integer (nullable = true)\n",
      " |-- MeanAq: integer (nullable = true)\n",
      " |-- IncTim: string (nullable = true)\n",
      " |-- LightP: double (nullable = true)\n",
      " |-- R_Depth: double (nullable = true)\n",
      " |-- R_TEMP: double (nullable = true)\n",
      " |-- R_POTEMP: double (nullable = true)\n",
      " |-- R_SALINITY: double (nullable = true)\n",
      " |-- R_SIGMA: double (nullable = true)\n",
      " |-- R_SVA: double (nullable = true)\n",
      " |-- R_DYNHT: double (nullable = true)\n",
      " |-- R_O2: double (nullable = true)\n",
      " |-- R_O2Sat: double (nullable = true)\n",
      " |-- R_SIO3: double (nullable = true)\n",
      " |-- R_PO4: double (nullable = true)\n",
      " |-- R_NO3: double (nullable = true)\n",
      " |-- R_NO2: double (nullable = true)\n",
      " |-- R_NH4: double (nullable = true)\n",
      " |-- R_CHLA: double (nullable = true)\n",
      " |-- R_PHAEO: double (nullable = true)\n",
      " |-- R_PRES: integer (nullable = true)\n",
      " |-- R_SAMP: integer (nullable = true)\n",
      " |-- DIC1: double (nullable = true)\n",
      " |-- DIC2: double (nullable = true)\n",
      " |-- TA1: double (nullable = true)\n",
      " |-- TA2: double (nullable = true)\n",
      " |-- pH2: double (nullable = true)\n",
      " |-- pH1: double (nullable = true)\n",
      " |-- DIC Quality Comment: string (nullable = true)\n",
      "\n"
     ]
    }
   ],
   "source": [
    "# View the inferred schema\n",
    "print('There are', len(bottle.columns), 'columns in the original dataframe')\n",
    "bottle.printSchema()"
   ]
  },
  {
   "cell_type": "code",
   "execution_count": 5,
   "id": "2f9c310a-7bc4-42ed-9e77-08c50a638897",
   "metadata": {
    "tags": []
   },
   "outputs": [
    {
     "name": "stdout",
     "output_type": "stream",
     "text": [
      "+-------+-------+-----------+--------------------+------+------+------+------+------+-----+-----------+------+------+------+------+------+------+------+------+------+------+------+------+------+------+-----+----+------+------+-----+----+-----+----+-----+----+------+------+------+------+------+------+------+------+------+------+------+------+------+------+-------+------+--------+----------+-------+-----+-------+----+-------+------+-----+-----+-----+-----+------+-------+------+------+----+----+----+----+----+----+-------------------+\n",
      "|Cst_Cnt|Btl_Cnt|     Sta_ID|            Depth_ID|Depthm|T_degC|Salnty|O2ml_L|STheta|O2Sat|Oxy_µmol/Kg|BtlNum|RecInd|T_prec|T_qual|S_prec|S_qual|P_qual|O_qual|SThtaq|O2Satq|ChlorA|Chlqua|Phaeop|Phaqua|PO4uM|PO4q|SiO3uM|SiO3qu|NO2uM|NO2q|NO3uM|NO3q|NH3uM|NH3q|C14As1|C14A1p|C14A1q|C14As2|C14A2p|C14A2q|DarkAs|DarkAp|DarkAq|MeanAs|MeanAp|MeanAq|IncTim|LightP|R_Depth|R_TEMP|R_POTEMP|R_SALINITY|R_SIGMA|R_SVA|R_DYNHT|R_O2|R_O2Sat|R_SIO3|R_PO4|R_NO3|R_NO2|R_NH4|R_CHLA|R_PHAEO|R_PRES|R_SAMP|DIC1|DIC2| TA1| TA2| pH2| pH1|DIC Quality Comment|\n",
      "+-------+-------+-----------+--------------------+------+------+------+------+------+-----+-----------+------+------+------+------+------+------+------+------+------+------+------+------+------+------+-----+----+------+------+-----+----+-----+----+-----+----+------+------+------+------+------+------+------+------+------+------+------+------+------+------+-------+------+--------+----------+-------+-----+-------+----+-------+------+-----+-----+-----+-----+------+-------+------+------+----+----+----+----+----+----+-------------------+\n",
      "|      1|      1|054.0 056.0|19-4903CR-HY-060-...|     0|  10.5| 33.44|  null|25.649| null|       null|  null|     3|     1|  null|     2|  null|     9|     9|  null|     9|  null|     9|  null|     9| null|   9|  null|     9| null|   9| null|   9| null|   9|  null|  null|     9|  null|  null|     9|  null|  null|     9|  null|  null|     9|  null|  null|    0.0|  10.5|    10.5|     33.44|  25.64|233.0|    0.0|null|   null|  null| null| null| null| null|  null|   null|     0|  null|null|null|null|null|null|null|               null|\n",
      "|      1|      2|054.0 056.0|19-4903CR-HY-060-...|     8| 10.46| 33.44|  null|25.656| null|       null|  null|     3|     2|  null|     2|  null|     9|     9|  null|     9|  null|     9|  null|     9| null|   9|  null|     9| null|   9| null|   9| null|   9|  null|  null|     9|  null|  null|     9|  null|  null|     9|  null|  null|     9|  null|  null|    8.0| 10.46|   10.46|     33.44|  25.65|232.5|   0.01|null|   null|  null| null| null| null| null|  null|   null|     8|  null|null|null|null|null|null|null|               null|\n",
      "+-------+-------+-----------+--------------------+------+------+------+------+------+-----+-----------+------+------+------+------+------+------+------+------+------+------+------+------+------+------+-----+----+------+------+-----+----+-----+----+-----+----+------+------+------+------+------+------+------+------+------+------+------+------+------+------+-------+------+--------+----------+-------+-----+-------+----+-------+------+-----+-----+-----+-----+------+-------+------+------+----+----+----+----+----+----+-------------------+\n",
      "only showing top 2 rows\n",
      "\n"
     ]
    }
   ],
   "source": [
    "# See a snippet of what this dataframe looks like\n",
    "bottle.show(2)"
   ]
  },
  {
   "cell_type": "markdown",
   "id": "7a770a39-1eed-4357-8324-6b219708eab7",
   "metadata": {},
   "source": [
    "***\n",
    "[(Return to Table of Contents)](#toc)"
   ]
  },
  {
   "cell_type": "markdown",
   "id": "f8bd0c64-b9f9-4bc2-9ca0-43c52572cd5d",
   "metadata": {
    "tags": []
   },
   "source": [
    "### Remove columns that are not needed<a id=\"delete1\"></a>"
   ]
  },
  {
   "cell_type": "markdown",
   "id": "a9298c03-b355-4f8c-b8c1-3637564128c1",
   "metadata": {
    "tags": []
   },
   "source": [
    "Removing the four string columns because they aren't useful for our purposes\n",
    "* Sta_ID: Line and Station\n",
    "* Depth_ID: Uses the Cast_ID prefix ([Century]-[Year][Month][ShipCode]-[CastType][Julian Day]-[CastTime]-[Line][Sta]) but adds three additional variables: [Depth][Bottle]-[Rec_Ind]\n",
    "* IncTim: Elapsed incubation time of the primary productivity experiment\n",
    "* DIC Quality Comment: Quality Comment\n",
    "\n",
    "Also removing the Cast and Bottle counts, which are essentially indexes (identifiers)\n",
    "* 'Cst_Cnt': Auto-numbered Cast Count - all casts consecutively numbered. 1 is first station done\n",
    "* 'Btl_Cnt': Auto-numbered Bottle count- all bottles ever sampled, consecutively numbered\n",
    "* 'BtlNum': Bottle Number"
   ]
  },
  {
   "cell_type": "code",
   "execution_count": 6,
   "id": "3cb638b3-e274-43c1-9ccb-10556b29e96c",
   "metadata": {
    "tags": []
   },
   "outputs": [
    {
     "name": "stdout",
     "output_type": "stream",
     "text": [
      "There are now 67 columns and 864863 rows\n",
      "+------+------+------+------+------+-----+-----------+------+------+------+------+------+------+------+------+------+------+------+------+------+-----+----+------+------+-----+----+-----+----+-----+----+------+------+------+------+------+------+------+------+------+------+------+------+------+-------+------+--------+----------+-------+-----+-------+----+-------+------+-----+-----+-----+-----+------+-------+------+------+----+----+----+----+----+----+\n",
      "|Depthm|T_degC|Salnty|O2ml_L|STheta|O2Sat|Oxy_µmol/Kg|RecInd|T_prec|T_qual|S_prec|S_qual|P_qual|O_qual|SThtaq|O2Satq|ChlorA|Chlqua|Phaeop|Phaqua|PO4uM|PO4q|SiO3uM|SiO3qu|NO2uM|NO2q|NO3uM|NO3q|NH3uM|NH3q|C14As1|C14A1p|C14A1q|C14As2|C14A2p|C14A2q|DarkAs|DarkAp|DarkAq|MeanAs|MeanAp|MeanAq|LightP|R_Depth|R_TEMP|R_POTEMP|R_SALINITY|R_SIGMA|R_SVA|R_DYNHT|R_O2|R_O2Sat|R_SIO3|R_PO4|R_NO3|R_NO2|R_NH4|R_CHLA|R_PHAEO|R_PRES|R_SAMP|DIC1|DIC2|TA1 |TA2 |pH2 |pH1 |\n",
      "+------+------+------+------+------+-----+-----------+------+------+------+------+------+------+------+------+------+------+------+------+------+-----+----+------+------+-----+----+-----+----+-----+----+------+------+------+------+------+------+------+------+------+------+------+------+------+-------+------+--------+----------+-------+-----+-------+----+-------+------+-----+-----+-----+-----+------+-------+------+------+----+----+----+----+----+----+\n",
      "|0     |10.5  |33.44 |null  |25.649|null |null       |3     |1     |null  |2     |null  |9     |9     |null  |9     |null  |9     |null  |9     |null |9   |null  |9     |null |9   |null |9   |null |9   |null  |null  |9     |null  |null  |9     |null  |null  |9     |null  |null  |9     |null  |0.0    |10.5  |10.5    |33.44     |25.64  |233.0|0.0    |null|null   |null  |null |null |null |null |null  |null   |0     |null  |null|null|null|null|null|null|\n",
      "|8     |10.46 |33.44 |null  |25.656|null |null       |3     |2     |null  |2     |null  |9     |9     |null  |9     |null  |9     |null  |9     |null |9   |null  |9     |null |9   |null |9   |null |9   |null  |null  |9     |null  |null  |9     |null  |null  |9     |null  |null  |9     |null  |8.0    |10.46 |10.46   |33.44     |25.65  |232.5|0.01   |null|null   |null  |null |null |null |null |null  |null   |8     |null  |null|null|null|null|null|null|\n",
      "+------+------+------+------+------+-----+-----------+------+------+------+------+------+------+------+------+------+------+------+------+------+-----+----+------+------+-----+----+-----+----+-----+----+------+------+------+------+------+------+------+------+------+------+------+------+------+-------+------+--------+----------+-------+-----+-------+----+-------+------+-----+-----+-----+-----+------+-------+------+------+----+----+----+----+----+----+\n",
      "only showing top 2 rows\n",
      "\n"
     ]
    }
   ],
   "source": [
    "# Dropping unneeded columns and viewing two rows of the resulting dataframe\n",
    "deleteList1 = ['Sta_ID','Depth_ID','IncTim','DIC Quality Comment','Cst_Cnt','Btl_Cnt','BtlNum']\n",
    "bottle = bottle.drop(*deleteList1)\n",
    "\n",
    "print('There are now', len(bottle.columns), 'columns and', bottle.count(), 'rows')\n",
    "bottle.show(2, truncate=False)"
   ]
  },
  {
   "cell_type": "markdown",
   "id": "de31b6df-d546-4951-9784-04eb48f70489",
   "metadata": {},
   "source": [
    "***\n",
    "[(Return to Table of Contents)](#toc)"
   ]
  },
  {
   "cell_type": "markdown",
   "id": "19572ed7-aa1b-49f4-ac37-5dd68db3a20c",
   "metadata": {
    "tags": []
   },
   "source": [
    "### Handle quality values<a id=\"delete2\"></a>"
   ]
  },
  {
   "cell_type": "markdown",
   "id": "6d923432-39d4-48f2-a991-c38d8c750408",
   "metadata": {},
   "source": [
    "These columns indicate the quality of the measurements taken. Eventually we will delete these columns because we want to use the quantity measurements for our final model, but for now we keep these columns because we'll use their code for \"badly recorded data\" to delete those badly recorded measurements.\n",
    "* T_qual: Temperature Quality Code\n",
    "* S_qual: Salinity Quality Code\n",
    "* P_qual: Pressure Quality Code\n",
    "* O_qual: Oxygen Quality Code\n",
    "* 'O2Satq': Oxygen Saturation Quality Code\n",
    "* 'Chlqua': Chlorophyll-a Quality Code\n",
    "* 'Phaeop': Phaeophytin Quality Code\n",
    "* 'Phaqua': Phosphate Quality Code\n",
    "* 'PO4uM': Salinity Quality Code\n",
    "* 'PO4q': Phosphate Quality Code\n",
    "* 'SiO3qu': Quality Code\n",
    "* 'NO2q': Quality Code\n",
    "* 'NO3q': Nitrate Quality Code\n",
    "* 'NH3q': Ammonium Quality Code\n",
    "* 'C14A1q': 14C As1 Quality Code\n",
    "* 'C14A2q': 14C As2 Quality Code\n",
    "* 'DarkAq': 14C Assimilation Dark Bottle Quality Code\n",
    "* 'MeanAq': Mean 14C Assimilation Quality Code\n",
    "\n",
    "When the quality code = 8, the recorded measurement is considered badly measured. Eventually we will use these 8s to delete rows from the dataframe, but first we'd like to use Lasso regression to find the most important columns of which these quality columns can be used for."
   ]
  },
  {
   "cell_type": "code",
   "execution_count": 7,
   "id": "d54bdbfb-d9c7-4d90-8c6f-217c54a2ba9a",
   "metadata": {},
   "outputs": [],
   "source": [
    "# Create the list of quality columns, but don't delete yet\n",
    "deleteList2 = ['T_qual','S_qual','P_qual','O_qual','O2Satq','Chlqua', 'Phaqua','PO4q',\n",
    "               'SiO3qu','NO2q','NO3q','NH3q','C14A1q','C14A2q','DarkAq','MeanAq']"
   ]
  },
  {
   "cell_type": "markdown",
   "id": "1bb6337a-e159-448c-951f-b984eb1864b5",
   "metadata": {},
   "source": [
    "***\n",
    "[(Return to Table of Contents)](#toc)"
   ]
  },
  {
   "cell_type": "markdown",
   "id": "62375da2-864f-4965-a91d-17f5a6bb64bd",
   "metadata": {
    "tags": []
   },
   "source": [
    "### Remove columns with low data count<a id=\"delete3\"></a>"
   ]
  },
  {
   "cell_type": "markdown",
   "id": "c6515f03-4e87-44f3-8a90-19d8e0da5877",
   "metadata": {},
   "source": [
    "We start by counting the number of NaNs and nulls in each column and reporting them in a new dataframe. Then the columns with less than 200,000 non-nulls are deleted."
   ]
  },
  {
   "cell_type": "code",
   "execution_count": 8,
   "id": "d0e938fa-d0dd-4b66-a91b-9455da02f343",
   "metadata": {
    "tags": []
   },
   "outputs": [
    {
     "name": "stderr",
     "output_type": "stream",
     "text": [
      "[Stage 10:>                                                         (0 + 2) / 2]\r"
     ]
    },
    {
     "name": "stdout",
     "output_type": "stream",
     "text": [
      "+------+------+------+------+------+------+-----------+------+------+------+------+------+------+------+------+------+------+------+------+------+------+------+------+------+------+------+------+------+------+-----+------+------+------+------+------+------+------+------+------+------+------+------+------+-------+------+--------+----------+-------+-----+-------+------+-------+------+------+------+------+------+------+-------+------+------+------+------+------+------+------+------+\n",
      "|Depthm|T_degC|Salnty|O2ml_L|STheta| O2Sat|Oxy_µmol/Kg|RecInd|T_prec|T_qual|S_prec|S_qual|P_qual|O_qual|SThtaq|O2Satq|ChlorA|Chlqua|Phaeop|Phaqua| PO4uM|  PO4q|SiO3uM|SiO3qu| NO2uM|  NO2q| NO3uM|  NO3q| NH3uM| NH3q|C14As1|C14A1p|C14A1q|C14As2|C14A2p|C14A2q|DarkAs|DarkAp|DarkAq|MeanAs|MeanAp|MeanAq|LightP|R_Depth|R_TEMP|R_POTEMP|R_SALINITY|R_SIGMA|R_SVA|R_DYNHT|  R_O2|R_O2Sat|R_SIO3| R_PO4| R_NO3| R_NO2| R_NH4|R_CHLA|R_PHAEO|R_PRES|R_SAMP|  DIC1|  DIC2|   TA1|   TA2|   pH2|   pH1|\n",
      "+------+------+------+------+------+------+-----------+------+------+------+------+------+------+------+------+------+------+------+------+------+------+------+------+------+------+------+------+------+------+-----+------+------+------+------+------+------+------+------+------+------+------+------+------+-------+------+--------+----------+-------+-----+-------+------+-------+------+------+------+------+------+------+-------+------+------+------+------+------+------+------+------+\n",
      "|     0| 10963| 47354|168662| 52689|203589|     203595|     0| 10963|841736| 47354|789949|191108|680187|799040|647066|639591|225697|639592|225693|451546|413077|510772|353997|527287|335389|527460|334930|799901|56564|850431|852103| 16258|850449|852121| 16240|842214|844406| 24423|842213|844406| 24424|846212|      0| 10963|   46047|     47354|  52856|52771|  46657|168662| 198415|510764|451538|527452|527279|799881|639587| 639588|     0|742857|862864|864639|862779|864629|864853|864779|\n",
      "+------+------+------+------+------+------+-----------+------+------+------+------+------+------+------+------+------+------+------+------+------+------+------+------+------+------+------+------+------+------+-----+------+------+------+------+------+------+------+------+------+------+------+------+------+-------+------+--------+----------+-------+-----+-------+------+-------+------+------+------+------+------+------+-------+------+------+------+------+------+------+------+------+\n",
      "\n"
     ]
    },
    {
     "name": "stderr",
     "output_type": "stream",
     "text": [
      "                                                                                \r"
     ]
    }
   ],
   "source": [
    "# Counting the number of null/NaN rows per column and outputting that in a new dataframe\n",
    "def getNullCounts(df):\n",
    "    return df.select([count(when(isnan(c) | col(c).isNull(), c)).alias(c) for c in df.columns])\n",
    "\n",
    "nullCounter = getNullCounts(bottle)\n",
    "nullCounter.show()"
   ]
  },
  {
   "cell_type": "code",
   "execution_count": 9,
   "id": "430a2382-c5b9-4bbb-8e22-5492374522e7",
   "metadata": {
    "tags": []
   },
   "outputs": [
    {
     "name": "stdout",
     "output_type": "stream",
     "text": [
      "There are now 45 columns and 864863 rows\n",
      "+------+------+------+------+------+-----+-----------+------+------+------+------+------+------+------+------+------+-----+----+------+------+-----+----+-----+----+----+------+------+------+------+-------+------+--------+----------+-------+-----+-------+----+-------+------+-----+-----+-----+------+-------+------+\n",
      "|Depthm|T_degC|Salnty|O2ml_L|STheta|O2Sat|Oxy_µmol/Kg|RecInd|T_prec|S_prec|P_qual|O2Satq|ChlorA|Chlqua|Phaeop|Phaqua|PO4uM|PO4q|SiO3uM|SiO3qu|NO2uM|NO2q|NO3uM|NO3q|NH3q|C14A1q|C14A2q|DarkAq|MeanAq|R_Depth|R_TEMP|R_POTEMP|R_SALINITY|R_SIGMA|R_SVA|R_DYNHT|R_O2|R_O2Sat|R_SIO3|R_PO4|R_NO3|R_NO2|R_CHLA|R_PHAEO|R_PRES|\n",
      "+------+------+------+------+------+-----+-----------+------+------+------+------+------+------+------+------+------+-----+----+------+------+-----+----+-----+----+----+------+------+------+------+-------+------+--------+----------+-------+-----+-------+----+-------+------+-----+-----+-----+------+-------+------+\n",
      "|0     |10.5  |33.44 |null  |25.649|null |null       |3     |1     |2     |9     |9     |null  |9     |null  |9     |null |9   |null  |9     |null |9   |null |9   |9   |9     |9     |9     |9     |0.0    |10.5  |10.5    |33.44     |25.64  |233.0|0.0    |null|null   |null  |null |null |null |null  |null   |0     |\n",
      "|8     |10.46 |33.44 |null  |25.656|null |null       |3     |2     |2     |9     |9     |null  |9     |null  |9     |null |9   |null  |9     |null |9   |null |9   |9   |9     |9     |9     |9     |8.0    |10.46 |10.46   |33.44     |25.65  |232.5|0.01   |null|null   |null  |null |null |null |null  |null   |8     |\n",
      "+------+------+------+------+------+-----+-----------+------+------+------+------+------+------+------+------+------+-----+----+------+------+-----+----+-----+----+----+------+------+------+------+-------+------+--------+----------+-------+-----+-------+----+-------+------+-----+-----+-----+------+-------+------+\n",
      "only showing top 2 rows\n",
      "\n"
     ]
    }
   ],
   "source": [
    "# Deleting columns with less than 200000 non-nulls\n",
    "thresh = maxRows - 200000\n",
    "deleteList3 = []\n",
    "for value in nullCounter.columns:\n",
    "    if nullCounter.filter(nullCounter[value] > thresh).select(nullCounter[value]).collect():\n",
    "        deleteList3.append(value)\n",
    "bottle = bottle.drop(*deleteList3)\n",
    "\n",
    "print('There are now', len(bottle.columns), 'columns and', bottle.count(), 'rows')\n",
    "bottle.show(2, truncate=False)"
   ]
  },
  {
   "cell_type": "markdown",
   "id": "3c3a80bb-7680-4e87-a065-3a2999e27715",
   "metadata": {},
   "source": [
    "***\n",
    "[(Return to Table of Contents)](#toc)"
   ]
  },
  {
   "cell_type": "markdown",
   "id": "b2f0d9f2-f4ab-4ca4-930f-0f2a93e9c126",
   "metadata": {
    "tags": []
   },
   "source": [
    "### Remove null values from chlorophyll column<a id=\"dropna\"></a>"
   ]
  },
  {
   "cell_type": "markdown",
   "id": "bfde08e1-432b-4709-9333-8fd25af5f2b7",
   "metadata": {
    "tags": []
   },
   "source": [
    "Because this is the target column, we can only use the non-null rows. We also get rid of the duplicate chlorophyll column `ChlorA`, keeping `R_CHLA` because it has less non-null rows (though only by a few)."
   ]
  },
  {
   "cell_type": "code",
   "execution_count": 10,
   "id": "a98682bb-1025-43c0-81af-2cc73a7976f7",
   "metadata": {
    "tags": []
   },
   "outputs": [
    {
     "data": {
      "text/plain": [
       "0.9999995087108816"
      ]
     },
     "execution_count": 10,
     "metadata": {},
     "output_type": "execute_result"
    }
   ],
   "source": [
    "# Illustrating that we have two target columns that are essentially duplicates of each other\n",
    "bottle.corr('ChlorA','R_CHLA')"
   ]
  },
  {
   "cell_type": "markdown",
   "id": "d328e6c2-b8ab-4925-91ef-2b9dcda91f28",
   "metadata": {},
   "source": [
    "Because we only need one of these columns, we can delete the other. Then we drop all null rows of the R_CHLA column since it's our target."
   ]
  },
  {
   "cell_type": "code",
   "execution_count": 11,
   "id": "b0277500-8de6-4881-a7e8-54c87554155c",
   "metadata": {},
   "outputs": [
    {
     "name": "stdout",
     "output_type": "stream",
     "text": [
      "+------+------+\n",
      "|ChlorA|R_CHLA|\n",
      "+------+------+\n",
      "|639591|639587|\n",
      "+------+------+\n",
      "\n"
     ]
    }
   ],
   "source": [
    "# Looking at which of the two target columns have more NaNs in order to select which to delete\n",
    "nullCounter.select(*['ChlorA','R_CHLA']).show()"
   ]
  },
  {
   "cell_type": "code",
   "execution_count": 12,
   "id": "ab54d498-ec72-4f2d-a48a-3eeaec9ca27c",
   "metadata": {
    "tags": []
   },
   "outputs": [
    {
     "name": "stdout",
     "output_type": "stream",
     "text": [
      "There are now 44 columns and 225276 rows\n",
      "+------+------+------+------+------+-----+-----------+------+------+------+------+------+------+------+------+-----+----+------+------+-----+----+-----+----+----+------+------+------+------+-------+------+--------+----------+-------+-----+-------+----+-------+------+-----+-----+-----+------+-------+------+\n",
      "|Depthm|T_degC|Salnty|O2ml_L|STheta|O2Sat|Oxy_µmol/Kg|RecInd|T_prec|S_prec|P_qual|O2Satq|Chlqua|Phaeop|Phaqua|PO4uM|PO4q|SiO3uM|SiO3qu|NO2uM|NO2q|NO3uM|NO3q|NH3q|C14A1q|C14A2q|DarkAq|MeanAq|R_Depth|R_TEMP|R_POTEMP|R_SALINITY|R_SIGMA|R_SVA|R_DYNHT|R_O2|R_O2Sat|R_SIO3|R_PO4|R_NO3|R_NO2|R_CHLA|R_PHAEO|R_PRES|\n",
      "+------+------+------+------+------+-----+-----------+------+------+------+------+------+------+------+------+-----+----+------+------+-----+----+-----+----+----+------+------+------+------+-------+------+--------+----------+-------+-----+-------+----+-------+------+-----+-----+-----+------+-------+------+\n",
      "|0     |19.23 |34.491|5.46  |24.575|103.9|237.9949   |3     |2     |3     |9     |null  |null  |0.47  |null  |null |9   |null  |9     |null |9   |1.3  |null|9   |9     |9     |9     |9     |0.0    |19.23 |19.23   |34.491    |24.57  |335.3|0.0    |5.46|103.9  |null  |null |1.3  |null |0.64  |0.47   |0     |\n",
      "|10    |19.22 |34.492|5.46  |24.578|103.9|237.9942   |3     |2     |3     |9     |null  |null  |0.38  |null  |null |9   |null  |9     |null |9   |1.9  |null|9   |9     |9     |9     |9     |10.0   |19.22 |19.22   |34.492    |24.57  |335.3|0.03   |5.46|103.9  |null  |null |1.9  |null |0.66  |0.38   |10    |\n",
      "+------+------+------+------+------+-----+-----------+------+------+------+------+------+------+------+------+-----+----+------+------+-----+----+-----+----+----+------+------+------+------+-------+------+--------+----------+-------+-----+-------+----+-------+------+-----+-----+-----+------+-------+------+\n",
      "only showing top 2 rows\n",
      "\n"
     ]
    }
   ],
   "source": [
    "# Delete the ChlorA column and drop all NaN rows in the R_CHLA column\n",
    "bottle = bottle.drop('ChlorA')\n",
    "bottle = bottle.dropna(subset='R_CHLA')\n",
    "\n",
    "print('There are now', len(bottle.columns), 'columns and', bottle.count(), 'rows')\n",
    "bottle.show(2, truncate=False)"
   ]
  },
  {
   "cell_type": "markdown",
   "id": "499ef9eb-b04d-42c9-88c7-e0dc0c424488",
   "metadata": {},
   "source": [
    "***\n",
    "[(Return to Table of Contents)](#toc)"
   ]
  },
  {
   "cell_type": "markdown",
   "id": "a6dd094f-0bab-4514-a326-4f022ba8bcd7",
   "metadata": {
    "tags": []
   },
   "source": [
    "### Remove duplicate columns<a id=\"delete4\"></a>"
   ]
  },
  {
   "cell_type": "markdown",
   "id": "4006a902-9bae-4028-ad1e-d101de2c155d",
   "metadata": {},
   "source": [
    "As we can see from the column above, there are some columns that are essentially duplicates of each other but in different units of measurement. Of the remaining columns, here are their descriptions that will help us determine which features to compare for potential deletion:"
   ]
  },
  {
   "cell_type": "code",
   "execution_count": 13,
   "id": "ee57ca67-892e-4b86-a9f6-d1f802d3f6b9",
   "metadata": {
    "tags": []
   },
   "outputs": [
    {
     "name": "stdout",
     "output_type": "stream",
     "text": [
      "['Depthm', 'T_degC', 'Salnty', 'O2ml_L', 'STheta', 'O2Sat', 'Oxy_µmol/Kg', 'RecInd', 'T_prec', 'S_prec', 'Phaeop', 'PO4uM', 'SiO3uM', 'NO2uM', 'NO3uM', 'R_Depth', 'R_TEMP', 'R_POTEMP', 'R_SALINITY', 'R_SIGMA', 'R_SVA', 'R_DYNHT', 'R_O2', 'R_O2Sat', 'R_SIO3', 'R_PO4', 'R_NO3', 'R_NO2', 'R_CHLA', 'R_PHAEO', 'R_PRES']\n"
     ]
    }
   ],
   "source": [
    "# See what columns we still have\n",
    "\n",
    "attributes = bottle.columns\n",
    "for element in deleteList2:\n",
    "    if element in attributes:\n",
    "        attributes.remove(element)\n",
    "\n",
    "print(attributes)\n",
    "del attributes"
   ]
  },
  {
   "cell_type": "markdown",
   "id": "f616a86b-f8a9-4ff9-999e-153f2066520b",
   "metadata": {
    "tags": []
   },
   "source": [
    "Chlorophyll\n",
    "* 'ChlorA': Acetone extracted chlorophyll-a measured fluorometrically\n",
    "* 'R_CHLA': Reported Chlorophyll-a (micrograms per liter)\n",
    "\n",
    "Depth\n",
    "* 'Depthm': Depth in meters\n",
    "* 'R_Depth': Reported Depth (from pressure) in meters\n",
    "\n",
    "Water density\n",
    "* 'STheta': Potential Density of Water\n",
    "* 'R_SIGMA': Reported Potential Density of water\n",
    "\n",
    "Silicate\n",
    "* 'SiO3uM': Micromoles Silicate per liter of seawater\n",
    "* 'R_SIO3': Reported Silicate Concentration\n",
    "\n",
    "Nitrite\n",
    "* 'NO2uM': Micromoles Nitrite per liter of seawater\n",
    "* 'R_NO2': Reported Nitrite Concentration\n",
    "\n",
    "Nitrate\n",
    "* 'NO3uM': Micromoles Nitrate per liter of seawater\n",
    "* 'R_NO3': Reported Nitrate Concentration\n",
    "\n",
    "Salinity\n",
    "* 'Salnty': Practical Salinity Scale, 1978 (UNESCO, 1981a); Salinity of water\n",
    "* 'R_SALINITY': Reported Salinity (from Specific Volume Anomoly, M³/Kg)\n",
    "\n",
    "O2 saturation\n",
    "* 'O2Sat': Percent Saturation; Oxygen Saturation\n",
    "* 'R_O2Sat': Percent\tReported Oxygen Saturation\n",
    "\n",
    "Phaeophytin\n",
    "* 'Phaeop': Micrograms Phaeophytin per liter of seawater\n",
    "* 'R_PHAEO': Reported Phaeophytin\n",
    "\n",
    "Oxygen\n",
    "* 'O2ml_L': Oxygen in mL/L; Milliliters of dissolved oxygen per Liter seawater\n",
    "* 'Oxy_µmol/Kg': Oxygen in micro moles per kilogram of seawater\n",
    "* 'R_O2': Reported milliliters of oxygen per liter of seawater\n",
    "\n",
    "Temperature\n",
    "* 'T_degC': Temperature of Water\n",
    "* 'R_TEMP': Reported Temperature (Celsius)\n",
    "* 'R_POTEMP': Reported Potential Temperature (Celsius)\n",
    "\n",
    "Other\n",
    "* 'S_prec': Salinity Units of Precision\n",
    "* 'T_prec': Temperature Units of Precision\n",
    "* 'RecInd': Record Indicator\n",
    "* 'R_SVA': Reported Specific Volume Anomaly\n",
    "* 'R_DYNHT': Reported Dynamic Height\n",
    "* 'R_PO4': Reported Phosphate Concentration\n",
    "* 'R_PRES': Pressure in decibars"
   ]
  },
  {
   "cell_type": "code",
   "execution_count": 14,
   "id": "a059ea58-211f-4a60-a723-03b49f2e352f",
   "metadata": {},
   "outputs": [],
   "source": [
    "# Setting up a function that will streamline the comparing process\n",
    "nullCounter = getNullCounts(bottle)\n",
    "\n",
    "def psudoDuplicateCheck(features):\n",
    "    nullCounter.select(*features).show()\n",
    "\n",
    "    if len(features)==2:\n",
    "        print('correlation:', bottle.corr(features[0],features[1]))\n",
    "    elif len(features)==3:\n",
    "        print('1&2 correlation:', bottle.corr(features[0],features[1]))\n",
    "        print('2&3 correlation:', bottle.corr(features[1],features[2]))\n",
    "        print('1&3 correlation:', bottle.corr(features[0],features[2]))"
   ]
  },
  {
   "cell_type": "code",
   "execution_count": 15,
   "id": "bf42d601-24b6-46d8-b169-faef5e0c296a",
   "metadata": {},
   "outputs": [
    {
     "name": "stdout",
     "output_type": "stream",
     "text": [
      "+------+------+------+------+------+-----+-----------+------+------+------+------+------+------+------+------+-----+------+------+------+-----+------+-----+------+-----+------+------+------+------+-------+------+--------+----------+-------+-----+-------+----+-------+------+-----+-----+-----+------+-------+------+\n",
      "|Depthm|T_degC|Salnty|O2ml_L|STheta|O2Sat|Oxy_µmol/Kg|RecInd|T_prec|S_prec|P_qual|O2Satq|Chlqua|Phaeop|Phaqua|PO4uM|  PO4q|SiO3uM|SiO3qu|NO2uM|  NO2q|NO3uM|  NO3q| NH3q|C14A1q|C14A2q|DarkAq|MeanAq|R_Depth|R_TEMP|R_POTEMP|R_SALINITY|R_SIGMA|R_SVA|R_DYNHT|R_O2|R_O2Sat|R_SIO3|R_PO4|R_NO3|R_NO2|R_CHLA|R_PHAEO|R_PRES|\n",
      "+------+------+------+------+------+-----+-----------+------+------+------+------+------+------+------+------+-----+------+------+------+-----+------+-----+------+-----+------+------+------+------+-------+------+--------+----------+-------+-----+-------+----+-------+------+-----+-----+-----+------+-------+------+\n",
      "|     0|  3088|  3433|  3610|  3781| 4500|       4502|     0|  3088|  3433|136270|214052|225067|     9|225059|10328|214865|  8947|216273|14951|208998| 9573|213376|40530| 15560| 15542| 23697| 23698|      0|  3088|    3508|      3433|   3655| 3630|   3527|3610|   4352|  8941|10322| 9567|14945|     0|      5|     0|\n",
      "+------+------+------+------+------+-----+-----------+------+------+------+------+------+------+------+------+-----+------+------+------+-----+------+-----+------+-----+------+------+------+------+-------+------+--------+----------+-------+-----+-------+----+-------+------+-----+-----+-----+------+-------+------+\n",
      "\n"
     ]
    },
    {
     "name": "stderr",
     "output_type": "stream",
     "text": [
      "                                                                                \r"
     ]
    }
   ],
   "source": [
    "nullCounter.show()"
   ]
  },
  {
   "cell_type": "code",
   "execution_count": 16,
   "id": "4da4ea0d-6e66-4001-810f-39161778f484",
   "metadata": {},
   "outputs": [
    {
     "name": "stdout",
     "output_type": "stream",
     "text": [
      "Depths NaN count:\n",
      "+------+-------+\n",
      "|Depthm|R_Depth|\n",
      "+------+-------+\n",
      "|     0|      0|\n",
      "+------+-------+\n",
      "\n",
      "correlation: 0.9999999949168986\n",
      "\n",
      "Water density NaN count:\n",
      "+------+-------+\n",
      "|STheta|R_SIGMA|\n",
      "+------+-------+\n",
      "|  3781|   3655|\n",
      "+------+-------+\n",
      "\n",
      "correlation: 0.9775619506024495\n",
      "\n",
      "Silicate NaN count:\n",
      "+------+------+\n",
      "|SiO3uM|R_SIO3|\n",
      "+------+------+\n",
      "|  8947|  8941|\n",
      "+------+------+\n",
      "\n",
      "correlation: 0.9999991048864016\n",
      "\n",
      "Nitrite NaN count:\n",
      "+-----+-----+\n",
      "|NO2uM|R_NO2|\n",
      "+-----+-----+\n",
      "|14951|14945|\n",
      "+-----+-----+\n",
      "\n",
      "correlation: 0.9999753963583337\n",
      "\n",
      "Nitrate NaN count:\n",
      "+-----+-----+\n",
      "|NO3uM|R_NO3|\n",
      "+-----+-----+\n",
      "| 9573| 9567|\n",
      "+-----+-----+\n",
      "\n",
      "correlation: 0.9999998732099501\n",
      "\n",
      "Salinity NaN count:\n",
      "+------+----------+\n",
      "|Salnty|R_SALINITY|\n",
      "+------+----------+\n",
      "|  3433|      3433|\n",
      "+------+----------+\n",
      "\n",
      "correlation: 0.9999999893049997\n",
      "\n",
      "O2 Saturation NaN count:\n",
      "+-----+-------+\n",
      "|O2Sat|R_O2Sat|\n",
      "+-----+-------+\n",
      "| 4500|   4352|\n",
      "+-----+-------+\n",
      "\n",
      "correlation: 0.9903641742840068\n",
      "\n",
      "Phaeophytin NaN count:\n",
      "+------+-------+\n",
      "|Phaeop|R_PHAEO|\n",
      "+------+-------+\n",
      "|     9|      5|\n",
      "+------+-------+\n",
      "\n",
      "correlation: 0.9999960039797494\n",
      "\n",
      "Oxygen NaN count:\n",
      "+------+-----------+----+\n",
      "|O2ml_L|Oxy_µmol/Kg|R_O2|\n",
      "+------+-----------+----+\n",
      "|  3610|       4502|3610|\n",
      "+------+-----------+----+\n",
      "\n",
      "1&2 correlation: 0.9727492394078366\n",
      "2&3 correlation: 0.9727398909191203\n",
      "1&3 correlation: 0.9999894839294193\n",
      "\n",
      "Temperature NaN count:\n",
      "+------+------+--------+\n",
      "|T_degC|R_TEMP|R_POTEMP|\n",
      "+------+------+--------+\n",
      "|  3088|  3088|    3508|\n",
      "+------+------+--------+\n",
      "\n",
      "1&2 correlation: 0.9999999632664396\n",
      "2&3 correlation: 0.9788144336830903\n",
      "1&3 correlation: 0.9788143110817276\n"
     ]
    }
   ],
   "source": [
    "Depths = ['Depthm','R_Depth']\n",
    "print('Depths NaN count:')\n",
    "psudoDuplicateCheck(Depths)\n",
    "\n",
    "WD = ['STheta','R_SIGMA']\n",
    "print('\\nWater density NaN count:')\n",
    "psudoDuplicateCheck(WD)\n",
    "\n",
    "Silicate = ['SiO3uM','R_SIO3']\n",
    "print('\\nSilicate NaN count:')\n",
    "psudoDuplicateCheck(Silicate)\n",
    "\n",
    "Nitrite = ['NO2uM','R_NO2']\n",
    "print('\\nNitrite NaN count:')\n",
    "psudoDuplicateCheck(Nitrite)\n",
    "\n",
    "Nitrate = ['NO3uM','R_NO3']\n",
    "print('\\nNitrate NaN count:')\n",
    "psudoDuplicateCheck(Nitrate)\n",
    "\n",
    "Salinity = ['Salnty','R_SALINITY']\n",
    "print('\\nSalinity NaN count:')\n",
    "psudoDuplicateCheck(Salinity)\n",
    "\n",
    "Saturation = ['O2Sat','R_O2Sat']\n",
    "print('\\nO2 Saturation NaN count:')\n",
    "psudoDuplicateCheck(Saturation)\n",
    "\n",
    "Phaeophytin = ['Phaeop', 'R_PHAEO']\n",
    "print('\\nPhaeophytin NaN count:')\n",
    "psudoDuplicateCheck(Phaeophytin)\n",
    "\n",
    "Oxygen = ['O2ml_L','Oxy_µmol/Kg','R_O2']\n",
    "print('\\nOxygen NaN count:')\n",
    "psudoDuplicateCheck(Oxygen)\n",
    "\n",
    "Temperature = ['T_degC','R_TEMP','R_POTEMP']\n",
    "print('\\nTemperature NaN count:')\n",
    "psudoDuplicateCheck(Temperature)\n",
    "\n",
    "del nullCounter"
   ]
  },
  {
   "cell_type": "markdown",
   "id": "41abd83d-0818-45b5-94f4-076b71e4da30",
   "metadata": {},
   "source": [
    "We now delete the columns with fewer null if they have a correlation coeffecients of 0.97 or higher.\n",
    "\n",
    "In the case of a tie, we can refer to the pattern that is very apparent in no-tie cases, which is that the 'reported' (columns starting with `R_`) have the higher non-null count. Therefore if two columns have equal null counts and high enough correlation, we delete the not-\"reported\" column."
   ]
  },
  {
   "cell_type": "code",
   "execution_count": 17,
   "id": "61d1ec82-518a-485d-bce3-87978142b0f7",
   "metadata": {},
   "outputs": [
    {
     "name": "stdout",
     "output_type": "stream",
     "text": [
      "There are now 32 columns and 225276 rows\n",
      "+------+------+------+------+------+------+------+-----+----+------+----+----+----+------+------+------+------+-------+------+----------+-------+-----+-------+----+-------+------+-----+-----+-----+------+-------+------+\n",
      "|RecInd|T_prec|S_prec|P_qual|O2Satq|Chlqua|Phaqua|PO4uM|PO4q|SiO3qu|NO2q|NO3q|NH3q|C14A1q|C14A2q|DarkAq|MeanAq|R_Depth|R_TEMP|R_SALINITY|R_SIGMA|R_SVA|R_DYNHT|R_O2|R_O2Sat|R_SIO3|R_PO4|R_NO3|R_NO2|R_CHLA|R_PHAEO|R_PRES|\n",
      "+------+------+------+------+------+------+------+-----+----+------+----+----+----+------+------+------+------+-------+------+----------+-------+-----+-------+----+-------+------+-----+-----+-----+------+-------+------+\n",
      "|3     |2     |3     |9     |null  |null  |null  |null |9   |9     |9   |null|9   |9     |9     |9     |9     |0.0    |19.23 |34.491    |24.57  |335.3|0.0    |5.46|103.9  |null  |null |1.3  |null |0.64  |0.47   |0     |\n",
      "|3     |2     |3     |9     |null  |null  |null  |null |9   |9     |9   |null|9   |9     |9     |9     |9     |10.0   |19.22 |34.492    |24.57  |335.3|0.03   |5.46|103.9  |null  |null |1.9  |null |0.66  |0.38   |10    |\n",
      "+------+------+------+------+------+------+------+-----+----+------+----+----+----+------+------+------+------+-------+------+----------+-------+-----+-------+----+-------+------+-----+-----+-----+------+-------+------+\n",
      "only showing top 2 rows\n",
      "\n"
     ]
    }
   ],
   "source": [
    "# Deleting columns that are duplicates of some other column\n",
    "deleteList4 = ['Depthm','STheta','SiO3uM','NO2uM','NO3uM','Salnty','O2Sat',\n",
    "               'O2ml_L','Oxy_µmol/Kg','T_degC','R_POTEMP', 'Phaeop']\n",
    "bottle = bottle.drop(*deleteList4)\n",
    "\n",
    "print('There are now', len(bottle.columns), 'columns and', bottle.count(), 'rows')\n",
    "bottle.show(2, truncate=False)"
   ]
  },
  {
   "cell_type": "markdown",
   "id": "1d13f8f4-4c4b-4ad2-94a0-75b94fd9b3f1",
   "metadata": {},
   "source": [
    "***\n",
    "[(Return to Table of Contents)](#toc)"
   ]
  },
  {
   "cell_type": "markdown",
   "id": "3467cbc6-1f95-4dd6-adb5-6f2245a66c53",
   "metadata": {
    "tags": []
   },
   "source": [
    "### Lasso regression<a id=\"lasso\"></a>"
   ]
  },
  {
   "cell_type": "markdown",
   "id": "d95ff51d-2460-4a0f-8904-400da08ad97b",
   "metadata": {},
   "source": [
    "As we lead up to performing Lasso regression, we'll need a dummy dataframe to permanently mess with. We create `bottleTest` for this and remove the quality columns in preparation."
   ]
  },
  {
   "cell_type": "code",
   "execution_count": 18,
   "id": "abaa00f9-eb53-441b-bbab-0d16f5ab9d43",
   "metadata": {},
   "outputs": [],
   "source": [
    "# Create temp dataframe and remove Quality Code columns from temp dataframe for lasso\n",
    "bottleTest = bottle.alias('bottleTest')\n",
    "bottleTest = bottleTest.drop(*deleteList2)"
   ]
  },
  {
   "cell_type": "markdown",
   "id": "83810ea4-8911-4692-b975-886728dd5a76",
   "metadata": {
    "tags": []
   },
   "source": [
    "##### Fill null values<a id=\"fillna\"></a>"
   ]
  },
  {
   "cell_type": "code",
   "execution_count": 19,
   "id": "35759665-9e24-4222-b2ed-c37722216abf",
   "metadata": {},
   "outputs": [],
   "source": [
    "# Using the function from PA3\n",
    "from pyspark.ml.feature import Imputer\n",
    "\n",
    "def fill_na(df, strategy):    \n",
    "    imputer = Imputer(\n",
    "        strategy=strategy,\n",
    "        inputCols=df.columns, \n",
    "        outputCols=['{}_imputed'.format(c) for c in df.columns]\n",
    "    )\n",
    "    \n",
    "    new_df = imputer.fit(df).transform(df)\n",
    "    \n",
    "    # Select the newly created columns with all filled values\n",
    "    new_df = new_df.select([c for c in new_df.columns if 'imputed' in c])\n",
    "    \n",
    "    for col in new_df.columns:\n",
    "        new_df = new_df.withColumnRenamed(col, col.split('_imputed')[0])\n",
    "        \n",
    "    return new_df"
   ]
  },
  {
   "cell_type": "code",
   "execution_count": 20,
   "id": "2feeee70-0da1-4766-8480-caf19b18f488",
   "metadata": {},
   "outputs": [
    {
     "name": "stdout",
     "output_type": "stream",
     "text": [
      "There are still 19 columns and 225276 rows\n",
      "+------+------+------+------------------+-------+------+----------+-------+-----+-------+----+-------+------------------+------------------+-----+-------------------+------+-------+------+\n",
      "|RecInd|T_prec|S_prec|PO4uM             |R_Depth|R_TEMP|R_SALINITY|R_SIGMA|R_SVA|R_DYNHT|R_O2|R_O2Sat|R_SIO3            |R_PO4             |R_NO3|R_NO2              |R_CHLA|R_PHAEO|R_PRES|\n",
      "+------+------+------+------------------+-------+------+----------+-------+-----+-------+----+-------+------------------+------------------+-----+-------------------+------+-------+------+\n",
      "|3     |2     |3     |0.9506321528926772|0.0    |19.23 |34.491    |24.57  |335.3|0.0    |5.46|103.9  |11.529812096979274|0.9506145966112527|1.3  |0.05539378408325813|0.64  |0.47   |0     |\n",
      "|3     |2     |3     |0.9506321528926772|10.0   |19.22 |34.492    |24.57  |335.3|0.03   |5.46|103.9  |11.529812096979274|0.9506145966112527|1.9  |0.05539378408325813|0.66  |0.38   |10    |\n",
      "+------+------+------+------------------+-------+------+----------+-------+-----+-------+----+-------+------------------+------------------+-----+-------------------+------+-------+------+\n",
      "only showing top 2 rows\n",
      "\n"
     ]
    }
   ],
   "source": [
    "# Filling in the remaining null rows with the mean of the column and saving this newly\n",
    "#  filled in dataframe as a new variable\n",
    "bottleTest = fill_na(bottleTest, 'mean')\n",
    "\n",
    "print('There are still', len(bottleTest.columns), 'columns and', bottleTest.count(), 'rows')\n",
    "bottleTest.show(2, truncate=False)"
   ]
  },
  {
   "cell_type": "code",
   "execution_count": 21,
   "id": "96cc767f-1e7a-4b70-970e-e21da8a031fe",
   "metadata": {},
   "outputs": [
    {
     "name": "stdout",
     "output_type": "stream",
     "text": [
      "+------+------+------+-----+-------+------+----------+-------+-----+-------+----+-------+------+-----+-----+-----+------+-------+------+\n",
      "|RecInd|T_prec|S_prec|PO4uM|R_Depth|R_TEMP|R_SALINITY|R_SIGMA|R_SVA|R_DYNHT|R_O2|R_O2Sat|R_SIO3|R_PO4|R_NO3|R_NO2|R_CHLA|R_PHAEO|R_PRES|\n",
      "+------+------+------+-----+-------+------+----------+-------+-----+-------+----+-------+------+-----+-----+-----+------+-------+------+\n",
      "|     0|     0|     0|    0|      0|     0|         0|      0|    0|      0|   0|      0|     0|    0|    0|    0|     0|      0|     0|\n",
      "+------+------+------+-----+-------+------+----------+-------+-----+-------+----+-------+------+-----+-----+-----+------+-------+------+\n",
      "\n"
     ]
    }
   ],
   "source": [
    "# Double checking that all null values are filled\n",
    "getNullCounts(bottleTest).show()"
   ]
  },
  {
   "cell_type": "markdown",
   "id": "2e14ebf3-0e74-427d-afa8-6d62bf5bda09",
   "metadata": {
    "tags": []
   },
   "source": [
    "##### Fitting the model<a id=\"lassofitting\"></a>"
   ]
  },
  {
   "cell_type": "markdown",
   "id": "a7658788-0a03-4dd7-a0c0-75fe4dbe479a",
   "metadata": {},
   "source": [
    "To better estimate what columns are most important to our model, we use a lasso regression. Because spark LassoWithSGD has depricated, we use LinearRegression with `elasticNetParam = 1.0` for Lasso regression equivalent.\n",
    "\n",
    "In order to use this, `label` and `features` columns need to be specified. We rename `R_CHLA` to `label` and create a features column with VectorAssembler."
   ]
  },
  {
   "cell_type": "code",
   "execution_count": 22,
   "id": "4ab0fc8b-317e-43ea-9039-d68d55ccfca4",
   "metadata": {},
   "outputs": [],
   "source": [
    "# Rename the target chlorophyll column to 'label'\n",
    "bottleTest = bottleTest.withColumnRenamed('R_CHLA', 'label')"
   ]
  },
  {
   "cell_type": "code",
   "execution_count": 23,
   "id": "2c802847-9138-4e3a-836c-22ef5560d665",
   "metadata": {},
   "outputs": [
    {
     "name": "stderr",
     "output_type": "stream",
     "text": [
      "                                                                                \r"
     ]
    },
    {
     "name": "stdout",
     "output_type": "stream",
     "text": [
      "+------+------+------+------------------+-------+------+----------+-------+-----+-------+----+-------+------------------+------------------+-----+-------------------+-----+-------+------+------------------------------------------------------------------------------------------------------------------------------------------------------+\n",
      "|RecInd|T_prec|S_prec|PO4uM             |R_Depth|R_TEMP|R_SALINITY|R_SIGMA|R_SVA|R_DYNHT|R_O2|R_O2Sat|R_SIO3            |R_PO4             |R_NO3|R_NO2              |label|R_PHAEO|R_PRES|features                                                                                                                                              |\n",
      "+------+------+------+------------------+-------+------+----------+-------+-----+-------+----+-------+------------------+------------------+-----+-------------------+-----+-------+------+------------------------------------------------------------------------------------------------------------------------------------------------------+\n",
      "|3     |2     |3     |0.9506321528926772|0.0    |19.23 |34.491    |24.57  |335.3|0.0    |5.46|103.9  |11.529812096979274|0.9506145966112527|1.3  |0.05539378408325813|0.64 |0.47   |0     |[3.0,2.0,3.0,0.9506321528926772,0.0,19.23,34.491,24.57,335.3,0.0,5.46,103.9,11.529812096979274,0.9506145966112527,1.3,0.05539378408325813,0.47,0.0]   |\n",
      "|3     |2     |3     |0.9506321528926772|10.0   |19.22 |34.492    |24.57  |335.3|0.03   |5.46|103.9  |11.529812096979274|0.9506145966112527|1.9  |0.05539378408325813|0.66 |0.38   |10    |[3.0,2.0,3.0,0.9506321528926772,10.0,19.22,34.492,24.57,335.3,0.03,5.46,103.9,11.529812096979274,0.9506145966112527,1.9,0.05539378408325813,0.38,10.0]|\n",
      "+------+------+------+------------------+-------+------+----------+-------+-----+-------+----+-------+------------------+------------------+-----+-------------------+-----+-------+------+------------------------------------------------------------------------------------------------------------------------------------------------------+\n",
      "only showing top 2 rows\n",
      "\n"
     ]
    }
   ],
   "source": [
    "# Creating 'features' column\n",
    "from pyspark.ml.feature import VectorAssembler\n",
    "\n",
    "# (interm step) make list of column names other than 'label,' AKA make a list of the features\n",
    "features = bottleTest.columns\n",
    "features.remove('label')\n",
    "\n",
    "bottleTest = VectorAssembler(outputCol='features').setInputCols(features).transform(bottleTest)\n",
    "\n",
    "bottleTest.show(2, truncate=False)"
   ]
  },
  {
   "cell_type": "code",
   "execution_count": 24,
   "id": "d68de1e3-9d66-4945-8d2f-f8542445644e",
   "metadata": {},
   "outputs": [
    {
     "name": "stderr",
     "output_type": "stream",
     "text": [
      "2022-05-30 00:40:32,291 WARN netlib.InstanceBuilder$NativeBLAS: Failed to load implementation from:dev.ludovic.netlib.blas.JNIBLAS\n",
      "2022-05-30 00:40:32,295 WARN netlib.InstanceBuilder$NativeBLAS: Failed to load implementation from:dev.ludovic.netlib.blas.ForeignLinkerBLAS\n",
      "                                                                                \r"
     ]
    }
   ],
   "source": [
    "# Applying lasso regression where regParam= 0.0025 in place of alpha\n",
    "from pyspark.ml.regression import LinearRegression\n",
    "\n",
    "lasso = LinearRegression(elasticNetParam = 1.0, regParam=0.0025, solver='normal',\n",
    "                      maxIter=1000, standardization=True)\n",
    "lassoModel = lasso.fit(bottleTest)"
   ]
  },
  {
   "cell_type": "markdown",
   "id": "73ff7af7-4d38-4f9d-862a-c24df2e5ae36",
   "metadata": {
    "tags": []
   },
   "source": [
    "##### Using the lasso results<a id=\"delete5\"></a>"
   ]
  },
  {
   "cell_type": "markdown",
   "id": "34bcf9e2-c270-45d0-8f48-043542867e2a",
   "metadata": {},
   "source": [
    "Now that we've fit the model and some columns with nonzero coeffecients, we create a list of the 'relevant' and 'not useful' features."
   ]
  },
  {
   "cell_type": "code",
   "execution_count": 25,
   "id": "9d8ec5ff-84a9-4d00-8643-16ad265786d9",
   "metadata": {},
   "outputs": [
    {
     "name": "stdout",
     "output_type": "stream",
     "text": [
      "(For-loop of 18 iterations)\n",
      "When regParam=0.0025, this lasso model indicates the most useful columns to predicting chlorophyll are: ['S_prec', 'R_TEMP', 'R_SALINITY', 'R_DYNHT', 'R_O2', 'R_O2Sat', 'R_SIO3', 'R_NO3', 'R_NO2', 'R_PHAEO']\n"
     ]
    }
   ],
   "source": [
    "# Find the 'relevant' and 'not useful' features, as according to the lasso regresion when regParam=0.0025\n",
    "\n",
    "coeff = lassoModel.coefficients\n",
    "usefulFeatures = []\n",
    "deleteList5 = []\n",
    "\n",
    "print('(For-loop of', len(coeff), 'iterations)')\n",
    "for i in range(len(coeff)):\n",
    "    if coeff[i] != 0:\n",
    "        usefulFeatures.append(features[i])\n",
    "    else:\n",
    "        deleteList5.append(features[i])\n",
    "\n",
    "print('When regParam='+str(lasso.getRegParam())+', this lasso model indicates the most useful columns to predicting chlorophyll are:',\n",
    "      usefulFeatures)\n",
    "del usefulFeatures"
   ]
  },
  {
   "cell_type": "code",
   "execution_count": 26,
   "id": "5333bf35-ecff-4206-bf78-50f4fdb7989f",
   "metadata": {},
   "outputs": [
    {
     "name": "stdout",
     "output_type": "stream",
     "text": [
      "There are now 24 columns and 225276 rows\n"
     ]
    }
   ],
   "source": [
    "# Moving back to dataframe before nulls were filled with means, drop the 'not useful' features\n",
    "bottle = bottle.drop(*deleteList5)\n",
    "\n",
    "print('There are now', len(bottle.columns), 'columns and', bottle.count(), 'rows')"
   ]
  },
  {
   "cell_type": "code",
   "execution_count": 27,
   "id": "6b0d899b-acb0-41e5-8c12-9c6779e66e3c",
   "metadata": {},
   "outputs": [
    {
     "name": "stdout",
     "output_type": "stream",
     "text": [
      "+------+------+\n",
      "|Target| count|\n",
      "+------+------+\n",
      "|     1|124049|\n",
      "|     2| 19665|\n",
      "|     0| 81562|\n",
      "+------+------+\n",
      "\n"
     ]
    }
   ],
   "source": [
    "lowThreshold = .1\n",
    "medThreshold = 1\n",
    "\n",
    "bottle.withColumn(\n",
    "    'Target',\n",
    "     when((col('R_CHLA') < lowThreshold), 0)\\\n",
    "    .when((col('R_CHLA').between(lowThreshold, medThreshold)), 1)\\\n",
    "    .when((col('R_CHLA') > medThreshold), 2)\\\n",
    "    .otherwise(10)\n",
    ").groupby('Target').count().show()"
   ]
  },
  {
   "cell_type": "code",
   "execution_count": 28,
   "id": "e3521896-a5f1-42f6-9f75-b7c97a6cfbb3",
   "metadata": {},
   "outputs": [
    {
     "name": "stdout",
     "output_type": "stream",
     "text": [
      "+------+------+------+------+------+------+------+------+------+-----+------+------+------+------+------+----------+-------+----+-------+------+-----+-----+------+-------+\n",
      "|S_prec|P_qual|O2Satq|Chlqua|Phaqua|  PO4q|SiO3qu|  NO2q|  NO3q| NH3q|C14A1q|C14A2q|DarkAq|MeanAq|R_TEMP|R_SALINITY|R_DYNHT|R_O2|R_O2Sat|R_SIO3|R_NO3|R_NO2|R_CHLA|R_PHAEO|\n",
      "+------+------+------+------+------+------+------+------+------+-----+------+------+------+------+------+----------+-------+----+-------+------+-----+-----+------+-------+\n",
      "|  3433|136270|214052|225067|225059|214865|216273|208998|213376|40530| 15560| 15542| 23697| 23698|  3088|      3433|   3527|3610|   4352|  8941| 9567|14945|     0|      5|\n",
      "+------+------+------+------+------+------+------+------+------+-----+------+------+------+------+------+----------+-------+----+-------+------+-----+-----+------+-------+\n",
      "\n"
     ]
    }
   ],
   "source": [
    "getNullCounts(bottle).show()"
   ]
  },
  {
   "cell_type": "markdown",
   "id": "931588b3-5b64-407e-b445-b2958bc346e9",
   "metadata": {},
   "source": [
    "Before we can fill the 'most useful' column's (the remaining columns) null entries with column means, we need to use and then delete the quality columns."
   ]
  },
  {
   "cell_type": "markdown",
   "id": "971bd5bb-c839-4b44-b38a-0e8be361ae97",
   "metadata": {},
   "source": [
    "***\n",
    "[(Return to Table of Contents)](#toc)"
   ]
  },
  {
   "cell_type": "markdown",
   "id": "ef6ba6e7-1536-486a-a5c8-f0cb4704ffc2",
   "metadata": {
    "tags": []
   },
   "source": [
    "### Deleting bad quality data<a id=\"delete2_2\"></a>"
   ]
  },
  {
   "cell_type": "markdown",
   "id": "a2d9100a-5a7f-4630-995c-7e8dbf26e8c6",
   "metadata": {},
   "source": [
    "Now that we have the most useful columns from the Lasso model, we can prune the dataframe of poorly recorded data based on the quality columns."
   ]
  },
  {
   "cell_type": "code",
   "execution_count": 32,
   "id": "b2b35bc2-7aba-44d9-b7bd-587b06254d6b",
   "metadata": {},
   "outputs": [],
   "source": [
    "# Creating a map/2D-list of the quality columns with the measurement columns they correspond to\n",
    "# in order to delete the low-quality records from our current bottle dataframe\n",
    "qualityColWithRCol = [deleteList2,\n",
    "                      ['R_TEMP', 'R_SALINITY', 'R_PRES', 'R_O2', 'R_O2Sat', 'R_CHLA', 'Phaeop', 'R_PO4' \\\n",
    "                      'R_SIO3', 'R_NO2', 'R_NO3', 'R_Nuts', 'C14As1', 'C14As2', 'DarkAp', 'MeanAs']]"
   ]
  },
  {
   "cell_type": "code",
   "execution_count": 33,
   "id": "6aa61cf1-d075-4681-9baf-eb8fb8fed382",
   "metadata": {},
   "outputs": [
    {
     "name": "stdout",
     "output_type": "stream",
     "text": [
      "Number of bad quality data for column P_qual: 0\n",
      "Number of bad quality data for column O2Satq: 0\n",
      "Number of bad quality data for column Chlqua: 0\n",
      "Number of bad quality data for column Phaqua: 0\n",
      "Number of bad quality data for column PO4q: 0\n",
      "Number of bad quality data for column SiO3qu: 0\n",
      "Number of bad quality data for column NO2q: 0\n",
      "Number of bad quality data for column NO3q: 0\n",
      "Number of bad quality data for column NH3q: 0\n",
      "Number of bad quality data for column C14A1q: 0\n",
      "Number of bad quality data for column C14A2q: 0\n",
      "Number of bad quality data for column DarkAq: 0\n",
      "Number of bad quality data for column MeanAq: 0\n"
     ]
    }
   ],
   "source": [
    "# Print out the number of bad-quality recordings per column in the bottle dataframe\n",
    "for i in range(len(qualityColWithRCol[0])):\n",
    "    colName = qualityColWithRCol[0][i]\n",
    "    if(colName in bottle.columns):\n",
    "        numBadData = bottle.filter(bottle[qualityColWithRCol[0][i]] == 8).count()\n",
    "        print(\"Number of bad quality data for column \" + colName + \":\", numBadData)\n",
    "\n",
    "# Dropping bad quality rows of quality columns\n",
    "for i in range(len(qualityColWithRCol[0])):\n",
    "    colName = qualityColWithRCol[0][i]\n",
    "    if(colName in bottle.columns):\n",
    "        bottle = bottle.filter((bottle[qualityColWithRCol[0][i]] != 8) | \\\n",
    "                               (bottle[qualityColWithRCol[0][i]].isNull()))\n",
    "\n",
    "del qualityColWithRCol"
   ]
  },
  {
   "cell_type": "code",
   "execution_count": 31,
   "id": "81851491-a5d0-42bf-bffd-ceb58d1ccb66",
   "metadata": {},
   "outputs": [
    {
     "name": "stdout",
     "output_type": "stream",
     "text": [
      "There are now 11 columns and 222293 rows\n",
      "+------+------+----------+-------+----+-------+------+-----+-----+------+-------+\n",
      "|S_prec|R_TEMP|R_SALINITY|R_DYNHT|R_O2|R_O2Sat|R_SIO3|R_NO3|R_NO2|R_CHLA|R_PHAEO|\n",
      "+------+------+----------+-------+----+-------+------+-----+-----+------+-------+\n",
      "|3     |19.23 |34.491    |0.0    |5.46|103.9  |null  |1.3  |null |0.64  |0.47   |\n",
      "|3     |19.22 |34.492    |0.03   |5.46|103.9  |null  |1.9  |null |0.66  |0.38   |\n",
      "+------+------+----------+-------+----+-------+------+-----+-----+------+-------+\n",
      "only showing top 2 rows\n",
      "\n"
     ]
    }
   ],
   "source": [
    "# Now we can get rid of the quality columns since they've served their purpose\n",
    "bottle = bottle.drop(*deleteList2)\n",
    "\n",
    "print('There are now', len(bottle.columns), 'columns and', bottle.count(), 'rows')\n",
    "bottle.show(2, truncate=False)"
   ]
  },
  {
   "cell_type": "markdown",
   "id": "376705ef-bdfb-4704-9c09-bb2150a9b4f9",
   "metadata": {
    "tags": []
   },
   "source": [
    "##### Resuming use of lasso results<a id=\"resumelasso\"></a>"
   ]
  },
  {
   "cell_type": "code",
   "execution_count": 32,
   "id": "708f2044-054c-4f5e-8abd-5025cb656d76",
   "metadata": {},
   "outputs": [
    {
     "name": "stdout",
     "output_type": "stream",
     "text": [
      "+------+------+----------+-------+----+-------+------+-----+-----+------+-------+\n",
      "|S_prec|R_TEMP|R_SALINITY|R_DYNHT|R_O2|R_O2Sat|R_SIO3|R_NO3|R_NO2|R_CHLA|R_PHAEO|\n",
      "+------+------+----------+-------+----+-------+------+-----+-----+------+-------+\n",
      "|  3433|  3088|      3433|   3527|3607|   4231|  8926| 9549|14913|     0|      5|\n",
      "+------+------+----------+-------+----+-------+------+-----+-----+------+-------+\n",
      "\n"
     ]
    }
   ],
   "source": [
    "getNullCounts(bottle).show()"
   ]
  },
  {
   "cell_type": "code",
   "execution_count": 33,
   "id": "af4702c4-a788-4d7d-bffb-089054303af6",
   "metadata": {},
   "outputs": [
    {
     "name": "stdout",
     "output_type": "stream",
     "text": [
      "There are still 11 columns and 222293 rows\n",
      "+------+------+----------+-------+----+-------+------+-----+-----+------+-------+\n",
      "|S_prec|R_TEMP|R_SALINITY|R_DYNHT|R_O2|R_O2Sat|R_SIO3|R_NO3|R_NO2|R_CHLA|R_PHAEO|\n",
      "+------+------+----------+-------+----+-------+------+-----+-----+------+-------+\n",
      "|     0|     0|         0|      0|   0|      0|     0|    0|    0|     0|      0|\n",
      "+------+------+----------+-------+----+-------+------+-----+-----+------+-------+\n",
      "\n"
     ]
    }
   ],
   "source": [
    "# Moving back to original dataframe, fill the 'most useful' column's (the remaining\n",
    "#  columns) null entries with means\n",
    "bottle = bottle.dropna()\n",
    "\n",
    "print('There are now', len(bottle.columns), 'columns and', bottle.count(), 'rows')\n",
    "getNullCounts(bottle).show()"
   ]
  },
  {
   "cell_type": "code",
   "execution_count": 34,
   "id": "858c012d-d861-4ce9-af24-8f1284cd92e4",
   "metadata": {},
   "outputs": [],
   "source": [
    "# Now that we're done with this temporary dataframe and the Lasso model, we can delete them\n",
    "del bottleTest, lasso, lassoModel"
   ]
  },
  {
   "cell_type": "markdown",
   "id": "fff6b8d5-be9c-4d92-b5bf-900698f5f5b7",
   "metadata": {},
   "source": [
    "***\n",
    "[(Return to Table of Contents)](#toc)"
   ]
  },
  {
   "cell_type": "markdown",
   "id": "4ddb0261-7092-45dd-b096-6779d71b6ed0",
   "metadata": {
    "tags": []
   },
   "source": [
    "### Feature correlation<a id=\"correlation\"></a>"
   ]
  },
  {
   "cell_type": "markdown",
   "id": "e343b091-f7aa-4558-8730-d5332b2002f9",
   "metadata": {
    "tags": []
   },
   "source": [
    "Finding columns that are similar and analyse if we can get rid of null columns without removal of variance."
   ]
  },
  {
   "cell_type": "code",
   "execution_count": 35,
   "id": "6938135b-6a90-435f-bbc0-dba3bc60d327",
   "metadata": {},
   "outputs": [],
   "source": [
    "from pyspark.sql.types import StructType, StructField, IntegerType"
   ]
  },
  {
   "cell_type": "code",
   "execution_count": 36,
   "id": "30b783cd-f152-44a4-8a98-42debd8056ff",
   "metadata": {},
   "outputs": [
    {
     "name": "stderr",
     "output_type": "stream",
     "text": [
      "                                                                                \r"
     ]
    }
   ],
   "source": [
    "columns = ['col1', 'col2', 'correlation']\n",
    "schema = StructType([\n",
    "  StructField('col1', StringType(), False),\n",
    "  StructField('col2', StringType(), False),\n",
    "  StructField('correlation', IntegerType(), False)\n",
    "  ])\n",
    "highCorrs = spark.createDataFrame(spark.sparkContext.emptyRDD() ,schema)\n",
    "rangeColumns = range(len(bottle.columns))\n",
    "for i in rangeColumns:\n",
    "    for j in rangeColumns:\n",
    "        if(i != j):\n",
    "            correlation = bottle.corr(bottle.columns[i], bottle.columns[j])\n",
    "            if(correlation > .9):\n",
    "                newCorr = spark.createDataFrame([(bottle.columns[i], bottle.columns[j], correlation)], columns)\n",
    "                highCorrs = highCorrs.union(newCorr)\n",
    "            else: \n",
    "                 continue;"
   ]
  },
  {
   "cell_type": "code",
   "execution_count": 37,
   "id": "f9016a5d-90db-4b9d-a171-2fa54dd6f201",
   "metadata": {},
   "outputs": [
    {
     "name": "stdout",
     "output_type": "stream",
     "text": [
      "+-------+-------+------------------+\n",
      "|   col1|   col2|       correlation|\n",
      "+-------+-------+------------------+\n",
      "|   R_O2|R_O2Sat|0.9873734309503178|\n",
      "|R_O2Sat|   R_O2|0.9873734309503178|\n",
      "| R_SIO3|  R_NO3|0.9722648506285719|\n",
      "|  R_NO3| R_SIO3|0.9722648506285719|\n",
      "+-------+-------+------------------+\n",
      "\n"
     ]
    }
   ],
   "source": [
    "highCorrs.show()"
   ]
  },
  {
   "cell_type": "markdown",
   "id": "bd2019ae-4151-4abc-9c91-ddf8d3747c98",
   "metadata": {},
   "source": [
    "Because R_O2 is highly correlated with R_O2Sat and are very similar metrics, we are dropping the R_O2 column.  R_SIO3 is highly correlated with R_NO3 so we are dropping the R_SIO3 column and renaming the R_SIO3 to include the R_NO3 in the title to remember it contributes similar variance."
   ]
  },
  {
   "cell_type": "code",
   "execution_count": 38,
   "id": "45e16fb5-856f-4505-bd5d-dd5ad33d1762",
   "metadata": {},
   "outputs": [
    {
     "name": "stdout",
     "output_type": "stream",
     "text": [
      "+------+------+----------+-------+-------+-----+-------------------+------+-------+\n",
      "|S_prec|R_TEMP|R_SALINITY|R_DYNHT|R_O2Sat|R_NO3|              R_NO2|R_CHLA|R_PHAEO|\n",
      "+------+------+----------+-------+-------+-----+-------------------+------+-------+\n",
      "|     3| 19.23|    34.491|    0.0|  103.9|  1.3|0.05597931333790767|  0.64|   0.47|\n",
      "|     3| 19.22|    34.492|   0.03|  103.9|  1.9|0.05597931333790767|  0.66|   0.38|\n",
      "+------+------+----------+-------+-------+-----+-------------------+------+-------+\n",
      "only showing top 2 rows\n",
      "\n"
     ]
    }
   ],
   "source": [
    "bottle = bottle.drop('R_O2')\n",
    "bottle.withColumnRenamed('R_O2Sat', 'R_O2, R_O2Sat')\n",
    "bottle = bottle.drop('R_SIO3')\n",
    "bottle.withColumnRenamed('R_NO3', 'R_SIO3, R_NO3')\n",
    "bottle.show(2)"
   ]
  },
  {
   "cell_type": "markdown",
   "id": "623f5b13-90b6-4f99-9bdb-96f062bbf39a",
   "metadata": {},
   "source": [
    "***\n",
    "[(Return to Table of Contents)](#toc)"
   ]
  },
  {
   "cell_type": "markdown",
   "id": "fa3b0dee-783a-4463-b73b-be6883526fe0",
   "metadata": {
    "tags": []
   },
   "source": [
    "### Make sure column values are the right type<a id=\"checkschema\"></a>"
   ]
  },
  {
   "cell_type": "code",
   "execution_count": 39,
   "id": "9b7e21c2-f13f-4272-a3d4-8fb858aad8b5",
   "metadata": {},
   "outputs": [
    {
     "name": "stdout",
     "output_type": "stream",
     "text": [
      "root\n",
      " |-- S_prec: integer (nullable = true)\n",
      " |-- R_TEMP: double (nullable = true)\n",
      " |-- R_SALINITY: double (nullable = true)\n",
      " |-- R_DYNHT: double (nullable = true)\n",
      " |-- R_O2Sat: double (nullable = true)\n",
      " |-- R_NO3: double (nullable = true)\n",
      " |-- R_NO2: double (nullable = true)\n",
      " |-- R_CHLA: double (nullable = true)\n",
      " |-- R_PHAEO: double (nullable = true)\n",
      "\n"
     ]
    }
   ],
   "source": [
    "# Check the dtypes of each column\n",
    "bottle.printSchema()"
   ]
  },
  {
   "cell_type": "code",
   "execution_count": 40,
   "id": "7a487f4e-e1dc-488c-bdcd-97fdebdf7276",
   "metadata": {},
   "outputs": [
    {
     "name": "stdout",
     "output_type": "stream",
     "text": [
      "There are now 9 columns and 222293 rows (which is 642570 less than the original row count)\n"
     ]
    }
   ],
   "source": [
    "# Row count, and comparison to original row count\n",
    "print('There are now', len(bottle.columns), 'columns and', bottle.count(),\n",
    "      'rows (which is', maxRows-bottle.count(), 'less than the original row count)')"
   ]
  },
  {
   "cell_type": "markdown",
   "id": "30e41671-332f-4726-809f-a8bba302650f",
   "metadata": {},
   "source": [
    "***\n",
    "[(Return to Table of Contents)](#toc)"
   ]
  },
  {
   "cell_type": "markdown",
   "id": "72eeecac-6666-4f14-82ab-e8f0acad2871",
   "metadata": {
    "tags": []
   },
   "source": [
    "### Summary statistics<a id=\"summarystatistics\"></a>"
   ]
  },
  {
   "cell_type": "code",
   "execution_count": 41,
   "id": "3ff7833e-cdf2-40c6-9034-68580c4792d0",
   "metadata": {},
   "outputs": [
    {
     "name": "stdout",
     "output_type": "stream",
     "text": [
      "-RECORD 0-------------------------\n",
      " summary    | count               \n",
      " S_prec     | 222293              \n",
      " R_TEMP     | 222293              \n",
      " R_SALINITY | 222293              \n",
      " R_DYNHT    | 222293              \n",
      " R_O2Sat    | 222293              \n",
      " R_NO3      | 222293              \n",
      " R_NO2      | 222293              \n",
      " R_CHLA     | 222293              \n",
      " R_PHAEO    | 222293              \n",
      "-RECORD 1-------------------------\n",
      " summary    | mean                \n",
      " S_prec     | 2.9838906308340793  \n",
      " R_TEMP     | 12.902264391779196  \n",
      " R_SALINITY | 33.506654879831125  \n",
      " R_DYNHT    | 0.21082594644507371 \n",
      " R_O2Sat    | 80.94547605727023   \n",
      " R_NO3      | 9.64867587335387    \n",
      " R_NO2      | 0.05597931333791566 \n",
      " R_CHLA     | 0.45214100309038985 \n",
      " R_PHAEO    | 0.19925708990137597 \n",
      "-RECORD 2-------------------------\n",
      " summary    | stddev              \n",
      " S_prec     | 0.12589649992341595 \n",
      " R_TEMP     | 3.035793082781941   \n",
      " R_SALINITY | 0.31335388232128686 \n",
      " R_DYNHT    | 0.15495104173859986 \n",
      " R_O2Sat    | 25.100055075565724  \n",
      " R_NO3      | 10.080850085206178  \n",
      " R_NO2      | 0.09558864928967147 \n",
      " R_CHLA     | 1.214949256785272   \n",
      " R_PHAEO    | 0.3370610775925151  \n",
      "-RECORD 3-------------------------\n",
      " summary    | min                 \n",
      " S_prec     | 2                   \n",
      " R_TEMP     | 3.48                \n",
      " R_SALINITY | 28.431              \n",
      " R_DYNHT    | 0.0                 \n",
      " R_O2Sat    | 0.4                 \n",
      " R_NO3      | -0.4                \n",
      " R_NO2      | 0.0                 \n",
      " R_CHLA     | -0.01               \n",
      " R_PHAEO    | -3.89               \n",
      "-RECORD 4-------------------------\n",
      " summary    | max                 \n",
      " S_prec     | 3                   \n",
      " R_TEMP     | 25.54               \n",
      " R_SALINITY | 37.034              \n",
      " R_DYNHT    | 1.66                \n",
      " R_O2Sat    | 214.1               \n",
      " R_NO3      | 44.4                \n",
      " R_NO2      | 2.3                 \n",
      " R_CHLA     | 66.11               \n",
      " R_PHAEO    | 18.91               \n",
      "\n"
     ]
    }
   ],
   "source": [
    "# See the detailed numerical description of the current dataframe\n",
    "bottle.describe().show(vertical=True)"
   ]
  },
  {
   "cell_type": "code",
   "execution_count": 42,
   "id": "875ca65c-c9eb-4914-a022-773b080725d2",
   "metadata": {},
   "outputs": [
    {
     "name": "stdout",
     "output_type": "stream",
     "text": [
      "+------+------+----------+-------+-------+-----+-----+------+-------+\n",
      "|S_prec|R_TEMP|R_SALINITY|R_DYNHT|R_O2Sat|R_NO3|R_NO2|R_CHLA|R_PHAEO|\n",
      "+------+------+----------+-------+-------+-----+-----+------+-------+\n",
      "|     0|     0|         0|      0|      0|    0|    0|     0|      0|\n",
      "+------+------+----------+-------+-------+-----+-----+------+-------+\n",
      "\n"
     ]
    }
   ],
   "source": [
    "getNullCounts(bottle).show()"
   ]
  },
  {
   "cell_type": "markdown",
   "id": "bce06b79-a031-4731-bdaa-f83641ec7c8c",
   "metadata": {},
   "source": [
    "***\n",
    "[(Return to Table of Contents)](#toc)"
   ]
  },
  {
   "cell_type": "markdown",
   "id": "2b6779b1-c4c1-4527-b8f3-e554a5b67756",
   "metadata": {
    "tags": []
   },
   "source": [
    "# Feature Selection and Target Cleaning<a id=\"featuretarget\"></a>"
   ]
  },
  {
   "cell_type": "markdown",
   "id": "a37d2dff-7ab8-4b77-ab04-f7e155558db2",
   "metadata": {
    "tags": []
   },
   "source": [
    "### Distribution of data for cholorophyll levels, summary stats<a id=\"summarystats\"></a>"
   ]
  },
  {
   "cell_type": "code",
   "execution_count": 43,
   "id": "00a00435-d31b-468e-b2a2-de4e563ed908",
   "metadata": {},
   "outputs": [
    {
     "name": "stdout",
     "output_type": "stream",
     "text": [
      "+-----------+-----------+-------------------+-------------------+-------------+------------------+\n",
      "|min(R_CHLA)|max(R_CHLA)|        avg(R_CHLA)|stddev_samp(R_CHLA)|count(R_CHLA)|  skewness(R_CHLA)|\n",
      "+-----------+-----------+-------------------+-------------------+-------------+------------------+\n",
      "|      -0.01|      66.11|0.45214100309038985|  1.214949256785272|       222293|10.197710315464647|\n",
      "+-----------+-----------+-------------------+-------------------+-------------+------------------+\n",
      "\n"
     ]
    }
   ],
   "source": [
    "bottle.agg(min('R_CHLA'), max('R_CHLA'), mean('R_CHLA'), stddev('R_CHLA'), count('R_CHLA'), skewness('R_CHLA')).show()"
   ]
  },
  {
   "cell_type": "markdown",
   "id": "a5c8c427-eedd-4d30-9c0d-64c8945816be",
   "metadata": {},
   "source": [
    "Looking at this summary data of our chlorophyll levels, the data is highly positively skewed. This is displayed in our skewness value but also the difference between the maximum value and the mean."
   ]
  },
  {
   "cell_type": "markdown",
   "id": "a9025425-d4b7-46ac-959c-ce50eae390d7",
   "metadata": {},
   "source": [
    "### Define cholorophyll category levels: low, medium, high?<a id=\"lowmediumhigh\"></a>"
   ]
  },
  {
   "cell_type": "markdown",
   "id": "3f502847-fec1-4fbb-9886-ef0ce8a3c79e",
   "metadata": {},
   "source": [
    "As displayed in Figure 4 of [this](https://www.nature.com/scitable/knowledge/library/the-biological-productivity-of-the-ocean-70631104/) article, the chlorophyll concentrations in the ocean can be split into three category levels, low, medium, and high. Our low category range will be between $0 > x > 0.1$μg/L, medium range will be $0.1 \\geq x > 1$μg/L, and high concentrations will be $x \\geq 1$μg/L."
   ]
  },
  {
   "cell_type": "markdown",
   "id": "1baafc6c-23d8-4011-b9d7-449507e6bdf5",
   "metadata": {},
   "source": [
    "### Map cholorophyll levels<a id=\"maplevels\"></a>"
   ]
  },
  {
   "cell_type": "markdown",
   "id": "d75e5a20-33d3-44d4-af6b-99d598adf662",
   "metadata": {
    "tags": []
   },
   "source": [
    "Map cholorophyll levels to defined categories and output graphs/summary stats and Add target column with category label to dataframe"
   ]
  },
  {
   "cell_type": "code",
   "execution_count": 44,
   "id": "1860e212-d6f5-4c6c-8457-22fbc18cb5b7",
   "metadata": {},
   "outputs": [],
   "source": [
    "lowThreshold = .1\n",
    "medThreshold = 1"
   ]
  },
  {
   "cell_type": "code",
   "execution_count": 45,
   "id": "301b454b-10ea-4fd5-94ba-f7d6a5fc2d36",
   "metadata": {},
   "outputs": [],
   "source": [
    "bottle = bottle.withColumn(\n",
    "    'Target',\n",
    "     when((col('R_CHLA') < lowThreshold), 0)\\\n",
    "    .when((col('R_CHLA').between(lowThreshold, medThreshold)), 1)\\\n",
    "    .when((col('R_CHLA') > medThreshold), 2)\\\n",
    "    .otherwise(10)\n",
    ")"
   ]
  },
  {
   "cell_type": "code",
   "execution_count": 46,
   "id": "20dffcb2-a63b-44ac-b0a0-097c8eab626a",
   "metadata": {},
   "outputs": [
    {
     "name": "stdout",
     "output_type": "stream",
     "text": [
      "+------+------+\n",
      "|Target| count|\n",
      "+------+------+\n",
      "|     1|121991|\n",
      "|     2| 19492|\n",
      "|     0| 80810|\n",
      "+------+------+\n",
      "\n"
     ]
    }
   ],
   "source": [
    "bottle.groupby('Target').count().show()"
   ]
  },
  {
   "cell_type": "code",
   "execution_count": 47,
   "id": "30561916-05a4-4e1b-b372-8d08fd8736bc",
   "metadata": {},
   "outputs": [],
   "source": [
    "bottle = bottle.drop('R_CHLA')"
   ]
  },
  {
   "cell_type": "markdown",
   "id": "c3ba1a6b-0a59-4a77-bb6c-8849e357bf4c",
   "metadata": {},
   "source": [
    "***\n",
    "[(Return to Table of Contents)](#toc)"
   ]
  },
  {
   "cell_type": "markdown",
   "id": "f2eee978-81f7-4247-8274-ed0bfee2475e",
   "metadata": {
    "tags": []
   },
   "source": [
    "# Models<a id=\"models\"></a>"
   ]
  },
  {
   "cell_type": "markdown",
   "id": "ca7281a0-e86c-4bca-9538-b6b3241ead44",
   "metadata": {
    "tags": []
   },
   "source": [
    "#### Assemble Feature Vector<a id=\"assemble\"></a>"
   ]
  },
  {
   "cell_type": "code",
   "execution_count": 48,
   "id": "41a51dc1-e61c-472e-994a-b1c183272ce6",
   "metadata": {},
   "outputs": [
    {
     "name": "stdout",
     "output_type": "stream",
     "text": [
      "root\n",
      " |-- S_prec: integer (nullable = true)\n",
      " |-- R_TEMP: double (nullable = true)\n",
      " |-- R_SALINITY: double (nullable = true)\n",
      " |-- R_DYNHT: double (nullable = true)\n",
      " |-- R_O2Sat: double (nullable = true)\n",
      " |-- R_NO3: double (nullable = true)\n",
      " |-- R_NO2: double (nullable = true)\n",
      " |-- R_PHAEO: double (nullable = true)\n",
      " |-- Target: integer (nullable = false)\n",
      "\n"
     ]
    }
   ],
   "source": [
    "# Checking schema of data again. Using bottleTest df instead of 'bottle' because it has no null values\n",
    "#  and used vector assembler to create feature vector.\n",
    "bottle.printSchema()"
   ]
  },
  {
   "cell_type": "code",
   "execution_count": 49,
   "id": "cba60151-2cd7-4c87-ab69-8b3757a64d1c",
   "metadata": {},
   "outputs": [],
   "source": [
    "features = bottle.columns\n",
    "features.remove('Target')\n",
    "bottle = VectorAssembler(outputCol='features_unscaled').setInputCols(features).transform(bottle)"
   ]
  },
  {
   "cell_type": "code",
   "execution_count": 50,
   "id": "c70d1480-fdd0-4157-a713-9b9b6ff41bce",
   "metadata": {},
   "outputs": [
    {
     "name": "stderr",
     "output_type": "stream",
     "text": [
      "[Stage 490:>                                                        (0 + 1) / 1]\r"
     ]
    },
    {
     "name": "stdout",
     "output_type": "stream",
     "text": [
      "+------+------+----------+-------+-------+-----+-------------------+-------+------+----------------------------------------------------------+\n",
      "|S_prec|R_TEMP|R_SALINITY|R_DYNHT|R_O2Sat|R_NO3|R_NO2              |R_PHAEO|Target|features_unscaled                                         |\n",
      "+------+------+----------+-------+-------+-----+-------------------+-------+------+----------------------------------------------------------+\n",
      "|3     |19.23 |34.491    |0.0    |103.9  |1.3  |0.05597931333790767|0.47   |1     |[3.0,19.23,34.491,0.0,103.9,1.3,0.05597931333790767,0.47] |\n",
      "|3     |19.22 |34.492    |0.03   |103.9  |1.9  |0.05597931333790767|0.38   |1     |[3.0,19.22,34.492,0.03,103.9,1.9,0.05597931333790767,0.38]|\n",
      "+------+------+----------+-------+-------+-----+-------------------+-------+------+----------------------------------------------------------+\n",
      "only showing top 2 rows\n",
      "\n"
     ]
    },
    {
     "name": "stderr",
     "output_type": "stream",
     "text": [
      "                                                                                \r"
     ]
    }
   ],
   "source": [
    "bottle.show(2, truncate=False)"
   ]
  },
  {
   "cell_type": "markdown",
   "id": "af67331e-93cc-46ea-9685-d7b099af2d4b",
   "metadata": {},
   "source": [
    "#### Split Data: Train, Test, Validation, 80, 10, 10<a id=\"split\"></a>"
   ]
  },
  {
   "cell_type": "code",
   "execution_count": 51,
   "id": "71ebd958-596b-43e9-9177-2b7b009fbc64",
   "metadata": {},
   "outputs": [
    {
     "name": "stderr",
     "output_type": "stream",
     "text": [
      "                                                                                \r"
     ]
    },
    {
     "name": "stdout",
     "output_type": "stream",
     "text": [
      "Train dataset count: 177856\n"
     ]
    },
    {
     "name": "stderr",
     "output_type": "stream",
     "text": [
      "                                                                                \r"
     ]
    },
    {
     "name": "stdout",
     "output_type": "stream",
     "text": [
      "Test dataset count: 22091\n"
     ]
    },
    {
     "name": "stderr",
     "output_type": "stream",
     "text": [
      "[Stage 497:============================>                            (1 + 1) / 2]\r"
     ]
    },
    {
     "name": "stdout",
     "output_type": "stream",
     "text": [
      "Validation dataset count: 22346\n"
     ]
    },
    {
     "name": "stderr",
     "output_type": "stream",
     "text": [
      "                                                                                \r"
     ]
    }
   ],
   "source": [
    "seed = 42\n",
    "train, test, validation = bottle.randomSplit([0.80, 0.10, 0.10], seed=seed)\n",
    "print('Train dataset count:', train.count())\n",
    "print('Test dataset count:', test.count())\n",
    "print('Validation dataset count:', validation.count())"
   ]
  },
  {
   "cell_type": "markdown",
   "id": "6e5da391-368a-4b75-abbb-38cad1de8714",
   "metadata": {
    "tags": []
   },
   "source": [
    "#### Scale Data<a id=\"scale\"></a>"
   ]
  },
  {
   "cell_type": "code",
   "execution_count": 52,
   "id": "3014131a-cf84-4ce7-a04e-75dd187af561",
   "metadata": {},
   "outputs": [
    {
     "name": "stderr",
     "output_type": "stream",
     "text": [
      "                                                                                \r"
     ]
    }
   ],
   "source": [
    "from pyspark.ml.feature import MinMaxScaler\n",
    "\n",
    "mmScaler = MinMaxScaler(inputCol='features_unscaled', outputCol='features')\n",
    "mmModel = mmScaler.fit(train)"
   ]
  },
  {
   "cell_type": "code",
   "execution_count": 53,
   "id": "1153826f-9c40-4fff-80d8-f4e9da8d6d4a",
   "metadata": {},
   "outputs": [],
   "source": [
    "trainscaled = mmModel.transform(train)\n",
    "testscaled = mmModel.transform(test)\n",
    "valscaled = mmModel.transform(validation)"
   ]
  },
  {
   "cell_type": "markdown",
   "id": "bbd39b86-9dc3-40ae-87f3-3404bda6357b",
   "metadata": {
    "tags": []
   },
   "source": [
    "#### Check for Imblance in datasets<a id=\"checkimbalance\"></a>"
   ]
  },
  {
   "cell_type": "code",
   "execution_count": 54,
   "id": "089a71c3-259c-4b0b-b0bf-4c5875947fc6",
   "metadata": {},
   "outputs": [
    {
     "name": "stderr",
     "output_type": "stream",
     "text": [
      "                                                                                \r"
     ]
    },
    {
     "name": "stdout",
     "output_type": "stream",
     "text": [
      "+------+-----+\n",
      "|target|count|\n",
      "+------+-----+\n",
      "|     1|97554|\n",
      "|     2|15536|\n",
      "|     0|64766|\n",
      "+------+-----+\n",
      "\n",
      "None\n"
     ]
    },
    {
     "name": "stderr",
     "output_type": "stream",
     "text": [
      "                                                                                \r"
     ]
    },
    {
     "name": "stdout",
     "output_type": "stream",
     "text": [
      "+------+-----+\n",
      "|target|count|\n",
      "+------+-----+\n",
      "|     1|12154|\n",
      "|     2| 1973|\n",
      "|     0| 7964|\n",
      "+------+-----+\n",
      "\n",
      "None\n"
     ]
    },
    {
     "name": "stderr",
     "output_type": "stream",
     "text": [
      "[Stage 509:============================>                            (1 + 1) / 2]\r"
     ]
    },
    {
     "name": "stdout",
     "output_type": "stream",
     "text": [
      "+------+-----+\n",
      "|target|count|\n",
      "+------+-----+\n",
      "|     1|12283|\n",
      "|     2| 1983|\n",
      "|     0| 8080|\n",
      "+------+-----+\n",
      "\n",
      "None\n"
     ]
    },
    {
     "name": "stderr",
     "output_type": "stream",
     "text": [
      "                                                                                \r"
     ]
    }
   ],
   "source": [
    "# Ensuring that datasets are balanced with proportional amounts of targets in each set.\n",
    "\n",
    "print(trainscaled.groupby('target').count().show())\n",
    "print(testscaled.groupby('target').count().show())\n",
    "print(valscaled.groupby('target').count().show())"
   ]
  },
  {
   "cell_type": "markdown",
   "id": "51073350-8e47-495d-ab17-ef9c58b55e52",
   "metadata": {},
   "source": [
    "***\n",
    "[(Return to Table of Contents)](#toc)"
   ]
  },
  {
   "cell_type": "markdown",
   "id": "5c889c47-658e-4d0c-925c-56363eb63b30",
   "metadata": {
    "tags": []
   },
   "source": [
    "## Logistic Regresssion Model<a id=\"logisticregression\"></a>"
   ]
  },
  {
   "cell_type": "markdown",
   "id": "6ad7404e-48cc-454a-b0fb-988b7543c7f3",
   "metadata": {
    "tags": []
   },
   "source": [
    "#### Testing parameters<a id=\"lrparams\"></a>"
   ]
  },
  {
   "cell_type": "code",
   "execution_count": 55,
   "id": "046004f5-a713-424d-8a5b-b3d0cd3eae62",
   "metadata": {},
   "outputs": [],
   "source": [
    "from pyspark.ml.classification import LogisticRegression\n",
    "from pyspark.ml.evaluation import MulticlassClassificationEvaluator"
   ]
  },
  {
   "cell_type": "code",
   "execution_count": 56,
   "id": "de7d15b6-d832-4d35-ab5c-a47f362f2009",
   "metadata": {
    "tags": []
   },
   "outputs": [
    {
     "name": "stderr",
     "output_type": "stream",
     "text": [
      "                                                                                \r"
     ]
    }
   ],
   "source": [
    "# Testing paramteters to optimize model\n",
    "\n",
    "regParams = [0.0001, 0.0005, 0.001, 0.002, 0.003, 0.004, 0.005, 0.006, 0.007, 0.008, 0.009, 0.01,\n",
    "             0.05, 0.1, 0.5, 1.0, 5.0, 10.0]\n",
    "elasticNetParams = [0.1, 0.2, 0.3, 0.4, 0.5, 0.6, 0.7, 0.8, 0.9, 1.0]\n",
    "\n",
    "results = []\n",
    "for r in regParams:\n",
    "    for e in elasticNetParams:\n",
    "        lr = LogisticRegression(featuresCol='features', labelCol='Target', predictionCol='prediction',\n",
    "                                maxIter=10, regParam=r, elasticNetParam=e)\n",
    "        lrModel = lr.fit(trainscaled)\n",
    "        predictVal = lrModel.evaluate(valscaled)\n",
    "        results.append([r, e, predictVal.accuracy, predictVal.weightedFMeasure()])"
   ]
  },
  {
   "cell_type": "code",
   "execution_count": 57,
   "id": "fc874bb9-5d66-43c2-91a5-052f0d129037",
   "metadata": {},
   "outputs": [
    {
     "name": "stdout",
     "output_type": "stream",
     "text": [
      "+--------+---------------+-------------------+------------------+\n",
      "|regParam|elasticNetParam|Validation Accuracy|Validation F Score|\n",
      "+--------+---------------+-------------------+------------------+\n",
      "|  1.0E-4|            0.1| 0.8721023896894299|0.8695201654144367|\n",
      "|  1.0E-4|            0.2| 0.8752796921149198|0.8746723325514909|\n",
      "|  1.0E-4|            0.3| 0.8752796921149198|0.8746723325514909|\n",
      "|  1.0E-4|            0.4| 0.8752349413765327|0.8746279151837562|\n",
      "|  1.0E-4|            0.5| 0.8751901906381455|0.8745856863175521|\n",
      "+--------+---------------+-------------------+------------------+\n",
      "only showing top 5 rows\n",
      "\n"
     ]
    }
   ],
   "source": [
    "resultsDF = spark.createDataFrame(data=results,\n",
    "                                  schema = ['regParam', 'elasticNetParam', 'Validation Accuracy', 'Validation F Score'])\n",
    "resultsDF.show(5)"
   ]
  },
  {
   "cell_type": "markdown",
   "id": "e7df79bb-b63d-4b19-90e1-2de16c560789",
   "metadata": {
    "tags": []
   },
   "source": [
    "#### Fit the model with optimal parameters<a id=\"lrfit\"></a>"
   ]
  },
  {
   "cell_type": "code",
   "execution_count": 58,
   "id": "e000f097-aa4c-4b92-a832-07966729f3e6",
   "metadata": {},
   "outputs": [
    {
     "name": "stderr",
     "output_type": "stream",
     "text": [
      "                                                                                \r"
     ]
    },
    {
     "name": "stdout",
     "output_type": "stream",
     "text": [
      "LR Model Coefficients: \n",
      "DenseMatrix([[ 8.13439736e-01,  1.20235283e+00, -5.55313704e-01,\n",
      "               8.60305846e+00, -6.91012581e+00,  4.00840013e+00,\n",
      "              -3.01977876e+01, -3.00305050e+02],\n",
      "             [ 3.02323948e-01, -0.00000000e+00, -7.19445285e+00,\n",
      "               1.94455926e+00, -1.02259362e-01, -1.80888893e+00,\n",
      "               1.50306950e+01,  4.77062076e+00],\n",
      "             [-1.32808044e+00, -1.57841165e+00,  2.99381542e+00,\n",
      "              -1.69140813e+01,  8.98587529e+00, -1.55633088e+00,\n",
      "               1.62935896e+01,  1.69828764e+02]])\n",
      "LR Model Intercepts: [45.8754073876884,-3.3363947339728597,-42.53901265371553]\n"
     ]
    },
    {
     "name": "stderr",
     "output_type": "stream",
     "text": [
      "[Stage 3440:============================>                           (1 + 1) / 2]\r"
     ]
    },
    {
     "name": "stdout",
     "output_type": "stream",
     "text": [
      "Train Accuracy: 0.8746963835912198\n",
      "False Positive Rate: 0.12600714446134506\n",
      "True Positive Rate: 0.8746963835912199\n",
      "F-measure: 0.8728389376460775\n",
      "Precision: 0.8775886832480038\n",
      "Recall: 0.8746963835912199\n"
     ]
    },
    {
     "name": "stderr",
     "output_type": "stream",
     "text": [
      "                                                                                \r"
     ]
    }
   ],
   "source": [
    "# Fitting model with optimal parameters\n",
    "\n",
    "lr = LogisticRegression(featuresCol='features', labelCol='Target', predictionCol='prediction', \\\n",
    "                        maxIter=10, regParam=0.001, elasticNetParam=1.0)\n",
    "lrModel = lr.fit(trainscaled)\n",
    "\n",
    "print('LR Model Coefficients: \\n' + str(lrModel.coefficientMatrix))\n",
    "print('LR Model Intercepts: ' + str(lrModel.interceptVector))\n",
    "\n",
    "accuracy = lrModel.summary.accuracy\n",
    "falsePositiveRate = lrModel.summary.weightedFalsePositiveRate\n",
    "truePositiveRate = lrModel.summary.weightedTruePositiveRate\n",
    "fMeasure = lrModel.summary.weightedFMeasure()\n",
    "precision = lrModel.summary.weightedPrecision\n",
    "recall = lrModel.summary.weightedRecall\n",
    "\n",
    "print('Train Accuracy: %s\\nFalse Positive Rate: %s\\nTrue Positive Rate: %s\\nF-measure: %s\\nPrecision: %s\\nRecall: %s'\n",
    "      % (accuracy, falsePositiveRate, truePositiveRate, fMeasure, precision, recall))"
   ]
  },
  {
   "cell_type": "markdown",
   "id": "bd9e5696-d064-47a2-89bf-db6e617fa763",
   "metadata": {
    "tags": []
   },
   "source": [
    "#### Results<a id=\"lrresults\"></a>"
   ]
  },
  {
   "cell_type": "code",
   "execution_count": 59,
   "id": "e653cb6b-61b7-4620-b67c-5bb8faa38686",
   "metadata": {},
   "outputs": [
    {
     "name": "stderr",
     "output_type": "stream",
     "text": [
      "[Stage 3442:============================>                           (1 + 1) / 2]\r"
     ]
    },
    {
     "name": "stdout",
     "output_type": "stream",
     "text": [
      "Test Results\n",
      "Accuracy: 0.8743832329908108\n",
      "False Positive Rate: 0.1268795924507358\n",
      "True Positive Rate: 0.8743832329908107\n",
      "F-measure: 0.8724256833444206\n",
      "Precision: 0.8772589883041413\n",
      "Recall: 0.8743832329908107\n"
     ]
    },
    {
     "name": "stderr",
     "output_type": "stream",
     "text": [
      "                                                                                \r"
     ]
    }
   ],
   "source": [
    "# After tuning, print results on test dataset\n",
    "\n",
    "predictTest = lrModel.evaluate(testscaled)\n",
    "accuracy = predictTest.accuracy\n",
    "falsePositiveRate = predictTest.weightedFalsePositiveRate\n",
    "truePositiveRate = predictTest.weightedTruePositiveRate\n",
    "fMeasure = predictTest.weightedFMeasure()\n",
    "precision = predictTest.weightedPrecision\n",
    "recall = predictTest.weightedRecall\n",
    "\n",
    "print('Test Results')\n",
    "print('Accuracy: %s\\nFalse Positive Rate: %s\\nTrue Positive Rate: %s\\nF-measure: %s\\nPrecision: %s\\nRecall: %s'\n",
    "      % (accuracy, falsePositiveRate, truePositiveRate, fMeasure, precision, recall))"
   ]
  },
  {
   "cell_type": "code",
   "execution_count": 60,
   "id": "57e311ab-eb49-4281-825a-67c7abfd271a",
   "metadata": {},
   "outputs": [
    {
     "name": "stdout",
     "output_type": "stream",
     "text": [
      "For label 0 the most important column is R_PHAEO\n",
      "For label 1 the most important column is R_NO2\n",
      "For label 2 the most important column is R_PHAEO\n"
     ]
    }
   ],
   "source": [
    "# Find most important features in model per target value\n",
    "\n",
    "import numpy as np\n",
    "coeff = np.abs(lrModel.coefficientMatrix.toArray())\n",
    "coeff = np.argmax(coeff, axis=1)\n",
    "\n",
    "for i in range(len(coeff)):\n",
    "    print('For label', i, 'the most important column is', valscaled.columns[coeff[i]])"
   ]
  },
  {
   "cell_type": "markdown",
   "id": "1043ae27-20f6-4cd0-bb30-c34ca6ccf3d6",
   "metadata": {},
   "source": [
    "***\n",
    "[(Return to Table of Contents)](#toc)"
   ]
  },
  {
   "cell_type": "markdown",
   "id": "6d01afc4-f7e7-4543-aef6-60d61de295c7",
   "metadata": {
    "tags": []
   },
   "source": [
    "## Decision Tree<a id=\"decisiontree\"></a>"
   ]
  },
  {
   "cell_type": "markdown",
   "id": "eafd8d1c-fa8a-478a-9015-3985eac57ed2",
   "metadata": {},
   "source": [
    "We now run this decision tree model to answer the questions: Can we increase accuracy from previous steps, and which features matter the most to this model?"
   ]
  },
  {
   "cell_type": "markdown",
   "id": "40ce5851-f5dd-4b95-849f-a453f813dfe4",
   "metadata": {
    "tags": []
   },
   "source": [
    "#### Testing parameters<a id=\"dtparams\"></a>"
   ]
  },
  {
   "cell_type": "code",
   "execution_count": 61,
   "id": "6e2b28f3-59ac-478b-a548-6b8d54fc0ddb",
   "metadata": {},
   "outputs": [],
   "source": [
    "from pyspark.ml.classification import DecisionTreeClassifier"
   ]
  },
  {
   "cell_type": "code",
   "execution_count": 62,
   "id": "6535fb22-3b52-4e07-b5e2-fad02af2d682",
   "metadata": {},
   "outputs": [],
   "source": [
    "def calculate_accuracy(df):\n",
    "    correct = df.filter(df['Target'] == df['prediction']).count()\n",
    "    totalRows = df.count()\n",
    "    accuracy = correct/totalRows\n",
    "    return accuracy"
   ]
  },
  {
   "cell_type": "code",
   "execution_count": 63,
   "id": "cb9d2f76-221a-4336-87b5-210f09aa823b",
   "metadata": {},
   "outputs": [
    {
     "name": "stderr",
     "output_type": "stream",
     "text": [
      "                                                                                \r"
     ]
    }
   ],
   "source": [
    "splits = [20000, 10000, 1000, 900, 800, 700, 600, 500, 400, 300, 200, 100, 50, 10]\n",
    "\n",
    "results = []\n",
    "for s in splits:\n",
    "    dt = DecisionTreeClassifier(labelCol='Target', seed=seed, minInstancesPerNode=s)\n",
    "    dtModel = dt.fit(trainscaled)\n",
    "    dtModel.setFeaturesCol('features')\n",
    "    trainResult = dtModel.transform(trainscaled)\n",
    "    valResult =  dtModel.transform(valscaled)\n",
    "    trainAccuracy = calculate_accuracy(trainResult)\n",
    "    valAccuracy = calculate_accuracy(valResult)\n",
    "    results.append([s, trainAccuracy, valAccuracy])"
   ]
  },
  {
   "cell_type": "code",
   "execution_count": 64,
   "id": "81a673b9-f24a-42be-b9bb-0e7d7a137906",
   "metadata": {},
   "outputs": [
    {
     "name": "stdout",
     "output_type": "stream",
     "text": [
      "+------+------------------+-------------------+\n",
      "|Splits|    Train Accuracy|Validation Accuracy|\n",
      "+------+------------------+-------------------+\n",
      "| 20000|0.7890765563152213|  0.788910767027656|\n",
      "| 10000|0.8322744242533285|  0.837733822608073|\n",
      "|  1000|0.8700128193594818| 0.8737581670097556|\n",
      "|   900|0.8702039852464916| 0.8742056743936275|\n",
      "|   800|  0.87085619827276| 0.8746531817774993|\n",
      "|   700|  0.87085619827276| 0.8746531817774993|\n",
      "|   600|0.8723180550557754| 0.8754586950684686|\n",
      "|   500|0.8725879363080244| 0.8754586950684686|\n",
      "|   400|0.8731558114429651| 0.8756376980220174|\n",
      "|   300|  0.87340320259086| 0.8762194576210508|\n",
      "|   200|0.8735493882691616| 0.8766222142665354|\n",
      "|   100|0.8733132421734436| 0.8766222142665354|\n",
      "|    50|0.8733132421734436| 0.8766222142665354|\n",
      "|    10|0.8733132421734436| 0.8766222142665354|\n",
      "+------+------------------+-------------------+\n",
      "\n"
     ]
    }
   ],
   "source": [
    "resultsDF = spark.createDataFrame(data=results, schema = ['Splits', 'Train Accuracy', 'Validation Accuracy'])\n",
    "resultsDF.show()"
   ]
  },
  {
   "cell_type": "markdown",
   "id": "093f82c2-1d0b-426c-9cc1-a0507d0d6a77",
   "metadata": {
    "tags": []
   },
   "source": [
    "#### Fit the model with optimal parameters<a id=\"dtfit\"></a>"
   ]
  },
  {
   "cell_type": "code",
   "execution_count": 65,
   "id": "35ece034-32e2-4be4-a5fe-84a2f265e3bc",
   "metadata": {},
   "outputs": [
    {
     "name": "stderr",
     "output_type": "stream",
     "text": [
      "[Stage 3872:============================>                           (1 + 1) / 2]\r"
     ]
    },
    {
     "name": "stdout",
     "output_type": "stream",
     "text": [
      "Decision Tree Accuracy Score:  0.8729346792811552\n"
     ]
    },
    {
     "name": "stderr",
     "output_type": "stream",
     "text": [
      "                                                                                \r"
     ]
    }
   ],
   "source": [
    "# Fitting model with optimized parameter\n",
    "s = 300\n",
    "dt = DecisionTreeClassifier(labelCol='Target', seed=seed, minInstancesPerNode=s)\n",
    "dtModel = dt.fit(trainscaled)\n",
    "dtModel.setFeaturesCol('features')\n",
    "testResult = dtModel.transform(testscaled)\n",
    "testAccuracy = calculate_accuracy(testResult)\n",
    "print('Decision Tree Accuracy Score: ', testAccuracy)"
   ]
  },
  {
   "cell_type": "markdown",
   "id": "d764ecce-05f9-41fe-8640-7b2eb0f5c8c2",
   "metadata": {
    "tags": []
   },
   "source": [
    "#### Results<a id=\"dtresults\"></a>"
   ]
  },
  {
   "cell_type": "code",
   "execution_count": 66,
   "id": "25588b1e-1ba9-4cae-abe6-8b412c7a8c68",
   "metadata": {},
   "outputs": [
    {
     "name": "stdout",
     "output_type": "stream",
     "text": [
      "Model Depth:  5\n",
      "Model Number of Nodes:  37\n"
     ]
    }
   ],
   "source": [
    "print('Model Depth: ', dtModel.depth)\n",
    "print('Model Number of Nodes: ', dtModel.numNodes)"
   ]
  },
  {
   "cell_type": "code",
   "execution_count": 67,
   "id": "ea6993fd-f1c8-4b38-b3a9-785e89a19c83",
   "metadata": {},
   "outputs": [
    {
     "name": "stdout",
     "output_type": "stream",
     "text": [
      "Feature Importance:  (8,[1,3,4,7],[0.6096191254066429,0.030217862489867225,0.010688923022960848,0.3494740890805291])\n"
     ]
    }
   ],
   "source": [
    "print('Feature Importance: ', dtModel.featureImportances)"
   ]
  },
  {
   "cell_type": "markdown",
   "id": "586fec1e-a040-459b-ae87-e62cf75abc1b",
   "metadata": {},
   "source": [
    "The indeces [1,3,4,5,7] align with ['R_TEMP', 'R_DYNHT', 'R_O2Sat', 'R_NO3', 'R_PHAEO'], meaning these are the most important features (in order) to the decision tree model."
   ]
  },
  {
   "cell_type": "markdown",
   "id": "baa228f7-a545-4030-93f1-3181866d9057",
   "metadata": {},
   "source": [
    "# Stop spark session<a id=\"stop\"></a>"
   ]
  },
  {
   "cell_type": "code",
   "execution_count": 68,
   "id": "dedc9fc6-00f3-47f3-b000-999606396517",
   "metadata": {},
   "outputs": [],
   "source": [
    "spark.stop()"
   ]
  },
  {
   "cell_type": "code",
   "execution_count": null,
   "id": "b7535758-cb7e-4f67-bf8c-ee1312d9d71e",
   "metadata": {},
   "outputs": [],
   "source": []
  }
 ],
 "metadata": {
  "kernelspec": {
   "display_name": "Python 3 (ipykernel)",
   "language": "python",
   "name": "python3"
  },
  "language_info": {
   "codemirror_mode": {
    "name": "ipython",
    "version": 3
   },
   "file_extension": ".py",
   "mimetype": "text/x-python",
   "name": "python",
   "nbconvert_exporter": "python",
   "pygments_lexer": "ipython3",
   "version": "3.8.10"
  }
 },
 "nbformat": 4,
 "nbformat_minor": 5
}
