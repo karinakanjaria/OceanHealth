{
 "cells": [
  {
   "cell_type": "markdown",
   "id": "fceedc51-b906-4aad-ae24-922401a8a6ca",
   "metadata": {},
   "source": [
    "# CalCOFI\n",
    "### Over 60 years of oceanographic data\n",
    "#### Dataset: https://www.kaggle.com/datasets/sohier/calcofi\n",
    "#### Table Info: https://calcofi.org/data/oceanographic-data/bottle-database/"
   ]
  },
  {
   "cell_type": "markdown",
   "id": "29acbab4-a9db-4185-acc5-ca30d8529331",
   "metadata": {},
   "source": [
    "## EDA and Data Preparation"
   ]
  },
  {
   "cell_type": "markdown",
   "id": "aa9f2d50-db24-4988-852b-803f9f4c1cb2",
   "metadata": {},
   "source": [
    "#### Load Data"
   ]
  },
  {
   "cell_type": "code",
   "execution_count": null,
   "id": "157f41db-c8b0-4f58-b55c-ea8902313802",
   "metadata": {},
   "outputs": [],
   "source": [
    "import pyspark\n",
    "from pyspark.sql import SparkSession\n",
    "\n",
    "conf = pyspark.SparkConf().setAll([\n",
    "    ('spark.master', 'local[1]'), \n",
    "    ('spark.app.name', 'App Name')])\n",
    "    \n",
    "spark = SparkSession.builder.config(conf=conf).getOrCreate()\n",
    "spark.version"
   ]
  },
  {
   "cell_type": "code",
   "execution_count": null,
   "id": "b8f6f5c2-1440-4cf2-9cae-ab3c320a4a8f",
   "metadata": {},
   "outputs": [],
   "source": [
    "bottle = spark.read.csv(\"file:///home/work/Final/data/bottle.csv\", header=True).cache()\n",
    "bottle.count()"
   ]
  },
  {
   "cell_type": "code",
   "execution_count": null,
   "id": "7ec73277-70bd-4484-8a40-679a204d3297",
   "metadata": {},
   "outputs": [],
   "source": [
    "cast = spark.read.csv(\"file:///home/work/Final/data/cast.csv\", header=True).cache()\n",
    "cast.count()"
   ]
  },
  {
   "cell_type": "code",
   "execution_count": null,
   "id": "a5b549a1-17a7-4e3c-b00e-44d029c5651e",
   "metadata": {},
   "outputs": [],
   "source": [
    "bottle.printSchema()"
   ]
  },
  {
   "cell_type": "code",
   "execution_count": null,
   "id": "4d8d39c7-236f-434f-8964-5f4e65321651",
   "metadata": {},
   "outputs": [],
   "source": [
    "cast.printSchema()"
   ]
  },
  {
   "cell_type": "code",
   "execution_count": null,
   "id": "2f9c310a-7bc4-42ed-9e77-08c50a638897",
   "metadata": {},
   "outputs": [],
   "source": [
    "bottle.show(2)"
   ]
  },
  {
   "cell_type": "code",
   "execution_count": null,
   "id": "3daec12f-f323-44c8-aaf7-11fa918d0eeb",
   "metadata": {},
   "outputs": [],
   "source": [
    "cast.show(2)"
   ]
  },
  {
   "cell_type": "markdown",
   "id": "62375da2-864f-4965-a91d-17f5a6bb64bd",
   "metadata": {},
   "source": [
    "#### Remove columns with low data count"
   ]
  },
  {
   "cell_type": "code",
   "execution_count": null,
   "id": "79bb0aab-7d44-4ec1-9c71-39929506fa89",
   "metadata": {},
   "outputs": [],
   "source": []
  },
  {
   "cell_type": "markdown",
   "id": "53adead5-6e3e-4922-be5e-aa174e875a4b",
   "metadata": {},
   "source": [
    "#### Remove/Fill Null Values"
   ]
  },
  {
   "cell_type": "code",
   "execution_count": null,
   "id": "35759665-9e24-4222-b2ed-c37722216abf",
   "metadata": {},
   "outputs": [],
   "source": []
  },
  {
   "cell_type": "markdown",
   "id": "f8bd0c64-b9f9-4bc2-9ca0-43c52572cd5d",
   "metadata": {},
   "source": [
    "#### Remove columns that are not needed"
   ]
  },
  {
   "cell_type": "code",
   "execution_count": null,
   "id": "3cb638b3-e274-43c1-9ccb-10556b29e96c",
   "metadata": {},
   "outputs": [],
   "source": []
  },
  {
   "cell_type": "markdown",
   "id": "19572ed7-aa1b-49f4-ac37-5dd68db3a20c",
   "metadata": {},
   "source": [
    "#### Handle quality values"
   ]
  },
  {
   "cell_type": "code",
   "execution_count": null,
   "id": "4133d539-b5c4-40e5-bd19-f832f93d548b",
   "metadata": {},
   "outputs": [],
   "source": []
  },
  {
   "cell_type": "markdown",
   "id": "fa3b0dee-783a-4463-b73b-be6883526fe0",
   "metadata": {},
   "source": [
    "#### Make sure column values are the right type"
   ]
  },
  {
   "cell_type": "code",
   "execution_count": null,
   "id": "9b7e21c2-f13f-4272-a3d4-8fb858aad8b5",
   "metadata": {},
   "outputs": [],
   "source": []
  },
  {
   "cell_type": "markdown",
   "id": "72eeecac-6666-4f14-82ab-e8f0acad2871",
   "metadata": {},
   "source": [
    "#### Summary Statistics and graphs"
   ]
  },
  {
   "cell_type": "code",
   "execution_count": null,
   "id": "3ff7833e-cdf2-40c6-9034-68580c4792d0",
   "metadata": {},
   "outputs": [],
   "source": []
  },
  {
   "cell_type": "markdown",
   "id": "7251cc71-1429-431e-a02d-be9dcbf6cc97",
   "metadata": {
    "tags": []
   },
   "source": [
    "## Questions"
   ]
  },
  {
   "cell_type": "markdown",
   "id": "7c2351ad-7933-42e5-941e-8060272483b3",
   "metadata": {},
   "source": [
    "#### Which factors are chlorophyll levels most dependent on?\n",
    "#### Can we use these factors as features in a model that accurately predict chlorophyll levels in a marine ecosystem?\n",
    "#### Can these few, simple, measurable factors we found indicate whether an ocean ecosystem is healthy and sustainable based on the chlorophyll abundance measured?\n",
    "#### Can we predict chlorophyll abundance without having to measure it?"
   ]
  },
  {
   "cell_type": "code",
   "execution_count": null,
   "id": "1b1f1ed9-61bb-4724-b198-fd90121127e9",
   "metadata": {},
   "outputs": [],
   "source": []
  },
  {
   "cell_type": "markdown",
   "id": "2b6779b1-c4c1-4527-b8f3-e554a5b67756",
   "metadata": {},
   "source": [
    "## Feature Selection and Target Cleaning"
   ]
  },
  {
   "cell_type": "markdown",
   "id": "a37d2dff-7ab8-4b77-ab04-f7e155558db2",
   "metadata": {},
   "source": [
    "#### Distribution of data for cholorophyll levels, summary stats/graphs"
   ]
  },
  {
   "cell_type": "code",
   "execution_count": null,
   "id": "00a00435-d31b-468e-b2a2-de4e563ed908",
   "metadata": {},
   "outputs": [],
   "source": []
  },
  {
   "cell_type": "markdown",
   "id": "a9025425-d4b7-46ac-959c-ce50eae390d7",
   "metadata": {},
   "source": [
    "#### Define cholorophyll category levels: low, medium, high?"
   ]
  },
  {
   "cell_type": "code",
   "execution_count": null,
   "id": "998057dd-08f1-4983-8aa8-672b8a542e0d",
   "metadata": {},
   "outputs": [],
   "source": []
  },
  {
   "cell_type": "markdown",
   "id": "d75e5a20-33d3-44d4-af6b-99d598adf662",
   "metadata": {},
   "source": [
    "#### Map cholorophyll levels to defined categories and output graphs/summary stats"
   ]
  },
  {
   "cell_type": "code",
   "execution_count": null,
   "id": "301b454b-10ea-4fd5-94ba-f7d6a5fc2d36",
   "metadata": {},
   "outputs": [],
   "source": []
  },
  {
   "cell_type": "markdown",
   "id": "b1bbc000-c8ff-4b0b-a634-9a856118bfc1",
   "metadata": {},
   "source": [
    "#### Add target column with category label to dataframe"
   ]
  },
  {
   "cell_type": "code",
   "execution_count": null,
   "id": "772d6e66-5add-460e-8070-5997fcc2a78c",
   "metadata": {},
   "outputs": [],
   "source": []
  },
  {
   "cell_type": "markdown",
   "id": "c47c2f01-aa1e-4b4e-a85c-02a962a12bc8",
   "metadata": {},
   "source": [
    "#### PCA columns that are duplicates"
   ]
  },
  {
   "cell_type": "code",
   "execution_count": null,
   "id": "6938135b-6a90-435f-bbc0-dba3bc60d327",
   "metadata": {},
   "outputs": [],
   "source": []
  },
  {
   "cell_type": "markdown",
   "id": "6fd5a1d0-dbda-442d-a5d2-04a4164981db",
   "metadata": {},
   "source": [
    "#### Heat Map to see any less obvious columns that are highly correlated"
   ]
  },
  {
   "cell_type": "code",
   "execution_count": null,
   "id": "a15425e4-1bf0-41c5-b27e-6c39390cfcff",
   "metadata": {},
   "outputs": [],
   "source": []
  },
  {
   "cell_type": "markdown",
   "id": "4538fa78-8dbd-43b0-93d6-7bbb124d022f",
   "metadata": {},
   "source": [
    "#### If necessary, lasso to find the most important 10 features (columns)"
   ]
  },
  {
   "cell_type": "code",
   "execution_count": null,
   "id": "f8d3aaba-6f35-4291-9a6e-b263a657bdc7",
   "metadata": {},
   "outputs": [],
   "source": []
  },
  {
   "cell_type": "markdown",
   "id": "c034c3bf-3915-49a0-afd8-6241cd2c2b3d",
   "metadata": {},
   "source": [
    "#### Select features to be used for training"
   ]
  },
  {
   "cell_type": "code",
   "execution_count": null,
   "id": "89454817-571c-457f-8c99-27713f6814fd",
   "metadata": {},
   "outputs": [],
   "source": []
  },
  {
   "cell_type": "markdown",
   "id": "f2eee978-81f7-4247-8274-ed0bfee2475e",
   "metadata": {},
   "source": [
    "## Models"
   ]
  },
  {
   "cell_type": "markdown",
   "id": "ca7281a0-e86c-4bca-9538-b6b3241ead44",
   "metadata": {},
   "source": [
    "#### Split data into 80/10/10 train, test, validation set"
   ]
  },
  {
   "cell_type": "code",
   "execution_count": null,
   "id": "6439c2b3-680a-4e3c-b133-9fef00caaa82",
   "metadata": {},
   "outputs": [],
   "source": []
  },
  {
   "cell_type": "markdown",
   "id": "5c889c47-658e-4d0c-925c-56363eb63b30",
   "metadata": {},
   "source": [
    "### Logistic Regresssion"
   ]
  },
  {
   "cell_type": "markdown",
   "id": "4f13a7a1-159a-414f-8a83-af57ec319ce4",
   "metadata": {},
   "source": [
    "#### Check to see if data can be used to predict the lables"
   ]
  },
  {
   "cell_type": "code",
   "execution_count": null,
   "id": "4c47f6cb-81ab-4f1d-93c9-4b6be5dbf473",
   "metadata": {},
   "outputs": [],
   "source": []
  },
  {
   "cell_type": "markdown",
   "id": "be9f02af-96a0-4ded-9229-452e1289135d",
   "metadata": {},
   "source": [
    "#### Train and Test Accuracy Scores"
   ]
  },
  {
   "cell_type": "code",
   "execution_count": null,
   "id": "a4af4c09-c045-41ef-aaf4-ca744ebb047e",
   "metadata": {},
   "outputs": [],
   "source": []
  },
  {
   "cell_type": "markdown",
   "id": "6d01afc4-f7e7-4543-aef6-60d61de295c7",
   "metadata": {},
   "source": [
    "### AdaBoost Decision Tree"
   ]
  },
  {
   "cell_type": "markdown",
   "id": "eafd8d1c-fa8a-478a-9015-3985eac57ed2",
   "metadata": {},
   "source": [
    "#### "
   ]
  },
  {
   "cell_type": "code",
   "execution_count": null,
   "id": "6e2b28f3-59ac-478b-a548-6b8d54fc0ddb",
   "metadata": {},
   "outputs": [],
   "source": []
  },
  {
   "cell_type": "markdown",
   "id": "d614daaf-33d2-48d1-beb1-fd9a663f9f18",
   "metadata": {},
   "source": [
    "#### Train and Test Accuracy Scores"
   ]
  },
  {
   "cell_type": "code",
   "execution_count": null,
   "id": "568dde7a-6200-4686-98bc-e2f00be393ba",
   "metadata": {},
   "outputs": [],
   "source": []
  }
 ],
 "metadata": {
  "kernelspec": {
   "display_name": "Python 3 (ipykernel)",
   "language": "python",
   "name": "python3"
  },
  "language_info": {
   "codemirror_mode": {
    "name": "ipython",
    "version": 3
   },
   "file_extension": ".py",
   "mimetype": "text/x-python",
   "name": "python",
   "nbconvert_exporter": "python",
   "pygments_lexer": "ipython3",
   "version": "3.9.10"
  }
 },
 "nbformat": 4,
 "nbformat_minor": 5
}
