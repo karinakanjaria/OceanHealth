{
 "cells": [
  {
   "cell_type": "markdown",
   "id": "fceedc51-b906-4aad-ae24-922401a8a6ca",
   "metadata": {},
   "source": [
    "# CalCOFI\n",
    "## Over 60 years of oceanographic data"
   ]
  },
  {
   "cell_type": "markdown",
   "id": "29acbab4-a9db-4185-acc5-ca30d8529331",
   "metadata": {},
   "source": [
    "### EDA"
   ]
  },
  {
   "cell_type": "code",
   "execution_count": null,
   "id": "157f41db-c8b0-4f58-b55c-ea8902313802",
   "metadata": {},
   "outputs": [],
   "source": []
  }
 ],
 "metadata": {
  "kernelspec": {
   "display_name": "Python 3 (ipykernel)",
   "language": "python",
   "name": "python3"
  },
  "language_info": {
   "codemirror_mode": {
    "name": "ipython",
    "version": 3
   },
   "file_extension": ".py",
   "mimetype": "text/x-python",
   "name": "python",
   "nbconvert_exporter": "python",
   "pygments_lexer": "ipython3",
   "version": "3.9.10"
  }
 },
 "nbformat": 4,
 "nbformat_minor": 5
}
